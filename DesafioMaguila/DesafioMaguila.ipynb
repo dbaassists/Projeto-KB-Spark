{
 "cells": [
  {
   "cell_type": "code",
   "execution_count": 1,
   "id": "83e46541",
   "metadata": {},
   "outputs": [],
   "source": [
    "import sys\n",
    "import requests\n",
    "import pandas as pd\n",
    "import json\n",
    "import pyspark.sql.functions as F #import explode_outer, col\n",
    "from pyspark.sql.types import *\n",
    "import os\n",
    "from pyspark.sql import SparkSession\n",
    "from pyspark.sql.functions import *\n",
    "from pyspark import SparkConf\n",
    "from pyspark import SparkContext\n",
    "import urllib\n",
    "from sqlalchemy import __version__ as sa_version, create_engine, text\n"
   ]
  },
  {
   "cell_type": "code",
   "execution_count": 2,
   "id": "bda76a95",
   "metadata": {},
   "outputs": [],
   "source": [
    "spark = SparkSession.builder.getOrCreate()"
   ]
  },
  {
   "cell_type": "code",
   "execution_count": 3,
   "id": "9ffb2e4d",
   "metadata": {},
   "outputs": [],
   "source": [
    "arquivo = '../DesafioMaguila/DisputasFlamengo.csv'"
   ]
  },
  {
   "cell_type": "code",
   "execution_count": 7,
   "id": "7b5f308b",
   "metadata": {},
   "outputs": [
    {
     "name": "stdout",
     "output_type": "stream",
     "text": [
      "root\n",
      " |-- Ano: integer (nullable = true)\n",
      " |-- NomCampeonato: string (nullable = true)\n",
      " |-- DscSituacao: string (nullable = true)\n",
      "\n",
      "+----+---------------------+-----------+\n",
      "|Ano |NomCampeonato        |DscSituacao|\n",
      "+----+---------------------+-----------+\n",
      "|2019|Campeonato Carioca   |Ganhou     |\n",
      "|2019|Copa do Brasil       |Perdeu     |\n",
      "|2019|Copa Libertadores    |Ganhou     |\n",
      "|2019|Campeonato Brasileiro|Ganhou     |\n",
      "|2019|Florida CupÂ         |Ganhou     |\n",
      "|2019|Mundial de Clubes    |Perdeu     |\n",
      "|2019|TaÃ§a Guanabara      |Perdeu     |\n",
      "|2019|TaÃ§a Rio            |Ganhou     |\n",
      "|2020|Campeonato Carioca   |Ganhou     |\n",
      "|2020|Copa do Brasil       |Perdeu     |\n",
      "|2020|Copa Libertadores    |Perdeu     |\n",
      "|2020|Campeonato Brasileiro|Ganhou     |\n",
      "|2020|Recopa Sul-Americana |Ganhou     |\n",
      "|2020|Supercopa do Brasil  |Ganhou     |\n",
      "|2020|TaÃ§a Guanabara      |Ganhou     |\n",
      "|2020|TaÃ§a Rio            |Perdeu     |\n",
      "|2021|Campeonato Carioca   |Ganhou     |\n",
      "|2021|Copa do Brasil       |Perdeu     |\n",
      "|2021|Copa Libertadores    |Perdeu     |\n",
      "|2021|Campeonato Brasileiro|Perdeu     |\n",
      "|2021|Supercopa do Brasil  |Ganhou     |\n",
      "|2021|TaÃ§a Guanabara      |Ganhou     |\n",
      "|2021|TaÃ§a Rio            |Perdeu     |\n",
      "|2022|Campeonato Carioca   |Perdeu     |\n",
      "|2022|Copa do Brasil       |Ganhou     |\n",
      "|2022|Copa Libertadores    |Ganhou     |\n",
      "|2022|Campeonato Brasileiro|Perdeu     |\n",
      "|2023|Super Copa           |Perdeu     |\n",
      "|2023|Mundial de Clube     |Perdeu     |\n",
      "+----+---------------------+-----------+\n",
      "\n"
     ]
    }
   ],
   "source": [
    "\n",
    "schema = StructType() \\\n",
    "      .add(\"Ano\",IntegerType(),True) \\\n",
    "      .add(\"NomCampeonato\",StringType(),True) \\\n",
    "      .add(\"DscSituacao\",StringType(),True)\n",
    "\n",
    "\n",
    "df_desafio = spark.read.options(inferSchema='False'\n",
    "                                    , delimiter=';'\n",
    "                                    , encoding=\"windows-1252\") \\\n",
    "                                    .schema(schema) \\\n",
    "                                    .csv(arquivo)\n",
    "\n",
    "df_desafio.printSchema()\n",
    "\n",
    "df_desafio.show(50,truncate=False)"
   ]
  },
  {
   "cell_type": "code",
   "execution_count": 8,
   "id": "ea4b4be1",
   "metadata": {},
   "outputs": [
    {
     "name": "stdout",
     "output_type": "stream",
     "text": [
      "+----+------+------+\n",
      "| Ano|Ganhou|Perdeu|\n",
      "+----+------+------+\n",
      "|2019|     5|     3|\n",
      "|2020|     5|     3|\n",
      "|2021|     3|     4|\n",
      "|2022|     2|     2|\n",
      "|2023|     0|     2|\n",
      "+----+------+------+\n",
      "\n",
      "+----+------+------+-----------------------------------+\n",
      "|Ano |Ganhou|Perdeu|Observacao                         |\n",
      "+----+------+------+-----------------------------------+\n",
      "|2019|5     |3     |Ano Vencedor!                      |\n",
      "|2020|5     |3     |Ano Vencedor!                      |\n",
      "|2021|3     |4     |Um Ano não tão Vencedor!           |\n",
      "|2022|2     |2     |Número de Vitórias e Derrotas IGUAL|\n",
      "|2023|0     |2     |Um Ano não tão Vencedor!           |\n",
      "+----+------+------+-----------------------------------+\n",
      "\n"
     ]
    }
   ],
   "source": [
    "df = df_desafio.groupby('Ano') \\\n",
    "                    .pivot(\"DscSituacao\") \\\n",
    "                    .agg(count('DscSituacao') \\\n",
    "                    .alias('Total')) \\\n",
    "                    .sort('Ano') \\\n",
    "                    .fillna(0) \n",
    "\n",
    "\n",
    "df.show()\n",
    "\n",
    "df.select('Ano','Ganhou','Perdeu',expr(\"\"\"CASE WHEN Ganhou = Perdeu THEN 'Número de Vitórias e Derrotas IGUAL'\n",
    "                                       WHEN Ganhou > Perdeu THEN 'Ano Vencedor!'\n",
    "                                       WHEN Perdeu > Ganhou THEN 'Um Ano não tão Vencedor!'\n",
    "                                       END\"\"\").alias('Observacao')) \\\n",
    "                                    .show(truncate=False)"
   ]
  },
  {
   "cell_type": "code",
   "execution_count": 10,
   "id": "857a48ba",
   "metadata": {},
   "outputs": [
    {
     "name": "stdout",
     "output_type": "stream",
     "text": [
      "+-----------+-----+\n",
      "|DscSituacao|Total|\n",
      "+-----------+-----+\n",
      "|     Perdeu|   14|\n",
      "|     Ganhou|   15|\n",
      "+-----------+-----+\n",
      "\n"
     ]
    }
   ],
   "source": [
    "df = df_desafio.groupBy('DscSituacao') \\\n",
    "                    .agg(count('DscSituacao') \\\n",
    "                    .alias('Total')) \\\n",
    "                    .show()"
   ]
  }
 ],
 "metadata": {
  "kernelspec": {
   "display_name": "Python 3 (ipykernel)",
   "language": "python",
   "name": "python3"
  },
  "language_info": {
   "codemirror_mode": {
    "name": "ipython",
    "version": 3
   },
   "file_extension": ".py",
   "mimetype": "text/x-python",
   "name": "python",
   "nbconvert_exporter": "python",
   "pygments_lexer": "ipython3",
   "version": "3.9.12"
  }
 },
 "nbformat": 4,
 "nbformat_minor": 5
}
