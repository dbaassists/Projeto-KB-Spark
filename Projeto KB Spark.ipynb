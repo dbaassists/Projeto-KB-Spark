{
 "cells": [
  {
   "cell_type": "markdown",
   "id": "cabd6c3d",
   "metadata": {},
   "source": [
    "* Criado por: Gabriel Quintella\n",
    "* Data Criação: 24.01.2023\n",
    "* Data Última Modificação: 26.01.2023\n",
    "* Repositório: https://github.com/dbaassists/Projeto-KB-Spark/blob/main/Projeto%20KB%20Spark.ipynb\n",
    "\n",
    "DESCRIÇÃO DO PROJETO\n",
    "\n",
    "Criar uma base de conhecimento (KB) com comandos pyspark.\n",
    "\n",
    "*  Dia 1 - 24.01.2023 - Lançamento do Projeto;\n",
    "*  Dia 2 - 26.01.2023 - Aprimoramento do Projeto com melhoria nos exemplos criados;\n",
    "\n"
   ]
  },
  {
   "cell_type": "markdown",
   "id": "9e6bd8d0",
   "metadata": {},
   "source": [
    " Sumário\n",
    "\n",
    "* 01 - Instalação da Biblioteca PySpark\n",
    "* 02 - Definição de Bibliotecas\n",
    "* 03 - Importando Arquivo CSV\n",
    "* 04 - Transformando o DataFrame Spark em Tabela Temporária\n",
    "* 05 - Consultando a Estrutura do DataFrame Spark\n",
    "* 06 - Lendo a Tabela e Transformando em outro DataFrame Spark\n",
    "* 07 - Convertendo o DataType de uma Coluna de um DataFrame Spark\n",
    "* 08 - Convertendo o DataType e Criando uma nova Coluna de um DataFrame Spark\n",
    "* 09 - Renomeando uma Coluna em DataFrame Spark\n",
    "* 10 - Renomeando Várias Colunas em DataFrame Spark\n",
    "* 11 - Ordenando um DataFrame Spark\n"
   ]
  },
  {
   "cell_type": "markdown",
   "id": "3de70961",
   "metadata": {},
   "source": [
    "# 01 - Instalação da Biblioteca PySpark"
   ]
  },
  {
   "cell_type": "code",
   "execution_count": 1,
   "id": "6cbd34d8",
   "metadata": {},
   "outputs": [],
   "source": [
    "#pip install pyspark"
   ]
  },
  {
   "cell_type": "markdown",
   "id": "485f992f",
   "metadata": {},
   "source": [
    "# 02 - Definição de Bibliotecas"
   ]
  },
  {
   "cell_type": "code",
   "execution_count": 2,
   "id": "f44ba938",
   "metadata": {},
   "outputs": [],
   "source": [
    "import sys\n",
    "import requests\n",
    "import pandas as pd\n",
    "import json\n",
    "import pyspark.sql.functions as F #import explode_outer, col\n",
    "from pyspark.sql.types import *\n",
    "import os\n",
    "from pyspark.sql import SparkSession\n",
    "from pyspark.sql.functions import *\n",
    "from pyspark import SparkConf\n",
    "from pyspark import SparkContext\n",
    "import urllib\n",
    "from sqlalchemy import __version__ as sa_version, create_engine, text\n"
   ]
  },
  {
   "cell_type": "markdown",
   "id": "601c08c7",
   "metadata": {},
   "source": [
    "# 03 - Importando Arquivo CSV"
   ]
  },
  {
   "cell_type": "code",
   "execution_count": 3,
   "id": "48492cb3",
   "metadata": {},
   "outputs": [
    {
     "name": "stdout",
     "output_type": "stream",
     "text": [
      "+----------+\n",
      "|DT_GERACAO|\n",
      "+----------+\n",
      "|21/01/2023|\n",
      "|21/01/2023|\n",
      "|21/01/2023|\n",
      "|21/01/2023|\n",
      "|21/01/2023|\n",
      "|21/01/2023|\n",
      "|21/01/2023|\n",
      "|21/01/2023|\n",
      "|21/01/2023|\n",
      "|21/01/2023|\n",
      "|21/01/2023|\n",
      "|21/01/2023|\n",
      "|21/01/2023|\n",
      "|21/01/2023|\n",
      "|21/01/2023|\n",
      "|21/01/2023|\n",
      "|21/01/2023|\n",
      "|21/01/2023|\n",
      "|21/01/2023|\n",
      "|21/01/2023|\n",
      "+----------+\n",
      "only showing top 20 rows\n",
      "\n",
      "+----------+----------+-----------+---------------+-----------------+--------+----------+------------------------------+----------+--------------+-----+-----+-----------------+--------+-----------------+------------+------------+-------------------------------------------+-----------------------------+-------------------+----------------+--------------+-----------------------+-----------------------+------------------------+------------------------+---------------+----------+-------------+----------------------------------------+------------+------------------------+--------------+-----------------------+------------+---------------+-----------------------+----------------+----------------+----------------+-----------------------+-----------------------+-------------+-------------------+-----------------------------+---------+---------+-----------------+-----------------------------+---------------+---------------+-----------+-----------+-----------+------------------------------------+-----------------------+----------------+----------------+------------+----------------+------------------------+--------------------+----------------------------+----------------------------+--------------------------+--------------------------+--------------------------+------------------------+-------------------------+-------------------------+---------------+\n",
      "|DT_GERACAO|HH_GERACAO|ANO_ELEICAO|CD_TIPO_ELEICAO|NM_TIPO_ELEICAO  |NR_TURNO|CD_ELEICAO|DS_ELEICAO                    |DT_ELEICAO|TP_ABRANGENCIA|SG_UF|SG_UE|NM_UE            |CD_CARGO|DS_CARGO         |SQ_CANDIDATO|NR_CANDIDATO|NM_CANDIDATO                               |NM_URNA_CANDIDATO            |NM_SOCIAL_CANDIDATO|NR_CPF_CANDIDATO|NM_EMAIL      |CD_SITUACAO_CANDIDATURA|DS_SITUACAO_CANDIDATURA|CD_DETALHE_SITUACAO_CAND|DS_DETALHE_SITUACAO_CAND|TP_AGREMIACAO  |NR_PARTIDO|SG_PARTIDO   |NM_PARTIDO                              |NR_FEDERACAO|NM_FEDERACAO            |SG_FEDERACAO  |DS_COMPOSICAO_FEDERACAO|SQ_COLIGACAO|NM_COLIGACAO   |DS_COMPOSICAO_COLIGACAO|CD_NACIONALIDADE|DS_NACIONALIDADE|SG_UF_NASCIMENTO|CD_MUNICIPIO_NASCIMENTO|NM_MUNICIPIO_NASCIMENTO|DT_NASCIMENTO|NR_IDADE_DATA_POSSE|NR_TITULO_ELEITORAL_CANDIDATO|CD_GENERO|DS_GENERO|CD_GRAU_INSTRUCAO|DS_GRAU_INSTRUCAO            |CD_ESTADO_CIVIL|DS_ESTADO_CIVIL|CD_COR_RACA|DS_COR_RACA|CD_OCUPACAO|DS_OCUPACAO                         |VR_DESPESA_MAX_CAMPANHA|CD_SIT_TOT_TURNO|DS_SIT_TOT_TURNO|ST_REELEICAO|ST_DECLARAR_BENS|NR_PROTOCOLO_CANDIDATURA|NR_PROCESSO         |CD_SITUACAO_CANDIDATO_PLEITO|DS_SITUACAO_CANDIDATO_PLEITO|CD_SITUACAO_CANDIDATO_URNA|DS_SITUACAO_CANDIDATO_URNA|ST_CANDIDATO_INSERIDO_URNA|NM_TIPO_DESTINACAO_VOTOS|CD_SITUACAO_CANDIDATO_TOT|DS_SITUACAO_CANDIDATO_TOT|ST_PREST_CONTAS|\n",
      "+----------+----------+-----------+---------------+-----------------+--------+----------+------------------------------+----------+--------------+-----+-----+-----------------+--------+-----------------+------------+------------+-------------------------------------------+-----------------------------+-------------------+----------------+--------------+-----------------------+-----------------------+------------------------+------------------------+---------------+----------+-------------+----------------------------------------+------------+------------------------+--------------+-----------------------+------------+---------------+-----------------------+----------------+----------------+----------------+-----------------------+-----------------------+-------------+-------------------+-----------------------------+---------+---------+-----------------+-----------------------------+---------------+---------------+-----------+-----------+-----------+------------------------------------+-----------------------+----------------+----------------+------------+----------------+------------------------+--------------------+----------------------------+----------------------------+--------------------------+--------------------------+--------------------------+------------------------+-------------------------+-------------------------+---------------+\n",
      "|21/01/2023|18:38:33  |2022       |2              |ELEI��O ORDIN�RIA|1       |546       |Elei��es Gerais Estaduais 2022|02/10/2022|ESTADUAL      |CE   |CE   |CEAR�            |7       |DEPUTADO ESTADUAL|60001613096 |50011       |TONY BEZERRA DE SOUSA                      |TONY IN�CIO SHOW             |#NULO#             |12055010450     |N�O DIVULG�VEL|12                     |APTO                   |2                       |DEFERIDO                |FEDERA��O      |50        |PSOL         |PARTIDO SOCIALISMO E LIBERDADE          |3           |Federa��o PSOL REDE     |PSOL/REDE     |PSOL/REDE              |60001681655 |FEDERA��O      |PSOL/REDE              |1               |BRASILEIRA NATA |CE              |-3                     |FORTALEZA              |25/12/1995   |27                 |044356531260                 |2        |MASCULINO|7                |SUPERIOR INCOMPLETO          |1              |SOLTEIRO(A)    |01         |BRANCA     |163        |CANTOR E COMPOSITOR                 |1270629.01             |5               |SUPLENTE        |N           |N               |-1                      |06005353420226060000|2                           |DEFERIDO                    |2                         |DEFERIDO                  |SIM                       |V�lido                  |2                        |Deferido                 |S              |\n",
      "|21/01/2023|18:38:33  |2022       |2              |ELEI��O ORDIN�RIA|1       |546       |Elei��es Gerais Estaduais 2022|02/10/2022|ESTADUAL      |RJ   |RJ   |RIO DE JANEIRO   |7       |DEPUTADO ESTADUAL|190001601406|77275       |S�NIA MARIA GAMA LIMA                      |ENFERMEIRA SONIA LIMA        |#NULO#             |61260606791     |N�O DIVULG�VEL|12                     |APTO                   |2                       |DEFERIDO                |PARTIDO ISOLADO|77        |SOLIDARIEDADE|SOLIDARIEDADE                           |-1          |#NULO#                  |#NULO#        |#NULO#                 |190001681112|PARTIDO ISOLADO|SOLIDARIEDADE          |1               |BRASILEIRA NATA |RJ              |-3                     |RIO DE JANEIRO         |07/12/1960   |62                 |015784480370                 |4        |FEMININO |8                |SUPERIOR COMPLETO            |9              |DIVORCIADO(A)  |01         |BRANCA     |297        |SERVIDOR P�BLICO ESTADUAL           |1270629.01             |5               |SUPLENTE        |N           |S               |-1                      |06008292620226190000|2                           |DEFERIDO                    |2                         |DEFERIDO                  |SIM                       |V�lido                  |2                        |Deferido                 |S              |\n",
      "|21/01/2023|18:38:33  |2022       |2              |ELEI��O ORDIN�RIA|1       |546       |Elei��es Gerais Estaduais 2022|02/10/2022|ESTADUAL      |RS   |RS   |RIO GRANDE DO SUL|7       |DEPUTADO ESTADUAL|210001621288|12555       |GUSTAVO TANGER JARDIM                      |TANGER JARDIM                |#NULO#             |74721399049     |N�O DIVULG�VEL|12                     |APTO                   |2                       |DEFERIDO                |PARTIDO ISOLADO|12        |PDT          |PARTIDO DEMOCR�TICO TRABALHISTA         |-1          |#NULO#                  |#NULO#        |#NULO#                 |210001682258|PARTIDO ISOLADO|PDT                    |1               |BRASILEIRA NATA |RS              |-3                     |PELOTAS                |15/06/1975   |47                 |061922100426                 |2        |MASCULINO|8                |SUPERIOR COMPLETO            |3              |CASADO(A)      |01         |BRANCA     |131        |ADVOGADO                            |1270629.01             |5               |SUPLENTE        |N           |S               |-1                      |06013233120226210000|2                           |DEFERIDO                    |2                         |DEFERIDO                  |SIM                       |V�lido                  |2                        |Deferido                 |S              |\n",
      "|21/01/2023|18:38:33  |2022       |2              |ELEI��O ORDIN�RIA|1       |546       |Elei��es Gerais Estaduais 2022|02/10/2022|ESTADUAL      |SP   |SP   |S�O PAULO        |6       |DEPUTADO FEDERAL |250001604811|1415        |VALDEMAR SILVA                             |VAVA DO TRANSPORTE           |#NULO#             |06445151809     |N�O DIVULG�VEL|12                     |APTO                   |2                       |DEFERIDO                |PARTIDO ISOLADO|14        |PTB          |PARTIDO TRABALHISTA BRASILEIRO          |-1          |#NULO#                  |#NULO#        |#NULO#                 |250001681260|PARTIDO ISOLADO|PTB                    |1               |BRASILEIRA NATA |SP              |-3                     |SANTO ANDR�            |20/05/1964   |58                 |153903270191                 |2        |MASCULINO|8                |SUPERIOR COMPLETO            |3              |CASADO(A)      |01         |BRANCA     |923        |APOSENTADO (EXCETO SERVIDOR P�BLICO)|3176572.53             |4               |N�O ELEITO      |N           |S               |-1                      |06007124020226260000|2                           |DEFERIDO                    |2                         |DEFERIDO                  |SIM                       |V�lido                  |2                        |Deferido                 |S              |\n",
      "|21/01/2023|18:38:33  |2022       |2              |ELEI��O ORDIN�RIA|1       |546       |Elei��es Gerais Estaduais 2022|02/10/2022|ESTADUAL      |AM   |AM   |AMAZONAS         |6       |DEPUTADO FEDERAL |40001618450 |4440        |LEDA MARIA MAIA XAVIER                     |LEDA MAIA                    |#NULO#             |94071586249     |N�O DIVULG�VEL|12                     |APTO                   |2                       |DEFERIDO                |PARTIDO ISOLADO|44        |UNI�O        |UNI�O BRASIL                            |-1          |#NULO#                  |#NULO#        |#NULO#                 |40001682111 |PARTIDO ISOLADO|UNI�O                  |1               |BRASILEIRA NATA |AM              |-3                     |MANAUS                 |19/02/1991   |31                 |034547062216                 |4        |FEMININO |8                |SUPERIOR COMPLETO            |9              |DIVORCIADO(A)  |03         |PARDA      |172        |PUBLICIT�RIO                        |3176572.53             |5               |SUPLENTE        |N           |S               |-1                      |06004613420226040000|2                           |DEFERIDO                    |2                         |DEFERIDO                  |SIM                       |V�lido                  |2                        |Deferido                 |S              |\n",
      "|21/01/2023|18:38:33  |2022       |2              |ELEI��O ORDIN�RIA|1       |546       |Elei��es Gerais Estaduais 2022|02/10/2022|ESTADUAL      |AL   |AL   |ALAGOAS          |6       |DEPUTADO FEDERAL |20001652299 |5588        |EDUARDO �TALO BASTOS DE OLIVEIRA           |�TALO BASTOS                 |#NULO#             |03341153454     |N�O DIVULG�VEL|12                     |APTO                   |2                       |DEFERIDO                |PARTIDO ISOLADO|55        |PSD          |PARTIDO SOCIAL DEMOCR�TICO              |-1          |#NULO#                  |#NULO#        |#NULO#                 |20001683386 |PARTIDO ISOLADO|PSD                    |1               |BRASILEIRA NATA |AL              |-3                     |MACEI�                 |02/09/1980   |42                 |025735071716                 |2        |MASCULINO|8                |SUPERIOR COMPLETO            |3              |CASADO(A)      |01         |BRANCA     |233        |POLICIAL MILITAR                    |3176572.53             |4               |N�O ELEITO      |N           |S               |-1                      |06005804920226020000|2                           |DEFERIDO                    |2                         |DEFERIDO                  |SIM                       |V�lido                  |2                        |Deferido                 |S              |\n",
      "|21/01/2023|18:38:33  |2022       |2              |ELEI��O ORDIN�RIA|1       |546       |Elei��es Gerais Estaduais 2022|02/10/2022|ESTADUAL      |MG   |MG   |MINAS GERAIS     |6       |DEPUTADO FEDERAL |130001596012|5144        |CARCILEI SOARES MARTINS                    |CARCILEI SOARES              |#NULO#             |02579141618     |N�O DIVULG�VEL|12                     |APTO                   |2                       |DEFERIDO                |PARTIDO ISOLADO|51        |PATRIOTA     |PATRIOTA                                |-1          |#NULO#                  |#NULO#        |#NULO#                 |130001680879|PARTIDO ISOLADO|PATRIOTA               |1               |BRASILEIRA NATA |MG              |-3                     |ALFENAS                |10/02/1974   |48                 |101539230213                 |2        |MASCULINO|6                |ENSINO M�DIO COMPLETO        |3              |CASADO(A)      |03         |PARDA      |257        |EMPRES�RIO                          |3176572.53             |5               |SUPLENTE        |N           |S               |-1                      |06005215520226130000|2                           |DEFERIDO                    |2                         |DEFERIDO                  |SIM                       |V�lido                  |2                        |Deferido                 |S              |\n",
      "|21/01/2023|18:38:33  |2022       |2              |ELEI��O ORDIN�RIA|1       |546       |Elei��es Gerais Estaduais 2022|02/10/2022|ESTADUAL      |RJ   |RJ   |RIO DE JANEIRO   |7       |DEPUTADO ESTADUAL|190001639169|40666       |MARCELO DE OLIVEIRA PINHO                  |PAI MARCELO DE OXOSSI        |#NULO#             |03002601721     |N�O DIVULG�VEL|12                     |APTO                   |2                       |DEFERIDO                |PARTIDO ISOLADO|40        |PSB          |PARTIDO SOCIALISTA BRASILEIRO           |-1          |#NULO#                  |#NULO#        |#NULO#                 |190001682808|PARTIDO ISOLADO|PSB                    |1               |BRASILEIRA NATA |RJ              |-3                     |RIO DE JANEIRO         |12/02/1972   |50                 |086030660337                 |2        |MASCULINO|6                |ENSINO M�DIO COMPLETO        |1              |SOLTEIRO(A)    |03         |PARDA      |169        |COMERCIANTE                         |1270629.01             |5               |SUPLENTE        |N           |S               |-1                      |06024558020226190000|2                           |DEFERIDO                    |2                         |DEFERIDO                  |SIM                       |V�lido                  |2                        |Deferido                 |S              |\n",
      "|21/01/2023|18:38:33  |2022       |2              |ELEI��O ORDIN�RIA|1       |546       |Elei��es Gerais Estaduais 2022|02/10/2022|ESTADUAL      |PR   |PR   |PARAN�           |6       |DEPUTADO FEDERAL |160001614489|1455        |MAGNO ZANELLATO                            |DR MAGNO                     |#NULO#             |87463490904     |N�O DIVULG�VEL|12                     |APTO                   |2                       |DEFERIDO                |PARTIDO ISOLADO|14        |PTB          |PARTIDO TRABALHISTA BRASILEIRO          |-1          |#NULO#                  |#NULO#        |#NULO#                 |160001681735|PARTIDO ISOLADO|PTB                    |1               |BRASILEIRA NATA |PR              |-3                     |CURITIBA               |13/11/1971   |51                 |049527500698                 |2        |MASCULINO|8                |SUPERIOR COMPLETO            |3              |CASADO(A)      |01         |BRANCA     |111        |M�DICO                              |3176572.53             |4               |N�O ELEITO      |N           |S               |-1                      |06006828120226160000|2                           |DEFERIDO                    |2                         |DEFERIDO                  |SIM                       |V�lido                  |2                        |Deferido                 |S              |\n",
      "|21/01/2023|18:38:33  |2022       |2              |ELEI��O ORDIN�RIA|1       |546       |Elei��es Gerais Estaduais 2022|02/10/2022|ESTADUAL      |ES   |ES   |ESP�RITO SANTO   |7       |DEPUTADO ESTADUAL|80001602769 |45888       |VANETE CARIRI DOS SANTOS                   |VANETE CARIRI                |#NULO#             |08974917777     |N�O DIVULG�VEL|12                     |APTO                   |2                       |DEFERIDO                |FEDERA��O      |45        |PSDB         |PARTIDO DA SOCIAL DEMOCRACIA BRASILEIRA |1           |Federa��o PSDB Cidadania|PSDB/CIDADANIA|PSDB/CIDADANIA         |80001681183 |FEDERA��O      |PSDB/CIDADANIA         |1               |BRASILEIRA NATA |ES              |-3                     |VIT�RIA                |28/04/1975   |47                 |070232560531                 |4        |FEMININO |3                |ENSINO FUNDAMENTAL INCOMPLETO|3              |CASADO(A)      |02         |PRETA      |999        |OUTROS                              |1270629.01             |5               |SUPLENTE        |N           |S               |-1                      |06004968020226080000|2                           |DEFERIDO                    |2                         |DEFERIDO                  |SIM                       |V�lido                  |2                        |Deferido                 |S              |\n",
      "|21/01/2023|18:38:33  |2022       |2              |ELEI��O ORDIN�RIA|1       |546       |Elei��es Gerais Estaduais 2022|02/10/2022|ESTADUAL      |PR   |PR   |PARAN�           |7       |DEPUTADO ESTADUAL|160001716096|28777       |RONNIE CARLOS ALBERTO DE CASTRO            |RONNIE CASTRO                |#NULO#             |06839985954     |N�O DIVULG�VEL|12                     |APTO                   |2                       |DEFERIDO                |PARTIDO ISOLADO|28        |PRTB         |PARTIDO RENOVADOR TRABALHISTA BRASILEIRO|-1          |#NULO#                  |#NULO#        |#NULO#                 |160001685183|PARTIDO ISOLADO|PRTB                   |1               |BRASILEIRA NATA |PR              |-3                     |S�O JOS� DOS PINHAIS   |11/10/1989   |33                 |096788220647                 |2        |MASCULINO|3                |ENSINO FUNDAMENTAL INCOMPLETO|1              |SOLTEIRO(A)    |01         |BRANCA     |999        |OUTROS                              |1270629.01             |4               |N�O ELEITO      |N           |S               |-1                      |06016268320226160000|2                           |DEFERIDO                    |2                         |DEFERIDO                  |SIM                       |V�lido                  |2                        |Deferido                 |S              |\n",
      "|21/01/2023|18:38:33  |2022       |2              |ELEI��O ORDIN�RIA|1       |546       |Elei��es Gerais Estaduais 2022|02/10/2022|ESTADUAL      |PA   |PA   |PAR�             |7       |DEPUTADO ESTADUAL|140001611695|44123       |ELIEL PEREIRA FAUSTINO FILHO               |ELIEL FAUSTINO               |#NULO#             |18414303234     |N�O DIVULG�VEL|12                     |APTO                   |2                       |DEFERIDO                |PARTIDO ISOLADO|44        |UNI�O        |UNI�O BRASIL                            |-1          |#NULO#                  |#NULO#        |#NULO#                 |140001681586|PARTIDO ISOLADO|UNI�O                  |1               |BRASILEIRA NATA |PA              |-3                     |BEL�M                  |11/03/1965   |57                 |037324181376                 |2        |MASCULINO|8                |SUPERIOR COMPLETO            |3              |CASADO(A)      |01         |BRANCA     |101        |ENGENHEIRO                          |1270629.01             |5               |SUPLENTE        |S           |S               |-1                      |06005594020226140000|2                           |DEFERIDO                    |2                         |DEFERIDO                  |SIM                       |V�lido                  |2                        |Deferido                 |S              |\n",
      "|21/01/2023|18:38:33  |2022       |2              |ELEI��O ORDIN�RIA|1       |546       |Elei��es Gerais Estaduais 2022|02/10/2022|ESTADUAL      |RJ   |RJ   |RIO DE JANEIRO   |6       |DEPUTADO FEDERAL |190001645421|4050        |MARCOS UCH�A CAVALCANTI                    |MARCOS UCH�A                 |#NULO#             |53251490753     |N�O DIVULG�VEL|12                     |APTO                   |2                       |DEFERIDO                |PARTIDO ISOLADO|40        |PSB          |PARTIDO SOCIALISTA BRASILEIRO           |-1          |#NULO#                  |#NULO#        |#NULO#                 |190001683153|PARTIDO ISOLADO|PSB                    |1               |BRASILEIRA NATA |RJ              |-3                     |RIO DE JANEIRO         |01/07/1958   |64                 |002323710302                 |2        |MASCULINO|8                |SUPERIOR COMPLETO            |3              |CASADO(A)      |01         |BRANCA     |171        |JORNALISTA E REDATOR                |3176572.53             |5               |SUPLENTE        |N           |S               |-1                      |06027216720226190000|2                           |DEFERIDO                    |2                         |DEFERIDO                  |SIM                       |V�lido                  |2                        |Deferido                 |S              |\n",
      "|21/01/2023|18:38:33  |2022       |2              |ELEI��O ORDIN�RIA|1       |546       |Elei��es Gerais Estaduais 2022|02/10/2022|ESTADUAL      |ES   |ES   |ESP�RITO SANTO   |7       |DEPUTADO ESTADUAL|80001724744 |90900       |IDELFONSO SANTOS DA VITORIA                |IDELFONSO DA VITORIA         |#NULO#             |00522875726     |N�O DIVULG�VEL|12                     |APTO                   |2                       |DEFERIDO                |PARTIDO ISOLADO|90        |PROS         |PARTIDO REPUBLICANO DA ORDEM SOCIAL     |-1          |#NULO#                  |#NULO#        |#NULO#                 |80001685520 |PARTIDO ISOLADO|PROS                   |1               |BRASILEIRA NATA |ES              |-3                     |VIT�RIA                |29/10/1970   |52                 |013538171490                 |2        |MASCULINO|8                |SUPERIOR COMPLETO            |3              |CASADO(A)      |02         |PRETA      |232        |POLICIAL CIVIL                      |1270629.01             |4               |N�O ELEITO      |N           |S               |-1                      |06012745020226080000|2                           |DEFERIDO                    |2                         |DEFERIDO                  |SIM                       |V�lido                  |2                        |Deferido                 |S              |\n",
      "|21/01/2023|18:38:33  |2022       |2              |ELEI��O ORDIN�RIA|1       |546       |Elei��es Gerais Estaduais 2022|02/10/2022|ESTADUAL      |AP   |AP   |AMAP�            |7       |DEPUTADO ESTADUAL|30001604784 |18444       |PAULO JORGE CUNHA DA SILVEIRA              |PAULO CUNHA COLETIVO EDUCACAO|#NULO#             |15959848287     |N�O DIVULG�VEL|12                     |APTO                   |2                       |DEFERIDO                |FEDERA��O      |18        |REDE         |REDE SUSTENTABILIDADE                   |3           |Federa��o PSOL REDE     |PSOL/REDE     |PSOL/REDE              |30001681259 |FEDERA��O      |PSOL/REDE              |1               |BRASILEIRA NATA |PA              |-3                     |BRAGAN�A               |20/05/1963   |59                 |002566882550                 |2        |MASCULINO|8                |SUPERIOR COMPLETO            |3              |CASADO(A)      |03         |PARDA      |266        |PROFESSOR DE ENSINO M�DIO           |1270629.01             |5               |SUPLENTE        |N           |N               |-1                      |06002961420226030000|2                           |DEFERIDO                    |2                         |DEFERIDO                  |SIM                       |V�lido                  |2                        |Deferido                 |S              |\n",
      "|21/01/2023|18:38:33  |2022       |2              |ELEI��O ORDIN�RIA|1       |546       |Elei��es Gerais Estaduais 2022|02/10/2022|ESTADUAL      |SE   |SE   |SERGIPE          |7       |DEPUTADO ESTADUAL|260001711846|14111       |GILENO DOS SANTOS                          |GILENO PAO FILHO DE Z� CINEMA|#NULO#             |53210581568     |N�O DIVULG�VEL|12                     |APTO                   |2                       |DEFERIDO                |PARTIDO ISOLADO|14        |PTB          |PARTIDO TRABALHISTA BRASILEIRO          |-1          |#NULO#                  |#NULO#        |#NULO#                 |260001685031|PARTIDO ISOLADO|PTB                    |1               |BRASILEIRA NATA |SE              |-3                     |EST�NCIA               |17/02/1968   |54                 |004910862194                 |2        |MASCULINO|4                |ENSINO FUNDAMENTAL COMPLETO  |1              |SOLTEIRO(A)    |02         |PRETA      |999        |OUTROS                              |1270629.01             |4               |N�O ELEITO      |N           |S               |-1                      |06009257320226250000|2                           |DEFERIDO                    |2                         |DEFERIDO                  |SIM                       |V�lido                  |2                        |Deferido                 |S              |\n",
      "|21/01/2023|18:38:33  |2022       |2              |ELEI��O ORDIN�RIA|1       |546       |Elei��es Gerais Estaduais 2022|02/10/2022|ESTADUAL      |AM   |AM   |AMAZONAS         |7       |DEPUTADO ESTADUAL|40001618475 |44666       |GEORGE AUGUSTO MONTEIRO LINS DE ALBUQUERQUE|DR GEORGE LINS               |#NULO#             |72510250272     |N�O DIVULG�VEL|12                     |APTO                   |2                       |DEFERIDO                |PARTIDO ISOLADO|44        |UNI�O        |UNI�O BRASIL                            |-1          |#NULO#                  |#NULO#        |#NULO#                 |40001682112 |PARTIDO ISOLADO|UNI�O                  |1               |BRASILEIRA NATA |AM              |-3                     |MANAUS                 |23/12/1982   |40                 |022169342224                 |2        |MASCULINO|8                |SUPERIOR COMPLETO            |3              |CASADO(A)      |03         |PARDA      |111        |M�DICO                              |1270629.01             |2               |ELEITO POR QP   |N           |S               |-1                      |06005011620226040000|2                           |DEFERIDO                    |2                         |DEFERIDO                  |SIM                       |V�lido                  |2                        |Deferido                 |S              |\n",
      "|21/01/2023|18:38:33  |2022       |2              |ELEI��O ORDIN�RIA|1       |546       |Elei��es Gerais Estaduais 2022|02/10/2022|ESTADUAL      |AP   |AP   |AMAP�            |7       |DEPUTADO ESTADUAL|30001604014 |12456       |ALDILENE MATOS DE SOUZA                    |ALDILENE SOUZA               |#NULO#             |43263240234     |N�O DIVULG�VEL|12                     |APTO                   |2                       |DEFERIDO                |PARTIDO ISOLADO|12        |PDT          |PARTIDO DEMOCR�TICO TRABALHISTA         |-1          |#NULO#                  |#NULO#        |#NULO#                 |30001681219 |PARTIDO ISOLADO|PDT                    |1               |BRASILEIRA NATA |AP              |-3                     |MACAP�                 |08/07/1970   |52                 |001402702569                 |4        |FEMININO |8                |SUPERIOR COMPLETO            |3              |CASADO(A)      |01         |BRANCA     |277        |DEPUTADO                            |1270629.01             |3               |ELEITO POR M�DIA|S           |N               |-1                      |06002606920226030000|2                           |DEFERIDO                    |2                         |DEFERIDO                  |SIM                       |V�lido                  |2                        |Deferido                 |S              |\n",
      "|21/01/2023|18:38:33  |2022       |2              |ELEI��O ORDIN�RIA|1       |546       |Elei��es Gerais Estaduais 2022|02/10/2022|ESTADUAL      |BA   |BA   |BAHIA            |7       |DEPUTADO ESTADUAL|50001610388 |51200       |SIMONE SANTOS SILVA BISPO                  |MISSIONARIA SIMONE DA BETEL  |#NULO#             |78498600553     |N�O DIVULG�VEL|12                     |APTO                   |2                       |DEFERIDO                |PARTIDO ISOLADO|51        |PATRIOTA     |PATRIOTA                                |-1          |#NULO#                  |#NULO#        |#NULO#                 |50001681500 |PARTIDO ISOLADO|PATRIOTA               |1               |BRASILEIRA NATA |BA              |-3                     |SALVADOR               |05/12/1978   |44                 |084274510540                 |4        |FEMININO |6                |ENSINO M�DIO COMPLETO        |3              |CASADO(A)      |01         |BRANCA     |257        |EMPRES�RIO                          |1270629.01             |5               |SUPLENTE        |N           |N               |-1                      |06012812620226050000|2                           |DEFERIDO                    |2                         |DEFERIDO                  |SIM                       |V�lido                  |2                        |Deferido                 |S              |\n",
      "|21/01/2023|18:38:33  |2022       |2              |ELEI��O ORDIN�RIA|1       |546       |Elei��es Gerais Estaduais 2022|02/10/2022|ESTADUAL      |RJ   |RJ   |RIO DE JANEIRO   |6       |DEPUTADO FEDERAL |190001603398|5551        |ANA KARLA GUIMAR�ES LUCAS                  |KARLA DE LUCAS DOS BICHINHOS |#NULO#             |82226997768     |N�O DIVULG�VEL|12                     |APTO                   |2                       |DEFERIDO                |PARTIDO ISOLADO|55        |PSD          |PARTIDO SOCIAL DEMOCR�TICO              |-1          |#NULO#                  |#NULO#        |#NULO#                 |190001681204|PARTIDO ISOLADO|PSD                    |1               |BRASILEIRA NATA |MG              |-3                     |JUIZ DE FORA           |14/04/1965   |57                 |024050940361                 |4        |FEMININO |8                |SUPERIOR COMPLETO            |3              |CASADO(A)      |01         |BRANCA     |171        |JORNALISTA E REDATOR                |3176572.53             |5               |SUPLENTE        |N           |S               |-1                      |06010171920226190000|2                           |DEFERIDO                    |2                         |DEFERIDO                  |SIM                       |V�lido                  |2                        |Deferido                 |S              |\n",
      "+----------+----------+-----------+---------------+-----------------+--------+----------+------------------------------+----------+--------------+-----+-----+-----------------+--------+-----------------+------------+------------+-------------------------------------------+-----------------------------+-------------------+----------------+--------------+-----------------------+-----------------------+------------------------+------------------------+---------------+----------+-------------+----------------------------------------+------------+------------------------+--------------+-----------------------+------------+---------------+-----------------------+----------------+----------------+----------------+-----------------------+-----------------------+-------------+-------------------+-----------------------------+---------+---------+-----------------+-----------------------------+---------------+---------------+-----------+-----------+-----------+------------------------------------+-----------------------+----------------+----------------+------------+----------------+------------------------+--------------------+----------------------------+----------------------------+--------------------------+--------------------------+--------------------------+------------------------+-------------------------+-------------------------+---------------+\n",
      "only showing top 20 rows\n",
      "\n"
     ]
    }
   ],
   "source": [
    "from pyspark.sql import SparkSession\n",
    "\n",
    "spark = SparkSession.builder.getOrCreate()\n",
    "\n",
    "arquivo = '../ProjetoSparkKB/Dados/Candidato/consulta_cand_2022_BRASIL.csv'\n",
    "\n",
    "df = spark.read.csv(arquivo, sep=';',header=True)\n",
    "\n",
    "df.select('DT_GERACAO').show()\n",
    "\n",
    "df.show(truncate=False)"
   ]
  },
  {
   "cell_type": "code",
   "execution_count": 4,
   "id": "70d4e52e",
   "metadata": {},
   "outputs": [
    {
     "name": "stdout",
     "output_type": "stream",
     "text": [
      "root\n",
      " |-- _c0: string (nullable = true)\n",
      "\n"
     ]
    }
   ],
   "source": [
    "arquivo = '../ProjetoSparkKB/Dados/Candidato/consulta_cand_2022_BRASIL.csv'\n",
    "\n",
    "dfExemplo2 = spark.read.format(\"csv\").load(arquivo)\n",
    "    \n",
    "dfExemplo2.printSchema()"
   ]
  },
  {
   "cell_type": "code",
   "execution_count": 5,
   "id": "c8903cc3",
   "metadata": {},
   "outputs": [
    {
     "name": "stdout",
     "output_type": "stream",
     "text": [
      "root\n",
      " |-- DT_GERACAO: string (nullable = true)\n",
      " |-- HH_GERACAO: string (nullable = true)\n",
      " |-- ANO_ELEICAO: string (nullable = true)\n",
      " |-- CD_TIPO_ELEICAO: string (nullable = true)\n",
      " |-- NM_TIPO_ELEICAO: string (nullable = true)\n",
      " |-- NR_TURNO: string (nullable = true)\n",
      " |-- CD_ELEICAO: string (nullable = true)\n",
      " |-- DS_ELEICAO: string (nullable = true)\n",
      " |-- DT_ELEICAO: string (nullable = true)\n",
      " |-- TP_ABRANGENCIA: string (nullable = true)\n",
      " |-- SG_UF: string (nullable = true)\n",
      " |-- SG_UE: string (nullable = true)\n",
      " |-- NM_UE: string (nullable = true)\n",
      " |-- CD_CARGO: string (nullable = true)\n",
      " |-- DS_CARGO: string (nullable = true)\n",
      " |-- SQ_CANDIDATO: string (nullable = true)\n",
      " |-- NR_CANDIDATO: string (nullable = true)\n",
      " |-- NM_CANDIDATO: string (nullable = true)\n",
      " |-- NM_URNA_CANDIDATO: string (nullable = true)\n",
      " |-- NM_SOCIAL_CANDIDATO: string (nullable = true)\n",
      " |-- NR_CPF_CANDIDATO: string (nullable = true)\n",
      " |-- NM_EMAIL: string (nullable = true)\n",
      " |-- CD_SITUACAO_CANDIDATURA: string (nullable = true)\n",
      " |-- DS_SITUACAO_CANDIDATURA: string (nullable = true)\n",
      " |-- CD_DETALHE_SITUACAO_CAND: string (nullable = true)\n",
      " |-- DS_DETALHE_SITUACAO_CAND: string (nullable = true)\n",
      " |-- TP_AGREMIACAO: string (nullable = true)\n",
      " |-- NR_PARTIDO: string (nullable = true)\n",
      " |-- SG_PARTIDO: string (nullable = true)\n",
      " |-- NM_PARTIDO: string (nullable = true)\n",
      " |-- NR_FEDERACAO: string (nullable = true)\n",
      " |-- NM_FEDERACAO: string (nullable = true)\n",
      " |-- SG_FEDERACAO: string (nullable = true)\n",
      " |-- DS_COMPOSICAO_FEDERACAO: string (nullable = true)\n",
      " |-- SQ_COLIGACAO: string (nullable = true)\n",
      " |-- NM_COLIGACAO: string (nullable = true)\n",
      " |-- DS_COMPOSICAO_COLIGACAO: string (nullable = true)\n",
      " |-- CD_NACIONALIDADE: string (nullable = true)\n",
      " |-- DS_NACIONALIDADE: string (nullable = true)\n",
      " |-- SG_UF_NASCIMENTO: string (nullable = true)\n",
      " |-- CD_MUNICIPIO_NASCIMENTO: string (nullable = true)\n",
      " |-- NM_MUNICIPIO_NASCIMENTO: string (nullable = true)\n",
      " |-- DT_NASCIMENTO: string (nullable = true)\n",
      " |-- NR_IDADE_DATA_POSSE: string (nullable = true)\n",
      " |-- NR_TITULO_ELEITORAL_CANDIDATO: string (nullable = true)\n",
      " |-- CD_GENERO: string (nullable = true)\n",
      " |-- DS_GENERO: string (nullable = true)\n",
      " |-- CD_GRAU_INSTRUCAO: string (nullable = true)\n",
      " |-- DS_GRAU_INSTRUCAO: string (nullable = true)\n",
      " |-- CD_ESTADO_CIVIL: string (nullable = true)\n",
      " |-- DS_ESTADO_CIVIL: string (nullable = true)\n",
      " |-- CD_COR_RACA: string (nullable = true)\n",
      " |-- DS_COR_RACA: string (nullable = true)\n",
      " |-- CD_OCUPACAO: string (nullable = true)\n",
      " |-- DS_OCUPACAO: string (nullable = true)\n",
      " |-- VR_DESPESA_MAX_CAMPANHA: string (nullable = true)\n",
      " |-- CD_SIT_TOT_TURNO: string (nullable = true)\n",
      " |-- DS_SIT_TOT_TURNO: string (nullable = true)\n",
      " |-- ST_REELEICAO: string (nullable = true)\n",
      " |-- ST_DECLARAR_BENS: string (nullable = true)\n",
      " |-- NR_PROTOCOLO_CANDIDATURA: string (nullable = true)\n",
      " |-- NR_PROCESSO: string (nullable = true)\n",
      " |-- CD_SITUACAO_CANDIDATO_PLEITO: string (nullable = true)\n",
      " |-- DS_SITUACAO_CANDIDATO_PLEITO: string (nullable = true)\n",
      " |-- CD_SITUACAO_CANDIDATO_URNA: string (nullable = true)\n",
      " |-- DS_SITUACAO_CANDIDATO_URNA: string (nullable = true)\n",
      " |-- ST_CANDIDATO_INSERIDO_URNA: string (nullable = true)\n",
      " |-- NM_TIPO_DESTINACAO_VOTOS: string (nullable = true)\n",
      " |-- CD_SITUACAO_CANDIDATO_TOT: string (nullable = true)\n",
      " |-- DS_SITUACAO_CANDIDATO_TOT: string (nullable = true)\n",
      " |-- ST_PREST_CONTAS: string (nullable = true)\n",
      "\n"
     ]
    }
   ],
   "source": [
    "arquivo = '../ProjetoSparkKB/Dados/Candidato/consulta_cand_2022_BRASIL.csv'\n",
    "\n",
    "dfExemplo3 = spark.read.option(\"inferSchema\",False) \\\n",
    "                .option(\"delimiter\",\";\") \\\n",
    "                .option(\"header\",True) \\\n",
    "                .csv(arquivo)\n",
    "\n",
    "dfExemplo3.printSchema()"
   ]
  },
  {
   "cell_type": "code",
   "execution_count": 6,
   "id": "c3381c78",
   "metadata": {},
   "outputs": [
    {
     "name": "stdout",
     "output_type": "stream",
     "text": [
      "root\n",
      " |-- DT_GERACAO: string (nullable = true)\n",
      " |-- HH_GERACAO: timestamp (nullable = true)\n",
      " |-- ANO_ELEICAO: integer (nullable = true)\n",
      " |-- CD_TIPO_ELEICAO: integer (nullable = true)\n",
      " |-- NM_TIPO_ELEICAO: string (nullable = true)\n",
      " |-- NR_TURNO: integer (nullable = true)\n",
      " |-- CD_ELEICAO: integer (nullable = true)\n",
      " |-- DS_ELEICAO: string (nullable = true)\n",
      " |-- DT_ELEICAO: string (nullable = true)\n",
      " |-- TP_ABRANGENCIA: string (nullable = true)\n",
      " |-- SG_UF: string (nullable = true)\n",
      " |-- SG_UE: string (nullable = true)\n",
      " |-- NM_UE: string (nullable = true)\n",
      " |-- CD_CARGO: integer (nullable = true)\n",
      " |-- DS_CARGO: string (nullable = true)\n",
      " |-- SQ_CANDIDATO: long (nullable = true)\n",
      " |-- NR_CANDIDATO: integer (nullable = true)\n",
      " |-- NM_CANDIDATO: string (nullable = true)\n",
      " |-- NM_URNA_CANDIDATO: string (nullable = true)\n",
      " |-- NM_SOCIAL_CANDIDATO: string (nullable = true)\n",
      " |-- NR_CPF_CANDIDATO: long (nullable = true)\n",
      " |-- NM_EMAIL: string (nullable = true)\n",
      " |-- CD_SITUACAO_CANDIDATURA: integer (nullable = true)\n",
      " |-- DS_SITUACAO_CANDIDATURA: string (nullable = true)\n",
      " |-- CD_DETALHE_SITUACAO_CAND: integer (nullable = true)\n",
      " |-- DS_DETALHE_SITUACAO_CAND: string (nullable = true)\n",
      " |-- TP_AGREMIACAO: string (nullable = true)\n",
      " |-- NR_PARTIDO: integer (nullable = true)\n",
      " |-- SG_PARTIDO: string (nullable = true)\n",
      " |-- NM_PARTIDO: string (nullable = true)\n",
      " |-- NR_FEDERACAO: integer (nullable = true)\n",
      " |-- NM_FEDERACAO: string (nullable = true)\n",
      " |-- SG_FEDERACAO: string (nullable = true)\n",
      " |-- DS_COMPOSICAO_FEDERACAO: string (nullable = true)\n",
      " |-- SQ_COLIGACAO: long (nullable = true)\n",
      " |-- NM_COLIGACAO: string (nullable = true)\n",
      " |-- DS_COMPOSICAO_COLIGACAO: string (nullable = true)\n",
      " |-- CD_NACIONALIDADE: integer (nullable = true)\n",
      " |-- DS_NACIONALIDADE: string (nullable = true)\n",
      " |-- SG_UF_NASCIMENTO: string (nullable = true)\n",
      " |-- CD_MUNICIPIO_NASCIMENTO: integer (nullable = true)\n",
      " |-- NM_MUNICIPIO_NASCIMENTO: string (nullable = true)\n",
      " |-- DT_NASCIMENTO: string (nullable = true)\n",
      " |-- NR_IDADE_DATA_POSSE: integer (nullable = true)\n",
      " |-- NR_TITULO_ELEITORAL_CANDIDATO: long (nullable = true)\n",
      " |-- CD_GENERO: integer (nullable = true)\n",
      " |-- DS_GENERO: string (nullable = true)\n",
      " |-- CD_GRAU_INSTRUCAO: integer (nullable = true)\n",
      " |-- DS_GRAU_INSTRUCAO: string (nullable = true)\n",
      " |-- CD_ESTADO_CIVIL: integer (nullable = true)\n",
      " |-- DS_ESTADO_CIVIL: string (nullable = true)\n",
      " |-- CD_COR_RACA: integer (nullable = true)\n",
      " |-- DS_COR_RACA: string (nullable = true)\n",
      " |-- CD_OCUPACAO: integer (nullable = true)\n",
      " |-- DS_OCUPACAO: string (nullable = true)\n",
      " |-- VR_DESPESA_MAX_CAMPANHA: double (nullable = true)\n",
      " |-- CD_SIT_TOT_TURNO: integer (nullable = true)\n",
      " |-- DS_SIT_TOT_TURNO: string (nullable = true)\n",
      " |-- ST_REELEICAO: string (nullable = true)\n",
      " |-- ST_DECLARAR_BENS: string (nullable = true)\n",
      " |-- NR_PROTOCOLO_CANDIDATURA: integer (nullable = true)\n",
      " |-- NR_PROCESSO: long (nullable = true)\n",
      " |-- CD_SITUACAO_CANDIDATO_PLEITO: integer (nullable = true)\n",
      " |-- DS_SITUACAO_CANDIDATO_PLEITO: string (nullable = true)\n",
      " |-- CD_SITUACAO_CANDIDATO_URNA: integer (nullable = true)\n",
      " |-- DS_SITUACAO_CANDIDATO_URNA: string (nullable = true)\n",
      " |-- ST_CANDIDATO_INSERIDO_URNA: string (nullable = true)\n",
      " |-- NM_TIPO_DESTINACAO_VOTOS: string (nullable = true)\n",
      " |-- CD_SITUACAO_CANDIDATO_TOT: integer (nullable = true)\n",
      " |-- DS_SITUACAO_CANDIDATO_TOT: string (nullable = true)\n",
      " |-- ST_PREST_CONTAS: string (nullable = true)\n",
      "\n"
     ]
    }
   ],
   "source": [
    "arquivo = '../ProjetoSparkKB/Dados/Candidato/consulta_cand_2022_BRASIL.csv'\n",
    "\n",
    "dfExemplo04 = spark.read.options(header='True', inferSchema='True', delimiter=';') \\\n",
    "  .csv(arquivo)\n",
    "\n",
    "dfExemplo04.printSchema()"
   ]
  },
  {
   "cell_type": "code",
   "execution_count": 7,
   "id": "4f6f1f97",
   "metadata": {},
   "outputs": [
    {
     "name": "stdout",
     "output_type": "stream",
     "text": [
      "+-------------------+----------------+-----+-------------------+\n",
      "|              CodUf|        TpoCrime|  Qtd|               Data|\n",
      "+-------------------+----------------+-----+-------------------+\n",
      "|            Roraima|Homic�dio doloso| 1389|2023-01-28 00:00:00|\n",
      "|              Amap�|Homic�dio doloso| 1948|2023-01-29 00:00:00|\n",
      "|               Acre|Homic�dio doloso| 2007|2023-01-30 00:00:00|\n",
      "|          Tocantins|Homic�dio doloso| 2787|2023-01-31 00:00:00|\n",
      "|           Rond�nia|Homic�dio doloso| 3482|2023-02-01 00:00:00|\n",
      "|   Distrito Federal|Homic�dio doloso| 3518|2023-02-02 00:00:00|\n",
      "| Mato Grosso do Sul|Homic�dio doloso| 3905|2023-02-03 00:00:00|\n",
      "|              Piau�|Homic�dio doloso| 4714|2023-02-04 00:00:00|\n",
      "|     Santa Catarina|Homic�dio doloso| 5832|2023-02-05 00:00:00|\n",
      "|        Mato Grosso|Homic�dio doloso| 6920|2023-02-06 00:00:00|\n",
      "|            Sergipe|Homic�dio doloso| 6970|2023-02-07 00:00:00|\n",
      "|           Amazonas|Homic�dio doloso| 8590|2023-02-08 00:00:00|\n",
      "|     Esp�rito Santo|Homic�dio doloso| 8695|2023-02-09 00:00:00|\n",
      "|            Para�ba|Homic�dio doloso| 8902|2023-02-10 00:00:00|\n",
      "|Rio Grande do Norte|Homic�dio doloso|10242|2023-02-11 00:00:00|\n",
      "|            Alagoas|Homic�dio doloso|10267|2023-02-12 00:00:00|\n",
      "|           Maranh�o|Homic�dio doloso|13412|2023-02-13 00:00:00|\n",
      "|              Goi�s|Homic�dio doloso|14512|2023-02-14 00:00:00|\n",
      "|             Paran�|Homic�dio doloso|15708|2023-02-15 00:00:00|\n",
      "|  Rio Grande do Sul|Homic�dio doloso|16995|2023-02-16 00:00:00|\n",
      "+-------------------+----------------+-----+-------------------+\n",
      "only showing top 20 rows\n",
      "\n"
     ]
    }
   ],
   "source": [
    "arquivo = '../ProjetoSparkKB/Dados/IndicadorSegurancaPublica/indicador_homocidio.csv'\n",
    "\n",
    "df3 = spark.read.options(header='True', inferSchema='True', delimiter=';').csv(arquivo)\n",
    "\n",
    "df3.show()"
   ]
  },
  {
   "cell_type": "markdown",
   "id": "810759e8",
   "metadata": {},
   "source": [
    "** Documentação: https://sqlrelease.com/spark-read-file-with-special-characters-using-pyspark\n",
    "\n",
    "** Documentação: https://sparkbyexamples.com/pyspark/pyspark-sql-types-datatype-with-examples/\n",
    "\n",
    "** Documentação: https://spark.apache.org/docs/latest/sql-ref-datatypes.html\n",
    "\n",
    "** Documentação: https://sparkbyexamples.com/pyspark/pyspark-date_format-convert-date-to-string-format/"
   ]
  },
  {
   "cell_type": "code",
   "execution_count": 8,
   "id": "fc876825",
   "metadata": {},
   "outputs": [
    {
     "name": "stdout",
     "output_type": "stream",
     "text": [
      "root\n",
      " |-- CodUf: string (nullable = true)\n",
      " |-- TipoCrime: string (nullable = true)\n",
      " |-- Quantidade: integer (nullable = true)\n",
      " |-- Data: date (nullable = true)\n",
      "\n",
      "+-------------------+----------------+----------+----------+\n",
      "|              CodUf|       TipoCrime|Quantidade|      Data|\n",
      "+-------------------+----------------+----------+----------+\n",
      "|            Roraima|Homicídio doloso|      1389|2023-01-28|\n",
      "|              Amapá|Homicídio doloso|      1948|2023-01-29|\n",
      "|               Acre|Homicídio doloso|      2007|2023-01-30|\n",
      "|          Tocantins|Homicídio doloso|      2787|2023-01-31|\n",
      "|           Rondônia|Homicídio doloso|      3482|2023-02-01|\n",
      "|   Distrito Federal|Homicídio doloso|      3518|2023-02-02|\n",
      "| Mato Grosso do Sul|Homicídio doloso|      3905|2023-02-03|\n",
      "|              Piauí|Homicídio doloso|      4714|2023-02-04|\n",
      "|     Santa Catarina|Homicídio doloso|      5832|2023-02-05|\n",
      "|        Mato Grosso|Homicídio doloso|      6920|2023-02-06|\n",
      "|            Sergipe|Homicídio doloso|      6970|2023-02-07|\n",
      "|           Amazonas|Homicídio doloso|      8590|2023-02-08|\n",
      "|     Espírito Santo|Homicídio doloso|      8695|2023-02-09|\n",
      "|            Paraíba|Homicídio doloso|      8902|2023-02-10|\n",
      "|Rio Grande do Norte|Homicídio doloso|     10242|2023-02-11|\n",
      "|            Alagoas|Homicídio doloso|     10267|2023-02-12|\n",
      "|           Maranhão|Homicídio doloso|     13412|2023-02-13|\n",
      "|              Goiás|Homicídio doloso|     14512|2023-02-14|\n",
      "|             Paraná|Homicídio doloso|     15708|2023-02-15|\n",
      "|  Rio Grande do Sul|Homicídio doloso|     16995|2023-02-16|\n",
      "+-------------------+----------------+----------+----------+\n",
      "only showing top 20 rows\n",
      "\n"
     ]
    }
   ],
   "source": [
    "arquivo = '../ProjetoSparkKB/Dados/IndicadorSegurancaPublica/indicador_homocidio.csv'\n",
    "\n",
    "\n",
    "schema = StructType() \\\n",
    "      .add(\"CodUf\",StringType(),True) \\\n",
    "      .add(\"TipoCrime\",StringType(),True) \\\n",
    "      .add(\"Quantidade\",IntegerType(),True) \\\n",
    "      .add(\"Data\",DateType(),True) \\\n",
    "\n",
    "\n",
    "df_with_schema = spark.read.options(header='True', inferSchema='False', delimiter=';', encoding=\"windows-1252\") \\\n",
    "      .schema(schema) \\\n",
    "      .csv(arquivo)\n",
    "\n",
    "df_with_schema.printSchema()\n",
    "\n",
    "df_with_schema.show()"
   ]
  },
  {
   "cell_type": "markdown",
   "id": "2aab32a9",
   "metadata": {},
   "source": [
    "# 04 - Transformando o DataFrame Spark em Tabela Temporária"
   ]
  },
  {
   "cell_type": "code",
   "execution_count": 9,
   "id": "8761ef79",
   "metadata": {},
   "outputs": [],
   "source": [
    "df.createOrReplaceTempView('teste')"
   ]
  },
  {
   "cell_type": "markdown",
   "id": "8dbda882",
   "metadata": {},
   "source": [
    "# 05 - Consultando a Estrutura do DataFrame Spark"
   ]
  },
  {
   "cell_type": "code",
   "execution_count": 10,
   "id": "84029f85",
   "metadata": {},
   "outputs": [
    {
     "name": "stdout",
     "output_type": "stream",
     "text": [
      "root\n",
      " |-- DT_GERACAO: string (nullable = true)\n",
      " |-- HH_GERACAO: string (nullable = true)\n",
      " |-- ANO_ELEICAO: string (nullable = true)\n",
      " |-- CD_TIPO_ELEICAO: string (nullable = true)\n",
      " |-- NM_TIPO_ELEICAO: string (nullable = true)\n",
      " |-- NR_TURNO: string (nullable = true)\n",
      " |-- CD_ELEICAO: string (nullable = true)\n",
      " |-- DS_ELEICAO: string (nullable = true)\n",
      " |-- DT_ELEICAO: string (nullable = true)\n",
      " |-- TP_ABRANGENCIA: string (nullable = true)\n",
      " |-- SG_UF: string (nullable = true)\n",
      " |-- SG_UE: string (nullable = true)\n",
      " |-- NM_UE: string (nullable = true)\n",
      " |-- CD_CARGO: string (nullable = true)\n",
      " |-- DS_CARGO: string (nullable = true)\n",
      " |-- SQ_CANDIDATO: string (nullable = true)\n",
      " |-- NR_CANDIDATO: string (nullable = true)\n",
      " |-- NM_CANDIDATO: string (nullable = true)\n",
      " |-- NM_URNA_CANDIDATO: string (nullable = true)\n",
      " |-- NM_SOCIAL_CANDIDATO: string (nullable = true)\n",
      " |-- NR_CPF_CANDIDATO: string (nullable = true)\n",
      " |-- NM_EMAIL: string (nullable = true)\n",
      " |-- CD_SITUACAO_CANDIDATURA: string (nullable = true)\n",
      " |-- DS_SITUACAO_CANDIDATURA: string (nullable = true)\n",
      " |-- CD_DETALHE_SITUACAO_CAND: string (nullable = true)\n",
      " |-- DS_DETALHE_SITUACAO_CAND: string (nullable = true)\n",
      " |-- TP_AGREMIACAO: string (nullable = true)\n",
      " |-- NR_PARTIDO: string (nullable = true)\n",
      " |-- SG_PARTIDO: string (nullable = true)\n",
      " |-- NM_PARTIDO: string (nullable = true)\n",
      " |-- NR_FEDERACAO: string (nullable = true)\n",
      " |-- NM_FEDERACAO: string (nullable = true)\n",
      " |-- SG_FEDERACAO: string (nullable = true)\n",
      " |-- DS_COMPOSICAO_FEDERACAO: string (nullable = true)\n",
      " |-- SQ_COLIGACAO: string (nullable = true)\n",
      " |-- NM_COLIGACAO: string (nullable = true)\n",
      " |-- DS_COMPOSICAO_COLIGACAO: string (nullable = true)\n",
      " |-- CD_NACIONALIDADE: string (nullable = true)\n",
      " |-- DS_NACIONALIDADE: string (nullable = true)\n",
      " |-- SG_UF_NASCIMENTO: string (nullable = true)\n",
      " |-- CD_MUNICIPIO_NASCIMENTO: string (nullable = true)\n",
      " |-- NM_MUNICIPIO_NASCIMENTO: string (nullable = true)\n",
      " |-- DT_NASCIMENTO: string (nullable = true)\n",
      " |-- NR_IDADE_DATA_POSSE: string (nullable = true)\n",
      " |-- NR_TITULO_ELEITORAL_CANDIDATO: string (nullable = true)\n",
      " |-- CD_GENERO: string (nullable = true)\n",
      " |-- DS_GENERO: string (nullable = true)\n",
      " |-- CD_GRAU_INSTRUCAO: string (nullable = true)\n",
      " |-- DS_GRAU_INSTRUCAO: string (nullable = true)\n",
      " |-- CD_ESTADO_CIVIL: string (nullable = true)\n",
      " |-- DS_ESTADO_CIVIL: string (nullable = true)\n",
      " |-- CD_COR_RACA: string (nullable = true)\n",
      " |-- DS_COR_RACA: string (nullable = true)\n",
      " |-- CD_OCUPACAO: string (nullable = true)\n",
      " |-- DS_OCUPACAO: string (nullable = true)\n",
      " |-- VR_DESPESA_MAX_CAMPANHA: string (nullable = true)\n",
      " |-- CD_SIT_TOT_TURNO: string (nullable = true)\n",
      " |-- DS_SIT_TOT_TURNO: string (nullable = true)\n",
      " |-- ST_REELEICAO: string (nullable = true)\n",
      " |-- ST_DECLARAR_BENS: string (nullable = true)\n",
      " |-- NR_PROTOCOLO_CANDIDATURA: string (nullable = true)\n",
      " |-- NR_PROCESSO: string (nullable = true)\n",
      " |-- CD_SITUACAO_CANDIDATO_PLEITO: string (nullable = true)\n",
      " |-- DS_SITUACAO_CANDIDATO_PLEITO: string (nullable = true)\n",
      " |-- CD_SITUACAO_CANDIDATO_URNA: string (nullable = true)\n",
      " |-- DS_SITUACAO_CANDIDATO_URNA: string (nullable = true)\n",
      " |-- ST_CANDIDATO_INSERIDO_URNA: string (nullable = true)\n",
      " |-- NM_TIPO_DESTINACAO_VOTOS: string (nullable = true)\n",
      " |-- CD_SITUACAO_CANDIDATO_TOT: string (nullable = true)\n",
      " |-- DS_SITUACAO_CANDIDATO_TOT: string (nullable = true)\n",
      " |-- ST_PREST_CONTAS: string (nullable = true)\n",
      "\n"
     ]
    }
   ],
   "source": [
    "df.printSchema()"
   ]
  },
  {
   "cell_type": "markdown",
   "id": "53c403b4",
   "metadata": {},
   "source": [
    "# 06 - Lendo a Tabela e Transformando em outro DataFrame Spark"
   ]
  },
  {
   "cell_type": "code",
   "execution_count": 11,
   "id": "86678885",
   "metadata": {},
   "outputs": [],
   "source": [
    "df2 = spark.sql(\"\"\"\n",
    "SELECT DT_GERACAO \n",
    "FROM TESTE\n",
    "\"\"\")"
   ]
  },
  {
   "cell_type": "markdown",
   "id": "bc8f233d",
   "metadata": {},
   "source": [
    "# 07 - Convertendo o DataType de uma Coluna de um DataFrame Spark"
   ]
  },
  {
   "cell_type": "code",
   "execution_count": 12,
   "id": "7a9174f1",
   "metadata": {},
   "outputs": [
    {
     "name": "stdout",
     "output_type": "stream",
     "text": [
      "root\n",
      " |-- DT_GERACAO: timestamp (nullable = true)\n",
      "\n"
     ]
    }
   ],
   "source": [
    "df2.withColumn(\"DT_GERACAO\", df2[\"DT_GERACAO\"].cast(\"timestamp\")).printSchema()"
   ]
  },
  {
   "cell_type": "markdown",
   "id": "9c8a5fc3",
   "metadata": {},
   "source": [
    "# 08 - Convertendo o DataType e Criando uma nova Coluna de um DataFrame Spark"
   ]
  },
  {
   "cell_type": "code",
   "execution_count": 13,
   "id": "62f46074",
   "metadata": {},
   "outputs": [
    {
     "name": "stdout",
     "output_type": "stream",
     "text": [
      "root\n",
      " |-- DT_GERACAO: string (nullable = true)\n",
      " |-- DTGERACAO: timestamp (nullable = true)\n",
      "\n"
     ]
    }
   ],
   "source": [
    "df2.withColumn(\"DTGERACAO\", df2[\"DT_GERACAO\"].cast(\"timestamp\")).printSchema()"
   ]
  },
  {
   "cell_type": "markdown",
   "id": "189be692",
   "metadata": {},
   "source": [
    "# 09 - Renomeando uma Coluna em DataFrame Spark"
   ]
  },
  {
   "cell_type": "code",
   "execution_count": 14,
   "id": "226f30aa",
   "metadata": {},
   "outputs": [
    {
     "name": "stdout",
     "output_type": "stream",
     "text": [
      "root\n",
      " |-- DT_GERACAO2: string (nullable = true)\n",
      "\n"
     ]
    }
   ],
   "source": [
    "df2.withColumnRenamed(\"DT_GERACAO\",\"DT_GERACAO2\").printSchema()"
   ]
  },
  {
   "cell_type": "markdown",
   "id": "8858dfa0",
   "metadata": {},
   "source": [
    "# 10 - Renomeando Várias Colunas em DataFrame Spark"
   ]
  },
  {
   "cell_type": "code",
   "execution_count": 15,
   "id": "9b09a6ff",
   "metadata": {},
   "outputs": [],
   "source": [
    "df3 = spark.sql(\"\"\"\n",
    "SELECT DT_GERACAO , HH_GERACAO\n",
    "FROM TESTE\n",
    "\"\"\")"
   ]
  },
  {
   "cell_type": "code",
   "execution_count": 16,
   "id": "a0dcd7ca",
   "metadata": {},
   "outputs": [
    {
     "name": "stdout",
     "output_type": "stream",
     "text": [
      "root\n",
      " |-- DtGeracao: string (nullable = true)\n",
      " |-- HrGeracao: string (nullable = true)\n",
      "\n"
     ]
    }
   ],
   "source": [
    "df3 = df3.withColumnRenamed(\"DT_GERACAO\",\"DtGeracao\") \\\n",
    "    .withColumnRenamed(\"HH_GERACAO\",\"HrGeracao\")\n",
    "df3.printSchema()"
   ]
  },
  {
   "cell_type": "markdown",
   "id": "e05c71af",
   "metadata": {},
   "source": [
    "# 11 - Ordenando um DataFrame Spark"
   ]
  },
  {
   "cell_type": "code",
   "execution_count": 17,
   "id": "21a25505",
   "metadata": {},
   "outputs": [],
   "source": [
    "df4 = spark.sql(\"\"\"\n",
    "SELECT SG_UF , NM_URNA_CANDIDATO\n",
    "FROM TESTE\n",
    "\"\"\")"
   ]
  },
  {
   "cell_type": "code",
   "execution_count": 18,
   "id": "38f03908",
   "metadata": {},
   "outputs": [
    {
     "name": "stdout",
     "output_type": "stream",
     "text": [
      "+-----+--------------------+\n",
      "|SG_UF|   NM_URNA_CANDIDATO|\n",
      "+-----+--------------------+\n",
      "|   CE|    TONY IN�CIO SHOW|\n",
      "|   RJ|ENFERMEIRA SONIA ...|\n",
      "|   RS|       TANGER JARDIM|\n",
      "|   SP|  VAVA DO TRANSPORTE|\n",
      "|   AM|           LEDA MAIA|\n",
      "|   AL|        �TALO BASTOS|\n",
      "|   MG|     CARCILEI SOARES|\n",
      "|   RJ|PAI MARCELO DE OX...|\n",
      "|   PR|            DR MAGNO|\n",
      "|   ES|       VANETE CARIRI|\n",
      "|   PR|       RONNIE CASTRO|\n",
      "|   PA|      ELIEL FAUSTINO|\n",
      "|   RJ|        MARCOS UCH�A|\n",
      "|   ES|IDELFONSO DA VITORIA|\n",
      "|   AP|PAULO CUNHA COLET...|\n",
      "|   SE|GILENO PAO FILHO ...|\n",
      "|   AM|      DR GEORGE LINS|\n",
      "|   AP|      ALDILENE SOUZA|\n",
      "|   BA|MISSIONARIA SIMON...|\n",
      "|   RJ|KARLA DE LUCAS DO...|\n",
      "+-----+--------------------+\n",
      "only showing top 20 rows\n",
      "\n"
     ]
    }
   ],
   "source": [
    "df4.show()"
   ]
  },
  {
   "cell_type": "code",
   "execution_count": 19,
   "id": "ca87e519",
   "metadata": {},
   "outputs": [
    {
     "name": "stdout",
     "output_type": "stream",
     "text": [
      "+-----+---------------------+\n",
      "|SG_UF|NM_URNA_CANDIDATO    |\n",
      "+-----+---------------------+\n",
      "|AC   |PENINHA MAGALHAES    |\n",
      "|AC   |ANGELINO DO PANDEIRO |\n",
      "|AC   |TEREZINHA ARAUJO     |\n",
      "|AC   |HENRY NOGUEIRA       |\n",
      "|AC   |JOYCE DOS BURACOS    |\n",
      "|AC   |ADAL�CIO J�NIOR      |\n",
      "|AC   |TAMPINHA BITTAR      |\n",
      "|AC   |GIS ARAUJO           |\n",
      "|AC   |BEBE BOLSONARO       |\n",
      "|AC   |PROFESSOR CLEMILTON  |\n",
      "|AC   |LEONCIO CASTRO       |\n",
      "|AC   |LUANA ARA�JO         |\n",
      "|AC   |JAQUELINE MEDEIROS   |\n",
      "|AC   |SGT CARLOS TANACA    |\n",
      "|AC   |PEDRO LONGO          |\n",
      "|AC   |CARLINHOS UYENO      |\n",
      "|AC   |ROGGER WINS          |\n",
      "|AC   |MARCUS CAVALCANTE    |\n",
      "|AC   |PROFESSOR ROG�RIO    |\n",
      "|AC   |PASTORA CLEI�A FRAN�A|\n",
      "+-----+---------------------+\n",
      "only showing top 20 rows\n",
      "\n"
     ]
    }
   ],
   "source": [
    "df4.sort(\"SG_UF\").show(truncate=False)\n"
   ]
  },
  {
   "cell_type": "markdown",
   "id": "f1afe92a",
   "metadata": {},
   "source": [
    "# 11.1 - Ordenando um DataFrame Spark por Várias Colunas"
   ]
  },
  {
   "cell_type": "code",
   "execution_count": 20,
   "id": "f8e648ca",
   "metadata": {},
   "outputs": [
    {
     "name": "stdout",
     "output_type": "stream",
     "text": [
      "+-----+---------------------+\n",
      "|SG_UF|NM_URNA_CANDIDATO    |\n",
      "+-----+---------------------+\n",
      "|AC   |ADAILTON CRUZ        |\n",
      "|AC   |ADALBERTO ALMEIDA    |\n",
      "|AC   |ADAL�CIO J�NIOR      |\n",
      "|AC   |ADEKSON LIMA         |\n",
      "|AC   |ADENILSON DUAM       |\n",
      "|AC   |ADERL�NDIO FRAN�A    |\n",
      "|AC   |ADEVILSON QUEIROZ    |\n",
      "|AC   |ADONAY               |\n",
      "|AC   |ADRIANA ANDRADE      |\n",
      "|AC   |ADRIANA MAIA         |\n",
      "|AC   |ADRIANA MELO         |\n",
      "|AC   |AFONSO CONTADOR      |\n",
      "|AC   |AFONSO FERNANDES     |\n",
      "|AC   |ALAN RICK            |\n",
      "|AC   |ALDA RADINE          |\n",
      "|AC   |ALDENORA SALES       |\n",
      "|AC   |ALEXANDRE FERNANDES  |\n",
      "|AC   |ALEXANDRINA VASQUES  |\n",
      "|AC   |ALMINERES DO ELDORADO|\n",
      "|AC   |AMANDA SOUZA         |\n",
      "+-----+---------------------+\n",
      "only showing top 20 rows\n",
      "\n"
     ]
    }
   ],
   "source": [
    "df4.sort(\"SG_UF\",\"NM_URNA_CANDIDATO\").show(truncate=False)\n"
   ]
  },
  {
   "cell_type": "code",
   "execution_count": 21,
   "id": "a8087cd3",
   "metadata": {},
   "outputs": [
    {
     "name": "stdout",
     "output_type": "stream",
     "text": [
      "+-----+---------------------+\n",
      "|SG_UF|NM_URNA_CANDIDATO    |\n",
      "+-----+---------------------+\n",
      "|AC   |ADAILTON CRUZ        |\n",
      "|AC   |ADALBERTO ALMEIDA    |\n",
      "|AC   |ADAL�CIO J�NIOR      |\n",
      "|AC   |ADEKSON LIMA         |\n",
      "|AC   |ADENILSON DUAM       |\n",
      "|AC   |ADERL�NDIO FRAN�A    |\n",
      "|AC   |ADEVILSON QUEIROZ    |\n",
      "|AC   |ADONAY               |\n",
      "|AC   |ADRIANA ANDRADE      |\n",
      "|AC   |ADRIANA MAIA         |\n",
      "|AC   |ADRIANA MELO         |\n",
      "|AC   |AFONSO CONTADOR      |\n",
      "|AC   |AFONSO FERNANDES     |\n",
      "|AC   |ALAN RICK            |\n",
      "|AC   |ALDA RADINE          |\n",
      "|AC   |ALDENORA SALES       |\n",
      "|AC   |ALEXANDRE FERNANDES  |\n",
      "|AC   |ALEXANDRINA VASQUES  |\n",
      "|AC   |ALMINERES DO ELDORADO|\n",
      "|AC   |AMANDA SOUZA         |\n",
      "+-----+---------------------+\n",
      "only showing top 20 rows\n",
      "\n"
     ]
    }
   ],
   "source": [
    "\n",
    "df4.sort(col(\"SG_UF\"),col(\"NM_URNA_CANDIDATO\")).show(truncate=False)"
   ]
  },
  {
   "cell_type": "markdown",
   "id": "ad7054f5",
   "metadata": {},
   "source": [
    "# 12 - Agrupando um DataFrame Spark"
   ]
  },
  {
   "cell_type": "code",
   "execution_count": 22,
   "id": "d2f5c845",
   "metadata": {},
   "outputs": [
    {
     "ename": "SyntaxError",
     "evalue": "invalid syntax (1439449831.py, line 1)",
     "output_type": "error",
     "traceback": [
      "\u001b[1;36m  Input \u001b[1;32mIn [22]\u001b[1;36m\u001b[0m\n\u001b[1;33m    df4.groupBy(\"SG_UF\").count().show(truncate=False).\u001b[0m\n\u001b[1;37m                                                      ^\u001b[0m\n\u001b[1;31mSyntaxError\u001b[0m\u001b[1;31m:\u001b[0m invalid syntax\n"
     ]
    }
   ],
   "source": [
    "df4.groupBy(\"SG_UF\").count().show(truncate=False)."
   ]
  },
  {
   "cell_type": "code",
   "execution_count": null,
   "id": "0a71e88d",
   "metadata": {},
   "outputs": [],
   "source": [
    "df5 = spark.sql(\"\"\"\n",
    "SELECT SG_UF , NM_URNA_CANDIDATO, SQ_CANDIDATO\n",
    "FROM TESTE\n",
    "\"\"\")"
   ]
  },
  {
   "cell_type": "markdown",
   "id": "6d55ac96",
   "metadata": {},
   "source": [
    "# 13 - Funções de Agrupamento (Count(), Sum(), Min(), Max() e Mean())"
   ]
  },
  {
   "cell_type": "code",
   "execution_count": null,
   "id": "2ac9fa4d",
   "metadata": {},
   "outputs": [],
   "source": [
    "df5.groupBy(\"SG_UF\") \\\n",
    "    .agg(count(\"SQ_CANDIDATO\").alias(\"count_SQ_CANDIDATO\"), \\\n",
    "         sum(\"SQ_CANDIDATO\").alias(\"sum_SQ_CANDIDATO\"), \\\n",
    "         avg(\"SQ_CANDIDATO\").alias(\"avg_SQ_CANDIDATO\"), \\\n",
    "         min(\"SQ_CANDIDATO\").alias(\"min_SQ_CANDIDATO\"), \\\n",
    "         max(\"SQ_CANDIDATO\").alias(\"max_SQ_CANDIDATO\") \\\n",
    "     ) \\\n",
    "    .show(truncate=False)"
   ]
  }
 ],
 "metadata": {
  "kernelspec": {
   "display_name": "Python 3 (ipykernel)",
   "language": "python",
   "name": "python3"
  },
  "language_info": {
   "codemirror_mode": {
    "name": "ipython",
    "version": 3
   },
   "file_extension": ".py",
   "mimetype": "text/x-python",
   "name": "python",
   "nbconvert_exporter": "python",
   "pygments_lexer": "ipython3",
   "version": "3.9.12"
  }
 },
 "nbformat": 4,
 "nbformat_minor": 5
}
