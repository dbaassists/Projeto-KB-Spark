{
 "cells": [
  {
   "cell_type": "markdown",
   "id": "ab3fc3db",
   "metadata": {},
   "source": [
    "* Criado por: Gabriel Quintella\n",
    "* Data Criação: 24.01.2023\n",
    "* Data Última Modificação: 01.02.2023\n",
    "* Repositório: https://github.com/dbaassists/Projeto-KB-Spark/blob/main/Projeto%20KB%20Spark.ipynb\n",
    "\n",
    "DESCRIÇÃO DO PROJETO\n",
    "\n",
    "Criar uma base de conhecimento (KB) com comandos pyspark.\n",
    "\n",
    "*  Dia 1 - 24.01.2023 - Lançamento do Projeto;\n",
    "*  Dia 2 - 26.01.2023 - Aprimoramento do Projeto com melhoria nos exemplos criados;\n",
    "*  Dia 3 - 27.01.2023 - Aprimoramento do Projeto com melhoria nos exemplos criados;\n",
    "*  Dia 4 - 28.01.2023 - Aprimoramento do Projeto com melhoria nos exemplos criados;\n",
    "*  Dia 5 - 29.01.2023 - Aprimoramento do Projeto com melhoria nos exemplos criados;\n",
    "*  Dia 6 - 30.01.2023 - Aprimoramento do Projeto com melhoria nos exemplos criados;\n",
    "*  Dia 7 - 31.01.2023 - Aprimoramento do Projeto com melhoria nos exemplos criados;\n",
    "*  Dia 8 - 01.02.2023 - Reorganização dos tópicos e inclusões de novos exemplos;\n"
   ]
  },
  {
   "cell_type": "markdown",
   "id": "bbe5cefe",
   "metadata": {},
   "source": [
    " Sumário\n",
    "\n",
    "* 01 - Instalação da Biblioteca PySpark\n",
    "* 02 - Definição de Bibliotecas\n",
    "* 02.1 - Arquivos Usados\n",
    "* 03 - Métodos de Importação de Arquivos CSV\n",
    "* 03.1 - Importando Arquivo CSV de forma FULL\n",
    "* 03.2 - Importando Arquivo CSV Definindo o Delimitador de Colunas\n",
    "* 03.2.1 - Comando Semelhante ao DataFrame.info() do Pandas\n",
    "* 03.2.2 - Consultando a Estrutura do DataFrame Spark\n",
    "* 03.3 - Importando Arquivo CSV Definindo Delimitador de Colunas e Cabeçalho\n",
    "* 03.4 - Importando TODOS os Arquivos CSV de um Diretório\n",
    "* 03.5 - Importando Arquivo CSV Definindo inferSchema\n",
    "* 03.6 - Importando Arquivo CSV Definindo encoding\n",
    "* 03.7 - Definindo a Estrutura de um DataFrame e Importar CSV\n",
    "* 04 - Trabalhando com Datas - Converte coluna String (DD/MM/AAA) para Date (AAAAMMDD)\n",
    "* 04.1 - Trabalhando com Datas - A partir de uma coluna de Data, criar outra de Ano\n",
    "* 04.2 - Trabalhando com Datas - A partir de uma coluna de Data, criar outra de Mês\n",
    "* 04.3 - Trabalhando com Datas - A partir de uma coluna de Data, criar outra de Dia\n",
    "* 05 - Manipulando informações de um DataFrame\n",
    "* 05.1 - Tratando Valores Nulos\n",
    "* 05.2 - Filtrando Valores\n",
    "* 05.2.1 - Semelhante a cláusula LIKE - \"CONTÉM\" de Bancos de Dados\n",
    "* 05.2.2 - Semelhante a cláusula LIKE - \"INICIA COM\" de Bancos de Dados\n",
    "* 05.2.3 - Semelhante a cláusula LIKE - \"TERMINA COM\" de Bancos de Dados\n",
    "* 05.2.4 - Semelhante a cláusula WHERE de Bancos de Dados\n",
    "* 05.2.5 - Semelhante a cláusula IN de Bancos de Dados\n",
    "* 05.3 - Tratando Valores com UPPER, LOWER e INITCAPT\n",
    "* 06 - Transformando o DataFrame Spark em Tabela Temporária\n",
    "* 06.1 - Lendo a Tabela e Transformando em outro DataFrame Spark\n",
    "* 07 - Convertendo DataType de um DataFrame Spark\n",
    "* 07.1 - De uma Coluna\n",
    "* 07.2 - Criando uma nova Coluna\n",
    "* 08 - Renomeando Coluna(s) em DataFrame Spark\n",
    "* 08.1 - Uma Única Coluna\n",
    "* 08.2 - Várias Colunas\n",
    "* 09 - Ordenando um DataFrame Spark\n",
    "* 09.1 - Ordenando um DataFrame Spark por uma Coluna\n",
    "* 09.2 - Ordenando um DataFrame Spark por Várias Colunas\n",
    "* 10 - Agrupando um DataFrame Spark\n",
    "* 11 - Funções de Agrupamento (Count(), Sum(), Min(), Max() e Mean())"
   ]
  },
  {
   "cell_type": "markdown",
   "id": "95f74811",
   "metadata": {},
   "source": [
    "# 01 - Instalação da Biblioteca PySpark"
   ]
  },
  {
   "cell_type": "code",
   "execution_count": 1,
   "id": "6cbd34d8",
   "metadata": {},
   "outputs": [],
   "source": [
    "#pip install pyspark"
   ]
  },
  {
   "cell_type": "markdown",
   "id": "ffca164f",
   "metadata": {},
   "source": [
    "# 02 - Definição de Bibliotecas"
   ]
  },
  {
   "cell_type": "code",
   "execution_count": 2,
   "id": "f44ba938",
   "metadata": {},
   "outputs": [],
   "source": [
    "import sys\n",
    "import requests\n",
    "import pandas as pd\n",
    "import json\n",
    "import pyspark.sql.functions as F #import explode_outer, col\n",
    "from pyspark.sql.types import *\n",
    "import os\n",
    "from pyspark.sql import SparkSession\n",
    "from pyspark.sql.functions import *\n",
    "from pyspark import SparkConf\n",
    "from pyspark import SparkContext\n",
    "import urllib\n",
    "from sqlalchemy import __version__ as sa_version, create_engine, text\n"
   ]
  },
  {
   "cell_type": "markdown",
   "id": "7058b94f",
   "metadata": {},
   "source": [
    "# 02.1 - Arquivos Usados"
   ]
  },
  {
   "cell_type": "code",
   "execution_count": 3,
   "id": "70eaf0ec",
   "metadata": {},
   "outputs": [],
   "source": [
    "arquivoDadosEleitorais = '../ProjetoSparkKB/Dados/Candidato/consulta_cand_2022_BRASIL.csv'\n",
    "\n",
    "arquivoIndicadorHomicidio = '../ProjetoSparkKB/Dados/IndicadorSegurancaPublica/indicador_homocidio.csv'\n",
    "\n",
    "arquivoIndicadorHomicidio2 = '../ProjetoSparkKB/Dados/IndicadorSegurancaPublica/indicador_homocidio_2.csv'\n",
    "\n",
    "arquivoIndicadorHomicidioRes = '../ProjetoSparkKB/Dados/IndicadorSegurancaPublica/indicador_homocidio_res.csv'"
   ]
  },
  {
   "cell_type": "code",
   "execution_count": 4,
   "id": "f84feff0",
   "metadata": {},
   "outputs": [],
   "source": [
    "spark = SparkSession.builder.getOrCreate()"
   ]
  },
  {
   "cell_type": "markdown",
   "id": "601c08c7",
   "metadata": {},
   "source": [
    "# 03 - Métodos de Importação de Arquivos CSV\n",
    "\n",
    "* A CSV dataset is pointed to by path.\n",
    "* The path can be either a single CSV file or a directory of CSV files\n",
    "* path = \"examples/src/main/resources/people.csv\"\n",
    "\n",
    "df = spark.read.csv(path)\n",
    "\n",
    "df.show()\n",
    "\n",
    "** Documentação: https://spark.apache.org/docs/latest/sql-data-sources-csv.html"
   ]
  },
  {
   "cell_type": "markdown",
   "id": "bd5c1984",
   "metadata": {},
   "source": [
    "# 03.1 - Importando Arquivo CSV de forma FULL"
   ]
  },
  {
   "cell_type": "code",
   "execution_count": 5,
   "id": "232c57aa",
   "metadata": {},
   "outputs": [],
   "source": [
    "\n",
    "df = spark.read.csv(arquivoDadosEleitorais)\n"
   ]
  },
  {
   "cell_type": "markdown",
   "id": "54d88f86",
   "metadata": {},
   "source": [
    "# 03.2 - Importando Arquivo CSV Definindo o Delimitador de Colunas\n",
    "\n",
    "* Read a csv with delimiter, the default delimiter is \",\""
   ]
  },
  {
   "cell_type": "code",
   "execution_count": 6,
   "id": "25128308",
   "metadata": {},
   "outputs": [],
   "source": [
    "\n",
    "\n",
    "df = spark.read.option('delimiter',';').csv(arquivoDadosEleitorais)\n"
   ]
  },
  {
   "cell_type": "markdown",
   "id": "93edd60c",
   "metadata": {},
   "source": [
    "## 03.2.1 - Comando Semelhante ao DataFrame.info() do Pandas"
   ]
  },
  {
   "cell_type": "code",
   "execution_count": 7,
   "id": "223a623f",
   "metadata": {},
   "outputs": [
    {
     "name": "stdout",
     "output_type": "stream",
     "text": [
      "root\n",
      " |-- _c0: string (nullable = true)\n",
      " |-- _c1: string (nullable = true)\n",
      " |-- _c2: string (nullable = true)\n",
      " |-- _c3: string (nullable = true)\n",
      " |-- _c4: string (nullable = true)\n",
      " |-- _c5: string (nullable = true)\n",
      " |-- _c6: string (nullable = true)\n",
      " |-- _c7: string (nullable = true)\n",
      " |-- _c8: string (nullable = true)\n",
      " |-- _c9: string (nullable = true)\n",
      " |-- _c10: string (nullable = true)\n",
      " |-- _c11: string (nullable = true)\n",
      " |-- _c12: string (nullable = true)\n",
      " |-- _c13: string (nullable = true)\n",
      " |-- _c14: string (nullable = true)\n",
      " |-- _c15: string (nullable = true)\n",
      " |-- _c16: string (nullable = true)\n",
      " |-- _c17: string (nullable = true)\n",
      " |-- _c18: string (nullable = true)\n",
      " |-- _c19: string (nullable = true)\n",
      " |-- _c20: string (nullable = true)\n",
      " |-- _c21: string (nullable = true)\n",
      " |-- _c22: string (nullable = true)\n",
      " |-- _c23: string (nullable = true)\n",
      " |-- _c24: string (nullable = true)\n",
      " |-- _c25: string (nullable = true)\n",
      " |-- _c26: string (nullable = true)\n",
      " |-- _c27: string (nullable = true)\n",
      " |-- _c28: string (nullable = true)\n",
      " |-- _c29: string (nullable = true)\n",
      " |-- _c30: string (nullable = true)\n",
      " |-- _c31: string (nullable = true)\n",
      " |-- _c32: string (nullable = true)\n",
      " |-- _c33: string (nullable = true)\n",
      " |-- _c34: string (nullable = true)\n",
      " |-- _c35: string (nullable = true)\n",
      " |-- _c36: string (nullable = true)\n",
      " |-- _c37: string (nullable = true)\n",
      " |-- _c38: string (nullable = true)\n",
      " |-- _c39: string (nullable = true)\n",
      " |-- _c40: string (nullable = true)\n",
      " |-- _c41: string (nullable = true)\n",
      " |-- _c42: string (nullable = true)\n",
      " |-- _c43: string (nullable = true)\n",
      " |-- _c44: string (nullable = true)\n",
      " |-- _c45: string (nullable = true)\n",
      " |-- _c46: string (nullable = true)\n",
      " |-- _c47: string (nullable = true)\n",
      " |-- _c48: string (nullable = true)\n",
      " |-- _c49: string (nullable = true)\n",
      " |-- _c50: string (nullable = true)\n",
      " |-- _c51: string (nullable = true)\n",
      " |-- _c52: string (nullable = true)\n",
      " |-- _c53: string (nullable = true)\n",
      " |-- _c54: string (nullable = true)\n",
      " |-- _c55: string (nullable = true)\n",
      " |-- _c56: string (nullable = true)\n",
      " |-- _c57: string (nullable = true)\n",
      " |-- _c58: string (nullable = true)\n",
      " |-- _c59: string (nullable = true)\n",
      " |-- _c60: string (nullable = true)\n",
      " |-- _c61: string (nullable = true)\n",
      " |-- _c62: string (nullable = true)\n",
      " |-- _c63: string (nullable = true)\n",
      " |-- _c64: string (nullable = true)\n",
      " |-- _c65: string (nullable = true)\n",
      " |-- _c66: string (nullable = true)\n",
      " |-- _c67: string (nullable = true)\n",
      " |-- _c68: string (nullable = true)\n",
      " |-- _c69: string (nullable = true)\n",
      " |-- _c70: string (nullable = true)\n",
      "\n"
     ]
    }
   ],
   "source": [
    "df.printSchema()"
   ]
  },
  {
   "cell_type": "markdown",
   "id": "acba7a35",
   "metadata": {},
   "source": [
    "## 03.2.2 - Consultando a Estrutura do DataFrame Spark"
   ]
  },
  {
   "cell_type": "code",
   "execution_count": 8,
   "id": "aea930d2",
   "metadata": {},
   "outputs": [
    {
     "name": "stdout",
     "output_type": "stream",
     "text": [
      "+-------+----------+----------+-----------+---------------+-----------------+--------------------+-------------------+--------------------+----------+--------------+-----+-----+---------+------------------+---------------+--------------------+------------------+--------------------+-------------+----------+--------------------+--------------+--------------------+------+--------------------+---------+-------------+-----------------+-----+------------+-------------------+------------+------------+-------------+--------------------+--------------------+------+------------------+--------------------+-----+--------------------+-------------------+-------------+-------------------+--------------------+------------------+--------------+------------------+-------------------+-----------------+---------+------------------+-------+------------------+-------------+--------------------+------------------+--------+------------+----------------+--------------------+--------------------+--------------------+--------+--------------------+--------------------+--------------------+----------------+--------------------+--------+---------------+\n",
      "|summary|       _c0|       _c1|        _c2|            _c3|              _c4|                 _c5|                _c6|                 _c7|       _c8|           _c9| _c10| _c11|     _c12|              _c13|           _c14|                _c15|              _c16|                _c17|         _c18|      _c19|                _c20|          _c21|                _c22|  _c23|                _c24|     _c25|         _c26|             _c27| _c28|        _c29|               _c30|        _c31|        _c32|         _c33|                _c34|                _c35|  _c36|              _c37|                _c38| _c39|                _c40|               _c41|         _c42|               _c43|                _c44|              _c45|          _c46|              _c47|               _c48|             _c49|     _c50|              _c51|   _c52|              _c53|         _c54|                _c55|              _c56|    _c57|        _c58|            _c59|                _c60|                _c61|                _c62|    _c63|                _c64|                _c65|                _c66|            _c67|                _c68|    _c69|           _c70|\n",
      "+-------+----------+----------+-----------+---------------+-----------------+--------------------+-------------------+--------------------+----------+--------------+-----+-----+---------+------------------+---------------+--------------------+------------------+--------------------+-------------+----------+--------------------+--------------+--------------------+------+--------------------+---------+-------------+-----------------+-----+------------+-------------------+------------+------------+-------------+--------------------+--------------------+------+------------------+--------------------+-----+--------------------+-------------------+-------------+-------------------+--------------------+------------------+--------------+------------------+-------------------+-----------------+---------+------------------+-------+------------------+-------------+--------------------+------------------+--------+------------+----------------+--------------------+--------------------+--------------------+--------+--------------------+--------------------+--------------------+----------------+--------------------+--------+---------------+\n",
      "|  count|     29315|     29315|      29315|          29315|            29315|               29315|              29315|               29315|     29315|         29315|29315|29315|    29315|             29315|          29315|               29315|             29315|               29315|        29315|     29315|               29315|         29315|               29315| 29315|               29315|    29315|        29315|            29315|29315|       29315|              29315|       29315|       29315|        29315|               29315|               29315| 29315|             29315|               29315|29315|               29315|              29315|        29290|              29290|               29315|             29315|         29315|             29315|              29315|            29315|    29315|             29315|  29315|             29315|        29315|               29315|             29315|   29315|       29315|           29315|               29315|               29315|               29315|   29315|               29315|               29315|               29315|           29315|               29315|   29315|          29315|\n",
      "|   mean|      null|      null|     2022.0|            2.0|             null|   1.001773896431739|  545.9997270928567|                null|      null|          null| null| null|     null| 6.621853039503309|           null|1.520102352983276...| 21369.20833049055|                null|         null|      null|3.593280116028829E10|          null|  11.138500375247322|  null|  2.8570989970662484|     null|         null|33.95091082759091| null|        null|-0.5352732482772736|        null|        null|         null|1.520102790807002...|                null|  null|0.9989424848195402|                null| null|                -3.0|               null|         null|  48.69732664140121|  6.8154998498669E10|2.6705328511973803|          null| 6.950842600805076|               null|3.212287644129085|     null|1.9173773623524595|   null|419.17080575834075|         null|   2062307.921849772| 4.111891928771236|    null|        null|            null|                -1.0|6.012829357969214...|   2.123558709149212|    null|  2.1439585181142116|                null|                null|            null|  2.2286279593368357|    null|           null|\n",
      "| stddev|      null|      null|        0.0|            0.0|             null|0.042080994897107316|0.07295064332436894|                null|      null|          null| null| null|     null|0.8024890691676738|           null|7.340171573646939E10|22202.201761499375|                null|         null|      null|3.091180967653085...|          null|   2.647933950692263|  null|  2.8709397081305092|     null|         null|21.43896899948043| null|        null|  1.127434840146433|        null|        null|         null|7.340171673360342E10|                null|  null|0.1598458150150077|                null| null|2.952749782513274...|               null|         null| 11.345056995984976|7.781818533494855E10|0.9656185982812869|          null|1.4227532942982066|               null|2.479045563346378|     null|1.0033527524592856|   null|  330.081132521777|         null|   2280128.230039526|1.4588008677707747|    null|        null|            null|                 0.0|8.323999222021878E15|  1.8581761371838326|    null|  2.0042129326828633|                null|                null|            null|  2.2137333331364215|    null|           null|\n",
      "|    min|21/01/2023|  18:38:33|       2022|              2|ELEI��O ORDIN�RIA|                   1|                544|          DS_ELEICAO|02/10/2022|      ESTADUAL|   AC|   AC|     ACRE|                 1|    1� SUPLENTE|        100001599072|                10|AAVA SANTIAGO AGUIAR|      A VERA |    #NULO#|                  -4|      NM_EMAIL|                  12|  APTO|                  13|CANCELADO|    COLIGA��O|               10| AGIR|        AGIR|                 -1|      #NULO#|      #NULO#|       #NULO#|        100001680979| Avan�ar para faz...|#NULO#|                -4|BRASILEIRA (NATUR...|   AC|                  -3|ABADIA DOS DOURADOS|   01/01/1941|                 18|                  -4|                -4|     DS_GENERO|                -4|  DS_GRAU_INSTRUCAO|               -4|CASADO(A)|                -4|AMARELA|                -4|ADMINISTRADOR|                  -1|                -1|  #NULO#|           N|               N|                  -1|06001610220226030000|                  -1|  #NULO#|                  -1|              #NULO#|                 N�O|          #NULO#|                  -1|  #NULO#|              N|\n",
      "|    25%|      null|      null|     2022.0|            2.0|             null|                 1.0|              546.0|                null|      null|          null| null| null|     null|               6.0|           null|     9.0001651581E10|            3510.0|                null|         null|      null|       6.745374919E9|          null|                12.0|  null|                 2.0|     null|         null|             15.0| null|        null|               -1.0|        null|        null|         null|     9.0001683337E10|                null|  null|               1.0|                null| null|                -3.0|               null|         null|               41.0|     1.6231670485E10|               2.0|          null|               6.0|               null|              1.0|     null|               1.0|   null|             169.0|         null|          1270629.01|               4.0|    null|        null|            null|                -1.0|6.006787120226150...|                 2.0|    null|                 2.0|                null|                null|            null|                 2.0|    null|           null|\n",
      "|    50%|      null|      null|     2022.0|            2.0|             null|                 1.0|              546.0|                null|      null|          null| null| null|     null|               7.0|           null|    1.60001614519E11|           13113.0|                null|         null|      null|     2.9168724349E10|          null|                12.0|  null|                 2.0|     null|         null|             28.0| null|        null|               -1.0|        null|        null|         null|    1.60001681736E11|                null|  null|               1.0|                null| null|                -3.0|               null|         null|               48.0|     4.0168901759E10|               2.0|          null|               8.0|               null|              3.0|     null|               2.0|   null|             265.0|         null|          1270629.01|               5.0|    null|        null|            null|                -1.0| 6.01018802022609E18|                 2.0|    null|                 2.0|                null|                null|            null|                 2.0|    null|           null|\n",
      "|    75%|      null|      null|     2022.0|            2.0|             null|                 1.0|              546.0|                null|      null|          null| null| null|     null|               7.0|           null|    2.10001647987E11|           35350.0|                null|         null|      null|     6.2267906287E10|          null|                12.0|  null|                 2.0|     null|         null|             45.0| null|        null|               -1.0|        null|        null|         null|    2.10001683229E11|                null|  null|               1.0|                null| null|                -3.0|               null|         null|               57.0|     9.0463380221E10|               4.0|          null|               8.0|               null|              3.0|     null|               3.0|   null|             601.0|         null|          3176572.53|               5.0|    null|        null|            null|                -1.0|6.016593520226209...|                 2.0|    null|                 2.0|                null|                null|            null|                 2.0|    null|           null|\n",
      "|    max|DT_GERACAO|HH_GERACAO|ANO_ELEICAO|CD_TIPO_ELEICAO|  NM_TIPO_ELEICAO|            NR_TURNO|         CD_ELEICAO|Elei��o Geral Fed...|DT_ELEICAO|TP_ABRANGENCIA|   TO|   TO|TOCANTINS|          CD_CARGO|VICE-PRESIDENTE|        SQ_CANDIDATO|      NR_CANDIDATO|�VIDO SADOTE DE B...|�ZINHO ARAUJO|ZEIZA DOJO|    NR_CPF_CANDIDATO|N�O DIVULG�VEL|CD_SITUACAO_CANDI...|INAPTO|CD_DETALHE_SITUAC...| REN�NCIA|TP_AGREMIACAO|       NR_PARTIDO|   UP|UNI�O BRASIL|       NR_FEDERACAO|NM_FEDERACAO|SG_FEDERACAO|PT/PC do B/PV|        SQ_COLIGACAO| amazonas pode mais |    UP|  CD_NACIONALIDADE|PORTUGUESA COM IG...|   ZZ|CD_MUNICIPIO_NASC...|              �UREA|DT_NASCIMENTO|NR_IDADE_DATA_POSSE|NR_TITULO_ELEITOR...|         CD_GENERO|N�O DIVULG�VEL| CD_GRAU_INSTRUCAO|SUPERIOR INCOMPLETO|  CD_ESTADO_CIVIL| VI�VO(A)|       CD_COR_RACA|  PRETA|       CD_OCUPACAO|  ZOOTECNISTA|VR_DESPESA_MAX_CA...|  CD_SIT_TOT_TURNO|SUPLENTE|ST_REELEICAO|ST_DECLARAR_BENS|NR_PROTOCOLO_CAND...|         NR_PROCESSO|CD_SITUACAO_CANDI...|REN�NCIA|CD_SITUACAO_CANDI...|PENDENTE DE JULGA...|ST_CANDIDATO_INSE...|V�lido (legenda)|CD_SITUACAO_CANDI...|Ren�ncia|ST_PREST_CONTAS|\n",
      "+-------+----------+----------+-----------+---------------+-----------------+--------------------+-------------------+--------------------+----------+--------------+-----+-----+---------+------------------+---------------+--------------------+------------------+--------------------+-------------+----------+--------------------+--------------+--------------------+------+--------------------+---------+-------------+-----------------+-----+------------+-------------------+------------+------------+-------------+--------------------+--------------------+------+------------------+--------------------+-----+--------------------+-------------------+-------------+-------------------+--------------------+------------------+--------------+------------------+-------------------+-----------------+---------+------------------+-------+------------------+-------------+--------------------+------------------+--------+------------+----------------+--------------------+--------------------+--------------------+--------+--------------------+--------------------+--------------------+----------------+--------------------+--------+---------------+\n",
      "\n"
     ]
    }
   ],
   "source": [
    "df.summary().show()"
   ]
  },
  {
   "cell_type": "code",
   "execution_count": 9,
   "id": "cdb319f6",
   "metadata": {},
   "outputs": [],
   "source": [
    "#df.write.option(\"header\",True) \\\n",
    "# .csv(\"/tmp/spark_output/zipcodes\")"
   ]
  },
  {
   "cell_type": "markdown",
   "id": "85c7cb7b",
   "metadata": {},
   "source": [
    "# Entendendo a diferença entre as funções option() e options()"
   ]
  },
  {
   "cell_type": "markdown",
   "id": "b2babb40",
   "metadata": {},
   "source": [
    "# 03.3 - Importando Arquivo CSV Definindo Delimitador de Colunas e Cabeçalho\n",
    "\n",
    "## Usando Função: option()\n",
    "\n",
    "* Read a csv with delimiter and a header"
   ]
  },
  {
   "cell_type": "code",
   "execution_count": 10,
   "id": "48492cb3",
   "metadata": {
    "scrolled": false
   },
   "outputs": [
    {
     "name": "stdout",
     "output_type": "stream",
     "text": [
      "+----------+----------+-----------+---------------+-----------------+--------+----------+------------------------------+----------+--------------+-----+-----+--------------+--------+-----------------+------------+------------+---------------------+---------------------+-------------------+----------------+--------------+-----------------------+-----------------------+------------------------+------------------------+---------------+----------+-------------+------------------------------+------------+-------------------+------------+-----------------------+------------+---------------+-----------------------+----------------+----------------+----------------+-----------------------+-----------------------+-------------+-------------------+-----------------------------+---------+---------+-----------------+-------------------+---------------+---------------+-----------+-----------+-----------+-------------------------+-----------------------+----------------+----------------+------------+----------------+------------------------+--------------------+----------------------------+----------------------------+--------------------------+--------------------------+--------------------------+------------------------+-------------------------+-------------------------+---------------+\n",
      "|DT_GERACAO|HH_GERACAO|ANO_ELEICAO|CD_TIPO_ELEICAO|NM_TIPO_ELEICAO  |NR_TURNO|CD_ELEICAO|DS_ELEICAO                    |DT_ELEICAO|TP_ABRANGENCIA|SG_UF|SG_UE|NM_UE         |CD_CARGO|DS_CARGO         |SQ_CANDIDATO|NR_CANDIDATO|NM_CANDIDATO         |NM_URNA_CANDIDATO    |NM_SOCIAL_CANDIDATO|NR_CPF_CANDIDATO|NM_EMAIL      |CD_SITUACAO_CANDIDATURA|DS_SITUACAO_CANDIDATURA|CD_DETALHE_SITUACAO_CAND|DS_DETALHE_SITUACAO_CAND|TP_AGREMIACAO  |NR_PARTIDO|SG_PARTIDO   |NM_PARTIDO                    |NR_FEDERACAO|NM_FEDERACAO       |SG_FEDERACAO|DS_COMPOSICAO_FEDERACAO|SQ_COLIGACAO|NM_COLIGACAO   |DS_COMPOSICAO_COLIGACAO|CD_NACIONALIDADE|DS_NACIONALIDADE|SG_UF_NASCIMENTO|CD_MUNICIPIO_NASCIMENTO|NM_MUNICIPIO_NASCIMENTO|DT_NASCIMENTO|NR_IDADE_DATA_POSSE|NR_TITULO_ELEITORAL_CANDIDATO|CD_GENERO|DS_GENERO|CD_GRAU_INSTRUCAO|DS_GRAU_INSTRUCAO  |CD_ESTADO_CIVIL|DS_ESTADO_CIVIL|CD_COR_RACA|DS_COR_RACA|CD_OCUPACAO|DS_OCUPACAO              |VR_DESPESA_MAX_CAMPANHA|CD_SIT_TOT_TURNO|DS_SIT_TOT_TURNO|ST_REELEICAO|ST_DECLARAR_BENS|NR_PROTOCOLO_CANDIDATURA|NR_PROCESSO         |CD_SITUACAO_CANDIDATO_PLEITO|DS_SITUACAO_CANDIDATO_PLEITO|CD_SITUACAO_CANDIDATO_URNA|DS_SITUACAO_CANDIDATO_URNA|ST_CANDIDATO_INSERIDO_URNA|NM_TIPO_DESTINACAO_VOTOS|CD_SITUACAO_CANDIDATO_TOT|DS_SITUACAO_CANDIDATO_TOT|ST_PREST_CONTAS|\n",
      "+----------+----------+-----------+---------------+-----------------+--------+----------+------------------------------+----------+--------------+-----+-----+--------------+--------+-----------------+------------+------------+---------------------+---------------------+-------------------+----------------+--------------+-----------------------+-----------------------+------------------------+------------------------+---------------+----------+-------------+------------------------------+------------+-------------------+------------+-----------------------+------------+---------------+-----------------------+----------------+----------------+----------------+-----------------------+-----------------------+-------------+-------------------+-----------------------------+---------+---------+-----------------+-------------------+---------------+---------------+-----------+-----------+-----------+-------------------------+-----------------------+----------------+----------------+------------+----------------+------------------------+--------------------+----------------------------+----------------------------+--------------------------+--------------------------+--------------------------+------------------------+-------------------------+-------------------------+---------------+\n",
      "|21/01/2023|18:38:33  |2022       |2              |ELEI��O ORDIN�RIA|1       |546       |Elei��es Gerais Estaduais 2022|02/10/2022|ESTADUAL      |CE   |CE   |CEAR�         |7       |DEPUTADO ESTADUAL|60001613096 |50011       |TONY BEZERRA DE SOUSA|TONY IN�CIO SHOW     |#NULO#             |12055010450     |N�O DIVULG�VEL|12                     |APTO                   |2                       |DEFERIDO                |FEDERA��O      |50        |PSOL         |PARTIDO SOCIALISMO E LIBERDADE|3           |Federa��o PSOL REDE|PSOL/REDE   |PSOL/REDE              |60001681655 |FEDERA��O      |PSOL/REDE              |1               |BRASILEIRA NATA |CE              |-3                     |FORTALEZA              |25/12/1995   |27                 |044356531260                 |2        |MASCULINO|7                |SUPERIOR INCOMPLETO|1              |SOLTEIRO(A)    |01         |BRANCA     |163        |CANTOR E COMPOSITOR      |1270629.01             |5               |SUPLENTE        |N           |N               |-1                      |06005353420226060000|2                           |DEFERIDO                    |2                         |DEFERIDO                  |SIM                       |V�lido                  |2                        |Deferido                 |S              |\n",
      "|21/01/2023|18:38:33  |2022       |2              |ELEI��O ORDIN�RIA|1       |546       |Elei��es Gerais Estaduais 2022|02/10/2022|ESTADUAL      |RJ   |RJ   |RIO DE JANEIRO|7       |DEPUTADO ESTADUAL|190001601406|77275       |S�NIA MARIA GAMA LIMA|ENFERMEIRA SONIA LIMA|#NULO#             |61260606791     |N�O DIVULG�VEL|12                     |APTO                   |2                       |DEFERIDO                |PARTIDO ISOLADO|77        |SOLIDARIEDADE|SOLIDARIEDADE                 |-1          |#NULO#             |#NULO#      |#NULO#                 |190001681112|PARTIDO ISOLADO|SOLIDARIEDADE          |1               |BRASILEIRA NATA |RJ              |-3                     |RIO DE JANEIRO         |07/12/1960   |62                 |015784480370                 |4        |FEMININO |8                |SUPERIOR COMPLETO  |9              |DIVORCIADO(A)  |01         |BRANCA     |297        |SERVIDOR P�BLICO ESTADUAL|1270629.01             |5               |SUPLENTE        |N           |S               |-1                      |06008292620226190000|2                           |DEFERIDO                    |2                         |DEFERIDO                  |SIM                       |V�lido                  |2                        |Deferido                 |S              |\n",
      "+----------+----------+-----------+---------------+-----------------+--------+----------+------------------------------+----------+--------------+-----+-----+--------------+--------+-----------------+------------+------------+---------------------+---------------------+-------------------+----------------+--------------+-----------------------+-----------------------+------------------------+------------------------+---------------+----------+-------------+------------------------------+------------+-------------------+------------+-----------------------+------------+---------------+-----------------------+----------------+----------------+----------------+-----------------------+-----------------------+-------------+-------------------+-----------------------------+---------+---------+-----------------+-------------------+---------------+---------------+-----------+-----------+-----------+-------------------------+-----------------------+----------------+----------------+------------+----------------+------------------------+--------------------+----------------------------+----------------------------+--------------------------+--------------------------+--------------------------+------------------------+-------------------------+-------------------------+---------------+\n",
      "only showing top 2 rows\n",
      "\n"
     ]
    }
   ],
   "source": [
    "\n",
    "\n",
    "df = spark.read.option('delimiter',';') \\\n",
    "                .option('header','True') \\\n",
    "                .csv(arquivoDadosEleitorais)\n",
    "\n",
    "#df.select('DT_GERACAO').show()\n",
    "\n",
    "df.show(2,truncate=False)"
   ]
  },
  {
   "cell_type": "markdown",
   "id": "b9d9e2d7",
   "metadata": {},
   "source": [
    "## Usando Função: options()\n",
    "\n",
    "* You can also use options() to use multiple options"
   ]
  },
  {
   "cell_type": "code",
   "execution_count": 11,
   "id": "525e45fd",
   "metadata": {},
   "outputs": [
    {
     "name": "stdout",
     "output_type": "stream",
     "text": [
      "+----------+----------+-----------+---------------+-----------------+--------+----------+------------------------------+----------+--------------+-----+-----+--------------+--------+-----------------+------------+------------+---------------------+---------------------+-------------------+----------------+--------------+-----------------------+-----------------------+------------------------+------------------------+---------------+----------+-------------+------------------------------+------------+-------------------+------------+-----------------------+------------+---------------+-----------------------+----------------+----------------+----------------+-----------------------+-----------------------+-------------+-------------------+-----------------------------+---------+---------+-----------------+-------------------+---------------+---------------+-----------+-----------+-----------+-------------------------+-----------------------+----------------+----------------+------------+----------------+------------------------+--------------------+----------------------------+----------------------------+--------------------------+--------------------------+--------------------------+------------------------+-------------------------+-------------------------+---------------+\n",
      "|DT_GERACAO|HH_GERACAO|ANO_ELEICAO|CD_TIPO_ELEICAO|NM_TIPO_ELEICAO  |NR_TURNO|CD_ELEICAO|DS_ELEICAO                    |DT_ELEICAO|TP_ABRANGENCIA|SG_UF|SG_UE|NM_UE         |CD_CARGO|DS_CARGO         |SQ_CANDIDATO|NR_CANDIDATO|NM_CANDIDATO         |NM_URNA_CANDIDATO    |NM_SOCIAL_CANDIDATO|NR_CPF_CANDIDATO|NM_EMAIL      |CD_SITUACAO_CANDIDATURA|DS_SITUACAO_CANDIDATURA|CD_DETALHE_SITUACAO_CAND|DS_DETALHE_SITUACAO_CAND|TP_AGREMIACAO  |NR_PARTIDO|SG_PARTIDO   |NM_PARTIDO                    |NR_FEDERACAO|NM_FEDERACAO       |SG_FEDERACAO|DS_COMPOSICAO_FEDERACAO|SQ_COLIGACAO|NM_COLIGACAO   |DS_COMPOSICAO_COLIGACAO|CD_NACIONALIDADE|DS_NACIONALIDADE|SG_UF_NASCIMENTO|CD_MUNICIPIO_NASCIMENTO|NM_MUNICIPIO_NASCIMENTO|DT_NASCIMENTO|NR_IDADE_DATA_POSSE|NR_TITULO_ELEITORAL_CANDIDATO|CD_GENERO|DS_GENERO|CD_GRAU_INSTRUCAO|DS_GRAU_INSTRUCAO  |CD_ESTADO_CIVIL|DS_ESTADO_CIVIL|CD_COR_RACA|DS_COR_RACA|CD_OCUPACAO|DS_OCUPACAO              |VR_DESPESA_MAX_CAMPANHA|CD_SIT_TOT_TURNO|DS_SIT_TOT_TURNO|ST_REELEICAO|ST_DECLARAR_BENS|NR_PROTOCOLO_CANDIDATURA|NR_PROCESSO         |CD_SITUACAO_CANDIDATO_PLEITO|DS_SITUACAO_CANDIDATO_PLEITO|CD_SITUACAO_CANDIDATO_URNA|DS_SITUACAO_CANDIDATO_URNA|ST_CANDIDATO_INSERIDO_URNA|NM_TIPO_DESTINACAO_VOTOS|CD_SITUACAO_CANDIDATO_TOT|DS_SITUACAO_CANDIDATO_TOT|ST_PREST_CONTAS|\n",
      "+----------+----------+-----------+---------------+-----------------+--------+----------+------------------------------+----------+--------------+-----+-----+--------------+--------+-----------------+------------+------------+---------------------+---------------------+-------------------+----------------+--------------+-----------------------+-----------------------+------------------------+------------------------+---------------+----------+-------------+------------------------------+------------+-------------------+------------+-----------------------+------------+---------------+-----------------------+----------------+----------------+----------------+-----------------------+-----------------------+-------------+-------------------+-----------------------------+---------+---------+-----------------+-------------------+---------------+---------------+-----------+-----------+-----------+-------------------------+-----------------------+----------------+----------------+------------+----------------+------------------------+--------------------+----------------------------+----------------------------+--------------------------+--------------------------+--------------------------+------------------------+-------------------------+-------------------------+---------------+\n",
      "|21/01/2023|18:38:33  |2022       |2              |ELEI��O ORDIN�RIA|1       |546       |Elei��es Gerais Estaduais 2022|02/10/2022|ESTADUAL      |CE   |CE   |CEAR�         |7       |DEPUTADO ESTADUAL|60001613096 |50011       |TONY BEZERRA DE SOUSA|TONY IN�CIO SHOW     |#NULO#             |12055010450     |N�O DIVULG�VEL|12                     |APTO                   |2                       |DEFERIDO                |FEDERA��O      |50        |PSOL         |PARTIDO SOCIALISMO E LIBERDADE|3           |Federa��o PSOL REDE|PSOL/REDE   |PSOL/REDE              |60001681655 |FEDERA��O      |PSOL/REDE              |1               |BRASILEIRA NATA |CE              |-3                     |FORTALEZA              |25/12/1995   |27                 |044356531260                 |2        |MASCULINO|7                |SUPERIOR INCOMPLETO|1              |SOLTEIRO(A)    |01         |BRANCA     |163        |CANTOR E COMPOSITOR      |1270629.01             |5               |SUPLENTE        |N           |N               |-1                      |06005353420226060000|2                           |DEFERIDO                    |2                         |DEFERIDO                  |SIM                       |V�lido                  |2                        |Deferido                 |S              |\n",
      "|21/01/2023|18:38:33  |2022       |2              |ELEI��O ORDIN�RIA|1       |546       |Elei��es Gerais Estaduais 2022|02/10/2022|ESTADUAL      |RJ   |RJ   |RIO DE JANEIRO|7       |DEPUTADO ESTADUAL|190001601406|77275       |S�NIA MARIA GAMA LIMA|ENFERMEIRA SONIA LIMA|#NULO#             |61260606791     |N�O DIVULG�VEL|12                     |APTO                   |2                       |DEFERIDO                |PARTIDO ISOLADO|77        |SOLIDARIEDADE|SOLIDARIEDADE                 |-1          |#NULO#             |#NULO#      |#NULO#                 |190001681112|PARTIDO ISOLADO|SOLIDARIEDADE          |1               |BRASILEIRA NATA |RJ              |-3                     |RIO DE JANEIRO         |07/12/1960   |62                 |015784480370                 |4        |FEMININO |8                |SUPERIOR COMPLETO  |9              |DIVORCIADO(A)  |01         |BRANCA     |297        |SERVIDOR P�BLICO ESTADUAL|1270629.01             |5               |SUPLENTE        |N           |S               |-1                      |06008292620226190000|2                           |DEFERIDO                    |2                         |DEFERIDO                  |SIM                       |V�lido                  |2                        |Deferido                 |S              |\n",
      "+----------+----------+-----------+---------------+-----------------+--------+----------+------------------------------+----------+--------------+-----+-----+--------------+--------+-----------------+------------+------------+---------------------+---------------------+-------------------+----------------+--------------+-----------------------+-----------------------+------------------------+------------------------+---------------+----------+-------------+------------------------------+------------+-------------------+------------+-----------------------+------------+---------------+-----------------------+----------------+----------------+----------------+-----------------------+-----------------------+-------------+-------------------+-----------------------------+---------+---------+-----------------+-------------------+---------------+---------------+-----------+-----------+-----------+-------------------------+-----------------------+----------------+----------------+------------+----------------+------------------------+--------------------+----------------------------+----------------------------+--------------------------+--------------------------+--------------------------+------------------------+-------------------------+-------------------------+---------------+\n",
      "only showing top 2 rows\n",
      "\n"
     ]
    }
   ],
   "source": [
    "\n",
    "\n",
    "df = spark.read.options(delimiter=';'\n",
    "                        , header='True') \\\n",
    "                        .csv(arquivoDadosEleitorais)\n",
    "\n",
    "#df.select('DT_GERACAO').show()\n",
    "\n",
    "df.show(2,truncate=False)"
   ]
  },
  {
   "cell_type": "markdown",
   "id": "cf43e8b3",
   "metadata": {},
   "source": [
    "# 03.4 - Importando TODOS os Arquivos CSV de um Diretório\n",
    "\n",
    "## Usando spark.read.csv()\n",
    "\n",
    "* Read all files in a folder, please make sure only CSV files should present in the folder."
   ]
  },
  {
   "cell_type": "code",
   "execution_count": 12,
   "id": "c7f8c08b",
   "metadata": {},
   "outputs": [
    {
     "data": {
      "text/plain": [
       "62204"
      ]
     },
     "execution_count": 12,
     "metadata": {},
     "output_type": "execute_result"
    }
   ],
   "source": [
    "\n",
    "folderPath = \"../ProjetoSparkKB/Dados/Candidato/\"\n",
    "df5 = spark.read.csv(folderPath,sep=';')\n",
    "df5.count()"
   ]
  },
  {
   "cell_type": "markdown",
   "id": "b69cd341",
   "metadata": {},
   "source": [
    "## Usando spark.read.format()\n"
   ]
  },
  {
   "cell_type": "code",
   "execution_count": 13,
   "id": "f07c5f64",
   "metadata": {},
   "outputs": [
    {
     "name": "stdout",
     "output_type": "stream",
     "text": [
      "root\n",
      " |-- _c0: string (nullable = true)\n",
      "\n"
     ]
    }
   ],
   "source": [
    "\n",
    "dfExemplo2 = spark.read.format(\"csv\").load(arquivoDadosEleitorais)\n",
    "    \n",
    "dfExemplo2.printSchema()"
   ]
  },
  {
   "cell_type": "markdown",
   "id": "1aa22e35",
   "metadata": {},
   "source": [
    "# 03.5 - Importando Arquivo CSV Definindo inferSchema\n",
    "\n",
    "## Entendendo o parâmetro inferSchema"
   ]
  },
  {
   "cell_type": "markdown",
   "id": "c8e66691",
   "metadata": {},
   "source": [
    "## Parâmetro inferSchema FALSE"
   ]
  },
  {
   "cell_type": "code",
   "execution_count": 14,
   "id": "2f47db82",
   "metadata": {},
   "outputs": [
    {
     "name": "stdout",
     "output_type": "stream",
     "text": [
      "root\n",
      " |-- DT_GERACAO: string (nullable = true)\n",
      " |-- HH_GERACAO: string (nullable = true)\n",
      " |-- ANO_ELEICAO: string (nullable = true)\n",
      " |-- CD_TIPO_ELEICAO: string (nullable = true)\n",
      " |-- NM_TIPO_ELEICAO: string (nullable = true)\n",
      " |-- NR_TURNO: string (nullable = true)\n",
      " |-- CD_ELEICAO: string (nullable = true)\n",
      " |-- DS_ELEICAO: string (nullable = true)\n",
      " |-- DT_ELEICAO: string (nullable = true)\n",
      " |-- TP_ABRANGENCIA: string (nullable = true)\n",
      " |-- SG_UF: string (nullable = true)\n",
      " |-- SG_UE: string (nullable = true)\n",
      " |-- NM_UE: string (nullable = true)\n",
      " |-- CD_CARGO: string (nullable = true)\n",
      " |-- DS_CARGO: string (nullable = true)\n",
      " |-- SQ_CANDIDATO: string (nullable = true)\n",
      " |-- NR_CANDIDATO: string (nullable = true)\n",
      " |-- NM_CANDIDATO: string (nullable = true)\n",
      " |-- NM_URNA_CANDIDATO: string (nullable = true)\n",
      " |-- NM_SOCIAL_CANDIDATO: string (nullable = true)\n",
      " |-- NR_CPF_CANDIDATO: string (nullable = true)\n",
      " |-- NM_EMAIL: string (nullable = true)\n",
      " |-- CD_SITUACAO_CANDIDATURA: string (nullable = true)\n",
      " |-- DS_SITUACAO_CANDIDATURA: string (nullable = true)\n",
      " |-- CD_DETALHE_SITUACAO_CAND: string (nullable = true)\n",
      " |-- DS_DETALHE_SITUACAO_CAND: string (nullable = true)\n",
      " |-- TP_AGREMIACAO: string (nullable = true)\n",
      " |-- NR_PARTIDO: string (nullable = true)\n",
      " |-- SG_PARTIDO: string (nullable = true)\n",
      " |-- NM_PARTIDO: string (nullable = true)\n",
      " |-- NR_FEDERACAO: string (nullable = true)\n",
      " |-- NM_FEDERACAO: string (nullable = true)\n",
      " |-- SG_FEDERACAO: string (nullable = true)\n",
      " |-- DS_COMPOSICAO_FEDERACAO: string (nullable = true)\n",
      " |-- SQ_COLIGACAO: string (nullable = true)\n",
      " |-- NM_COLIGACAO: string (nullable = true)\n",
      " |-- DS_COMPOSICAO_COLIGACAO: string (nullable = true)\n",
      " |-- CD_NACIONALIDADE: string (nullable = true)\n",
      " |-- DS_NACIONALIDADE: string (nullable = true)\n",
      " |-- SG_UF_NASCIMENTO: string (nullable = true)\n",
      " |-- CD_MUNICIPIO_NASCIMENTO: string (nullable = true)\n",
      " |-- NM_MUNICIPIO_NASCIMENTO: string (nullable = true)\n",
      " |-- DT_NASCIMENTO: string (nullable = true)\n",
      " |-- NR_IDADE_DATA_POSSE: string (nullable = true)\n",
      " |-- NR_TITULO_ELEITORAL_CANDIDATO: string (nullable = true)\n",
      " |-- CD_GENERO: string (nullable = true)\n",
      " |-- DS_GENERO: string (nullable = true)\n",
      " |-- CD_GRAU_INSTRUCAO: string (nullable = true)\n",
      " |-- DS_GRAU_INSTRUCAO: string (nullable = true)\n",
      " |-- CD_ESTADO_CIVIL: string (nullable = true)\n",
      " |-- DS_ESTADO_CIVIL: string (nullable = true)\n",
      " |-- CD_COR_RACA: string (nullable = true)\n",
      " |-- DS_COR_RACA: string (nullable = true)\n",
      " |-- CD_OCUPACAO: string (nullable = true)\n",
      " |-- DS_OCUPACAO: string (nullable = true)\n",
      " |-- VR_DESPESA_MAX_CAMPANHA: string (nullable = true)\n",
      " |-- CD_SIT_TOT_TURNO: string (nullable = true)\n",
      " |-- DS_SIT_TOT_TURNO: string (nullable = true)\n",
      " |-- ST_REELEICAO: string (nullable = true)\n",
      " |-- ST_DECLARAR_BENS: string (nullable = true)\n",
      " |-- NR_PROTOCOLO_CANDIDATURA: string (nullable = true)\n",
      " |-- NR_PROCESSO: string (nullable = true)\n",
      " |-- CD_SITUACAO_CANDIDATO_PLEITO: string (nullable = true)\n",
      " |-- DS_SITUACAO_CANDIDATO_PLEITO: string (nullable = true)\n",
      " |-- CD_SITUACAO_CANDIDATO_URNA: string (nullable = true)\n",
      " |-- DS_SITUACAO_CANDIDATO_URNA: string (nullable = true)\n",
      " |-- ST_CANDIDATO_INSERIDO_URNA: string (nullable = true)\n",
      " |-- NM_TIPO_DESTINACAO_VOTOS: string (nullable = true)\n",
      " |-- CD_SITUACAO_CANDIDATO_TOT: string (nullable = true)\n",
      " |-- DS_SITUACAO_CANDIDATO_TOT: string (nullable = true)\n",
      " |-- ST_PREST_CONTAS: string (nullable = true)\n",
      "\n"
     ]
    }
   ],
   "source": [
    "\n",
    "dfExemplo3 = spark.read.option(\"inferSchema\",False) \\\n",
    "                .option(\"delimiter\",\";\") \\\n",
    "                .option(\"header\",True) \\\n",
    "                .csv(arquivoDadosEleitorais)\n",
    "\n",
    "dfExemplo3.printSchema()"
   ]
  },
  {
   "cell_type": "markdown",
   "id": "669295de",
   "metadata": {},
   "source": [
    "## Parâmetro inferSchema TRUE"
   ]
  },
  {
   "cell_type": "code",
   "execution_count": 15,
   "id": "fe817b25",
   "metadata": {},
   "outputs": [
    {
     "name": "stdout",
     "output_type": "stream",
     "text": [
      "root\n",
      " |-- DT_GERACAO: string (nullable = true)\n",
      " |-- HH_GERACAO: timestamp (nullable = true)\n",
      " |-- ANO_ELEICAO: integer (nullable = true)\n",
      " |-- CD_TIPO_ELEICAO: integer (nullable = true)\n",
      " |-- NM_TIPO_ELEICAO: string (nullable = true)\n",
      " |-- NR_TURNO: integer (nullable = true)\n",
      " |-- CD_ELEICAO: integer (nullable = true)\n",
      " |-- DS_ELEICAO: string (nullable = true)\n",
      " |-- DT_ELEICAO: string (nullable = true)\n",
      " |-- TP_ABRANGENCIA: string (nullable = true)\n",
      " |-- SG_UF: string (nullable = true)\n",
      " |-- SG_UE: string (nullable = true)\n",
      " |-- NM_UE: string (nullable = true)\n",
      " |-- CD_CARGO: integer (nullable = true)\n",
      " |-- DS_CARGO: string (nullable = true)\n",
      " |-- SQ_CANDIDATO: long (nullable = true)\n",
      " |-- NR_CANDIDATO: integer (nullable = true)\n",
      " |-- NM_CANDIDATO: string (nullable = true)\n",
      " |-- NM_URNA_CANDIDATO: string (nullable = true)\n",
      " |-- NM_SOCIAL_CANDIDATO: string (nullable = true)\n",
      " |-- NR_CPF_CANDIDATO: long (nullable = true)\n",
      " |-- NM_EMAIL: string (nullable = true)\n",
      " |-- CD_SITUACAO_CANDIDATURA: integer (nullable = true)\n",
      " |-- DS_SITUACAO_CANDIDATURA: string (nullable = true)\n",
      " |-- CD_DETALHE_SITUACAO_CAND: integer (nullable = true)\n",
      " |-- DS_DETALHE_SITUACAO_CAND: string (nullable = true)\n",
      " |-- TP_AGREMIACAO: string (nullable = true)\n",
      " |-- NR_PARTIDO: integer (nullable = true)\n",
      " |-- SG_PARTIDO: string (nullable = true)\n",
      " |-- NM_PARTIDO: string (nullable = true)\n",
      " |-- NR_FEDERACAO: integer (nullable = true)\n",
      " |-- NM_FEDERACAO: string (nullable = true)\n",
      " |-- SG_FEDERACAO: string (nullable = true)\n",
      " |-- DS_COMPOSICAO_FEDERACAO: string (nullable = true)\n",
      " |-- SQ_COLIGACAO: long (nullable = true)\n",
      " |-- NM_COLIGACAO: string (nullable = true)\n",
      " |-- DS_COMPOSICAO_COLIGACAO: string (nullable = true)\n",
      " |-- CD_NACIONALIDADE: integer (nullable = true)\n",
      " |-- DS_NACIONALIDADE: string (nullable = true)\n",
      " |-- SG_UF_NASCIMENTO: string (nullable = true)\n",
      " |-- CD_MUNICIPIO_NASCIMENTO: integer (nullable = true)\n",
      " |-- NM_MUNICIPIO_NASCIMENTO: string (nullable = true)\n",
      " |-- DT_NASCIMENTO: string (nullable = true)\n",
      " |-- NR_IDADE_DATA_POSSE: integer (nullable = true)\n",
      " |-- NR_TITULO_ELEITORAL_CANDIDATO: long (nullable = true)\n",
      " |-- CD_GENERO: integer (nullable = true)\n",
      " |-- DS_GENERO: string (nullable = true)\n",
      " |-- CD_GRAU_INSTRUCAO: integer (nullable = true)\n",
      " |-- DS_GRAU_INSTRUCAO: string (nullable = true)\n",
      " |-- CD_ESTADO_CIVIL: integer (nullable = true)\n",
      " |-- DS_ESTADO_CIVIL: string (nullable = true)\n",
      " |-- CD_COR_RACA: integer (nullable = true)\n",
      " |-- DS_COR_RACA: string (nullable = true)\n",
      " |-- CD_OCUPACAO: integer (nullable = true)\n",
      " |-- DS_OCUPACAO: string (nullable = true)\n",
      " |-- VR_DESPESA_MAX_CAMPANHA: double (nullable = true)\n",
      " |-- CD_SIT_TOT_TURNO: integer (nullable = true)\n",
      " |-- DS_SIT_TOT_TURNO: string (nullable = true)\n",
      " |-- ST_REELEICAO: string (nullable = true)\n",
      " |-- ST_DECLARAR_BENS: string (nullable = true)\n",
      " |-- NR_PROTOCOLO_CANDIDATURA: integer (nullable = true)\n",
      " |-- NR_PROCESSO: long (nullable = true)\n",
      " |-- CD_SITUACAO_CANDIDATO_PLEITO: integer (nullable = true)\n",
      " |-- DS_SITUACAO_CANDIDATO_PLEITO: string (nullable = true)\n",
      " |-- CD_SITUACAO_CANDIDATO_URNA: integer (nullable = true)\n",
      " |-- DS_SITUACAO_CANDIDATO_URNA: string (nullable = true)\n",
      " |-- ST_CANDIDATO_INSERIDO_URNA: string (nullable = true)\n",
      " |-- NM_TIPO_DESTINACAO_VOTOS: string (nullable = true)\n",
      " |-- CD_SITUACAO_CANDIDATO_TOT: integer (nullable = true)\n",
      " |-- DS_SITUACAO_CANDIDATO_TOT: string (nullable = true)\n",
      " |-- ST_PREST_CONTAS: string (nullable = true)\n",
      "\n"
     ]
    }
   ],
   "source": [
    "\n",
    "dfExemplo04 = spark.read.options(header='True'\n",
    "                                 , inferSchema='True'\n",
    "                                 , delimiter=';') \\\n",
    "                                 .csv(arquivoDadosEleitorais)\n",
    "\n",
    "dfExemplo04.printSchema()"
   ]
  },
  {
   "cell_type": "markdown",
   "id": "d0cf3e69",
   "metadata": {},
   "source": [
    "# 03.6 - Importando Arquivo CSV Definindo encoding\n",
    "\n",
    "## Entendendo o parâmetro encoding"
   ]
  },
  {
   "cell_type": "code",
   "execution_count": 16,
   "id": "d9fa56d7",
   "metadata": {},
   "outputs": [
    {
     "name": "stdout",
     "output_type": "stream",
     "text": [
      "+----------+-------------------+-----------+---------------+-----------------+--------+----------+--------------------+----------+--------------+-----+-----+-----------------+--------+-----------------+------------+------------+--------------------+--------------------+-------------------+----------------+--------------+-----------------------+-----------------------+------------------------+------------------------+---------------+----------+-------------+--------------------+------------+--------------------+--------------+-----------------------+------------+---------------+-----------------------+----------------+----------------+----------------+-----------------------+-----------------------+-------------+-------------------+-----------------------------+---------+---------+-----------------+--------------------+---------------+---------------+-----------+-----------+-----------+--------------------+-----------------------+----------------+----------------+------------+----------------+------------------------+-------------------+----------------------------+----------------------------+--------------------------+--------------------------+--------------------------+------------------------+-------------------------+-------------------------+---------------+\n",
      "|DT_GERACAO|         HH_GERACAO|ANO_ELEICAO|CD_TIPO_ELEICAO|  NM_TIPO_ELEICAO|NR_TURNO|CD_ELEICAO|          DS_ELEICAO|DT_ELEICAO|TP_ABRANGENCIA|SG_UF|SG_UE|            NM_UE|CD_CARGO|         DS_CARGO|SQ_CANDIDATO|NR_CANDIDATO|        NM_CANDIDATO|   NM_URNA_CANDIDATO|NM_SOCIAL_CANDIDATO|NR_CPF_CANDIDATO|      NM_EMAIL|CD_SITUACAO_CANDIDATURA|DS_SITUACAO_CANDIDATURA|CD_DETALHE_SITUACAO_CAND|DS_DETALHE_SITUACAO_CAND|  TP_AGREMIACAO|NR_PARTIDO|   SG_PARTIDO|          NM_PARTIDO|NR_FEDERACAO|        NM_FEDERACAO|  SG_FEDERACAO|DS_COMPOSICAO_FEDERACAO|SQ_COLIGACAO|   NM_COLIGACAO|DS_COMPOSICAO_COLIGACAO|CD_NACIONALIDADE|DS_NACIONALIDADE|SG_UF_NASCIMENTO|CD_MUNICIPIO_NASCIMENTO|NM_MUNICIPIO_NASCIMENTO|DT_NASCIMENTO|NR_IDADE_DATA_POSSE|NR_TITULO_ELEITORAL_CANDIDATO|CD_GENERO|DS_GENERO|CD_GRAU_INSTRUCAO|   DS_GRAU_INSTRUCAO|CD_ESTADO_CIVIL|DS_ESTADO_CIVIL|CD_COR_RACA|DS_COR_RACA|CD_OCUPACAO|         DS_OCUPACAO|VR_DESPESA_MAX_CAMPANHA|CD_SIT_TOT_TURNO|DS_SIT_TOT_TURNO|ST_REELEICAO|ST_DECLARAR_BENS|NR_PROTOCOLO_CANDIDATURA|        NR_PROCESSO|CD_SITUACAO_CANDIDATO_PLEITO|DS_SITUACAO_CANDIDATO_PLEITO|CD_SITUACAO_CANDIDATO_URNA|DS_SITUACAO_CANDIDATO_URNA|ST_CANDIDATO_INSERIDO_URNA|NM_TIPO_DESTINACAO_VOTOS|CD_SITUACAO_CANDIDATO_TOT|DS_SITUACAO_CANDIDATO_TOT|ST_PREST_CONTAS|\n",
      "+----------+-------------------+-----------+---------------+-----------------+--------+----------+--------------------+----------+--------------+-----+-----+-----------------+--------+-----------------+------------+------------+--------------------+--------------------+-------------------+----------------+--------------+-----------------------+-----------------------+------------------------+------------------------+---------------+----------+-------------+--------------------+------------+--------------------+--------------+-----------------------+------------+---------------+-----------------------+----------------+----------------+----------------+-----------------------+-----------------------+-------------+-------------------+-----------------------------+---------+---------+-----------------+--------------------+---------------+---------------+-----------+-----------+-----------+--------------------+-----------------------+----------------+----------------+------------+----------------+------------------------+-------------------+----------------------------+----------------------------+--------------------------+--------------------------+--------------------------+------------------------+-------------------------+-------------------------+---------------+\n",
      "|21/01/2023|2023-02-01 18:38:33|       2022|              2|ELEIÇÃO ORDINÁRIA|       1|       546|Eleições Gerais E...|02/10/2022|      ESTADUAL|   CE|   CE|            CEARÁ|       7|DEPUTADO ESTADUAL| 60001613096|       50011|TONY BEZERRA DE S...|    TONY INÁCIO SHOW|             #NULO#|     12055010450|NÃO DIVULGÁVEL|                     12|                   APTO|                       2|                DEFERIDO|      FEDERAÇÃO|        50|         PSOL|PARTIDO SOCIALISM...|           3| Federação PSOL REDE|     PSOL/REDE|              PSOL/REDE| 60001681655|      FEDERAÇÃO|              PSOL/REDE|               1| BRASILEIRA NATA|              CE|                     -3|              FORTALEZA|   25/12/1995|                 27|                  44356531260|        2|MASCULINO|                7| SUPERIOR INCOMPLETO|              1|    SOLTEIRO(A)|          1|     BRANCA|        163| CANTOR E COMPOSITOR|             1270629.01|               5|        SUPLENTE|           N|               N|                      -1|6005353420226060000|                           2|                    DEFERIDO|                         2|                  DEFERIDO|                       SIM|                  Válido|                        2|                 Deferido|              S|\n",
      "|21/01/2023|2023-02-01 18:38:33|       2022|              2|ELEIÇÃO ORDINÁRIA|       1|       546|Eleições Gerais E...|02/10/2022|      ESTADUAL|   RJ|   RJ|   RIO DE JANEIRO|       7|DEPUTADO ESTADUAL|190001601406|       77275|SÔNIA MARIA GAMA ...|ENFERMEIRA SONIA ...|             #NULO#|     61260606791|NÃO DIVULGÁVEL|                     12|                   APTO|                       2|                DEFERIDO|PARTIDO ISOLADO|        77|SOLIDARIEDADE|       SOLIDARIEDADE|          -1|              #NULO#|        #NULO#|                 #NULO#|190001681112|PARTIDO ISOLADO|          SOLIDARIEDADE|               1| BRASILEIRA NATA|              RJ|                     -3|         RIO DE JANEIRO|   07/12/1960|                 62|                  15784480370|        4| FEMININO|                8|   SUPERIOR COMPLETO|              9|  DIVORCIADO(A)|          1|     BRANCA|        297|SERVIDOR PÚBLICO ...|             1270629.01|               5|        SUPLENTE|           N|               S|                      -1|6008292620226190000|                           2|                    DEFERIDO|                         2|                  DEFERIDO|                       SIM|                  Válido|                        2|                 Deferido|              S|\n",
      "|21/01/2023|2023-02-01 18:38:33|       2022|              2|ELEIÇÃO ORDINÁRIA|       1|       546|Eleições Gerais E...|02/10/2022|      ESTADUAL|   RS|   RS|RIO GRANDE DO SUL|       7|DEPUTADO ESTADUAL|210001621288|       12555|GUSTAVO TANGER JA...|       TANGER JARDIM|             #NULO#|     74721399049|NÃO DIVULGÁVEL|                     12|                   APTO|                       2|                DEFERIDO|PARTIDO ISOLADO|        12|          PDT|PARTIDO DEMOCRÁTI...|          -1|              #NULO#|        #NULO#|                 #NULO#|210001682258|PARTIDO ISOLADO|                    PDT|               1| BRASILEIRA NATA|              RS|                     -3|                PELOTAS|   15/06/1975|                 47|                  61922100426|        2|MASCULINO|                8|   SUPERIOR COMPLETO|              3|      CASADO(A)|          1|     BRANCA|        131|            ADVOGADO|             1270629.01|               5|        SUPLENTE|           N|               S|                      -1|6013233120226210000|                           2|                    DEFERIDO|                         2|                  DEFERIDO|                       SIM|                  Válido|                        2|                 Deferido|              S|\n",
      "|21/01/2023|2023-02-01 18:38:33|       2022|              2|ELEIÇÃO ORDINÁRIA|       1|       546|Eleições Gerais E...|02/10/2022|      ESTADUAL|   SP|   SP|        SÃO PAULO|       6| DEPUTADO FEDERAL|250001604811|        1415|      VALDEMAR SILVA|  VAVA DO TRANSPORTE|             #NULO#|      6445151809|NÃO DIVULGÁVEL|                     12|                   APTO|                       2|                DEFERIDO|PARTIDO ISOLADO|        14|          PTB|PARTIDO TRABALHIS...|          -1|              #NULO#|        #NULO#|                 #NULO#|250001681260|PARTIDO ISOLADO|                    PTB|               1| BRASILEIRA NATA|              SP|                     -3|            SANTO ANDRÉ|   20/05/1964|                 58|                 153903270191|        2|MASCULINO|                8|   SUPERIOR COMPLETO|              3|      CASADO(A)|          1|     BRANCA|        923|APOSENTADO (EXCET...|             3176572.53|               4|      NÃO ELEITO|           N|               S|                      -1|6007124020226260000|                           2|                    DEFERIDO|                         2|                  DEFERIDO|                       SIM|                  Válido|                        2|                 Deferido|              S|\n",
      "|21/01/2023|2023-02-01 18:38:33|       2022|              2|ELEIÇÃO ORDINÁRIA|       1|       546|Eleições Gerais E...|02/10/2022|      ESTADUAL|   AM|   AM|         AMAZONAS|       6| DEPUTADO FEDERAL| 40001618450|        4440|LEDA MARIA MAIA X...|           LEDA MAIA|             #NULO#|     94071586249|NÃO DIVULGÁVEL|                     12|                   APTO|                       2|                DEFERIDO|PARTIDO ISOLADO|        44|        UNIÃO|        UNIÃO BRASIL|          -1|              #NULO#|        #NULO#|                 #NULO#| 40001682111|PARTIDO ISOLADO|                  UNIÃO|               1| BRASILEIRA NATA|              AM|                     -3|                 MANAUS|   19/02/1991|                 31|                  34547062216|        4| FEMININO|                8|   SUPERIOR COMPLETO|              9|  DIVORCIADO(A)|          3|      PARDA|        172|        PUBLICITÁRIO|             3176572.53|               5|        SUPLENTE|           N|               S|                      -1|6004613420226040000|                           2|                    DEFERIDO|                         2|                  DEFERIDO|                       SIM|                  Válido|                        2|                 Deferido|              S|\n",
      "|21/01/2023|2023-02-01 18:38:33|       2022|              2|ELEIÇÃO ORDINÁRIA|       1|       546|Eleições Gerais E...|02/10/2022|      ESTADUAL|   AL|   AL|          ALAGOAS|       6| DEPUTADO FEDERAL| 20001652299|        5588|EDUARDO ÍTALO BAS...|        ÍTALO BASTOS|             #NULO#|      3341153454|NÃO DIVULGÁVEL|                     12|                   APTO|                       2|                DEFERIDO|PARTIDO ISOLADO|        55|          PSD|PARTIDO SOCIAL DE...|          -1|              #NULO#|        #NULO#|                 #NULO#| 20001683386|PARTIDO ISOLADO|                    PSD|               1| BRASILEIRA NATA|              AL|                     -3|                 MACEIÓ|   02/09/1980|                 42|                  25735071716|        2|MASCULINO|                8|   SUPERIOR COMPLETO|              3|      CASADO(A)|          1|     BRANCA|        233|    POLICIAL MILITAR|             3176572.53|               4|      NÃO ELEITO|           N|               S|                      -1|6005804920226020000|                           2|                    DEFERIDO|                         2|                  DEFERIDO|                       SIM|                  Válido|                        2|                 Deferido|              S|\n",
      "|21/01/2023|2023-02-01 18:38:33|       2022|              2|ELEIÇÃO ORDINÁRIA|       1|       546|Eleições Gerais E...|02/10/2022|      ESTADUAL|   MG|   MG|     MINAS GERAIS|       6| DEPUTADO FEDERAL|130001596012|        5144|CARCILEI SOARES M...|     CARCILEI SOARES|             #NULO#|      2579141618|NÃO DIVULGÁVEL|                     12|                   APTO|                       2|                DEFERIDO|PARTIDO ISOLADO|        51|     PATRIOTA|            PATRIOTA|          -1|              #NULO#|        #NULO#|                 #NULO#|130001680879|PARTIDO ISOLADO|               PATRIOTA|               1| BRASILEIRA NATA|              MG|                     -3|                ALFENAS|   10/02/1974|                 48|                 101539230213|        2|MASCULINO|                6|ENSINO MÉDIO COMP...|              3|      CASADO(A)|          3|      PARDA|        257|          EMPRESÁRIO|             3176572.53|               5|        SUPLENTE|           N|               S|                      -1|6005215520226130000|                           2|                    DEFERIDO|                         2|                  DEFERIDO|                       SIM|                  Válido|                        2|                 Deferido|              S|\n",
      "|21/01/2023|2023-02-01 18:38:33|       2022|              2|ELEIÇÃO ORDINÁRIA|       1|       546|Eleições Gerais E...|02/10/2022|      ESTADUAL|   RJ|   RJ|   RIO DE JANEIRO|       7|DEPUTADO ESTADUAL|190001639169|       40666|MARCELO DE OLIVEI...|PAI MARCELO DE OX...|             #NULO#|      3002601721|NÃO DIVULGÁVEL|                     12|                   APTO|                       2|                DEFERIDO|PARTIDO ISOLADO|        40|          PSB|PARTIDO SOCIALIST...|          -1|              #NULO#|        #NULO#|                 #NULO#|190001682808|PARTIDO ISOLADO|                    PSB|               1| BRASILEIRA NATA|              RJ|                     -3|         RIO DE JANEIRO|   12/02/1972|                 50|                  86030660337|        2|MASCULINO|                6|ENSINO MÉDIO COMP...|              1|    SOLTEIRO(A)|          3|      PARDA|        169|         COMERCIANTE|             1270629.01|               5|        SUPLENTE|           N|               S|                      -1|6024558020226190000|                           2|                    DEFERIDO|                         2|                  DEFERIDO|                       SIM|                  Válido|                        2|                 Deferido|              S|\n",
      "|21/01/2023|2023-02-01 18:38:33|       2022|              2|ELEIÇÃO ORDINÁRIA|       1|       546|Eleições Gerais E...|02/10/2022|      ESTADUAL|   PR|   PR|           PARANÁ|       6| DEPUTADO FEDERAL|160001614489|        1455|     MAGNO ZANELLATO|            DR MAGNO|             #NULO#|     87463490904|NÃO DIVULGÁVEL|                     12|                   APTO|                       2|                DEFERIDO|PARTIDO ISOLADO|        14|          PTB|PARTIDO TRABALHIS...|          -1|              #NULO#|        #NULO#|                 #NULO#|160001681735|PARTIDO ISOLADO|                    PTB|               1| BRASILEIRA NATA|              PR|                     -3|               CURITIBA|   13/11/1971|                 51|                  49527500698|        2|MASCULINO|                8|   SUPERIOR COMPLETO|              3|      CASADO(A)|          1|     BRANCA|        111|              MÉDICO|             3176572.53|               4|      NÃO ELEITO|           N|               S|                      -1|6006828120226160000|                           2|                    DEFERIDO|                         2|                  DEFERIDO|                       SIM|                  Válido|                        2|                 Deferido|              S|\n",
      "|21/01/2023|2023-02-01 18:38:33|       2022|              2|ELEIÇÃO ORDINÁRIA|       1|       546|Eleições Gerais E...|02/10/2022|      ESTADUAL|   ES|   ES|   ESPÍRITO SANTO|       7|DEPUTADO ESTADUAL| 80001602769|       45888|VANETE CARIRI DOS...|       VANETE CARIRI|             #NULO#|      8974917777|NÃO DIVULGÁVEL|                     12|                   APTO|                       2|                DEFERIDO|      FEDERAÇÃO|        45|         PSDB|PARTIDO DA SOCIAL...|           1|Federação PSDB Ci...|PSDB/CIDADANIA|         PSDB/CIDADANIA| 80001681183|      FEDERAÇÃO|         PSDB/CIDADANIA|               1| BRASILEIRA NATA|              ES|                     -3|                VITÓRIA|   28/04/1975|                 47|                  70232560531|        4| FEMININO|                3|ENSINO FUNDAMENTA...|              3|      CASADO(A)|          2|      PRETA|        999|              OUTROS|             1270629.01|               5|        SUPLENTE|           N|               S|                      -1|6004968020226080000|                           2|                    DEFERIDO|                         2|                  DEFERIDO|                       SIM|                  Válido|                        2|                 Deferido|              S|\n",
      "|21/01/2023|2023-02-01 18:38:33|       2022|              2|ELEIÇÃO ORDINÁRIA|       1|       546|Eleições Gerais E...|02/10/2022|      ESTADUAL|   PR|   PR|           PARANÁ|       7|DEPUTADO ESTADUAL|160001716096|       28777|RONNIE CARLOS ALB...|       RONNIE CASTRO|             #NULO#|      6839985954|NÃO DIVULGÁVEL|                     12|                   APTO|                       2|                DEFERIDO|PARTIDO ISOLADO|        28|         PRTB|PARTIDO RENOVADOR...|          -1|              #NULO#|        #NULO#|                 #NULO#|160001685183|PARTIDO ISOLADO|                   PRTB|               1| BRASILEIRA NATA|              PR|                     -3|   SÃO JOSÉ DOS PINHAIS|   11/10/1989|                 33|                  96788220647|        2|MASCULINO|                3|ENSINO FUNDAMENTA...|              1|    SOLTEIRO(A)|          1|     BRANCA|        999|              OUTROS|             1270629.01|               4|      NÃO ELEITO|           N|               S|                      -1|6016268320226160000|                           2|                    DEFERIDO|                         2|                  DEFERIDO|                       SIM|                  Válido|                        2|                 Deferido|              S|\n",
      "|21/01/2023|2023-02-01 18:38:33|       2022|              2|ELEIÇÃO ORDINÁRIA|       1|       546|Eleições Gerais E...|02/10/2022|      ESTADUAL|   PA|   PA|             PARÁ|       7|DEPUTADO ESTADUAL|140001611695|       44123|ELIEL PEREIRA FAU...|      ELIEL FAUSTINO|             #NULO#|     18414303234|NÃO DIVULGÁVEL|                     12|                   APTO|                       2|                DEFERIDO|PARTIDO ISOLADO|        44|        UNIÃO|        UNIÃO BRASIL|          -1|              #NULO#|        #NULO#|                 #NULO#|140001681586|PARTIDO ISOLADO|                  UNIÃO|               1| BRASILEIRA NATA|              PA|                     -3|                  BELÉM|   11/03/1965|                 57|                  37324181376|        2|MASCULINO|                8|   SUPERIOR COMPLETO|              3|      CASADO(A)|          1|     BRANCA|        101|          ENGENHEIRO|             1270629.01|               5|        SUPLENTE|           S|               S|                      -1|6005594020226140000|                           2|                    DEFERIDO|                         2|                  DEFERIDO|                       SIM|                  Válido|                        2|                 Deferido|              S|\n",
      "|21/01/2023|2023-02-01 18:38:33|       2022|              2|ELEIÇÃO ORDINÁRIA|       1|       546|Eleições Gerais E...|02/10/2022|      ESTADUAL|   RJ|   RJ|   RIO DE JANEIRO|       6| DEPUTADO FEDERAL|190001645421|        4050|MARCOS UCHÔA CAVA...|        MARCOS UCHÔA|             #NULO#|     53251490753|NÃO DIVULGÁVEL|                     12|                   APTO|                       2|                DEFERIDO|PARTIDO ISOLADO|        40|          PSB|PARTIDO SOCIALIST...|          -1|              #NULO#|        #NULO#|                 #NULO#|190001683153|PARTIDO ISOLADO|                    PSB|               1| BRASILEIRA NATA|              RJ|                     -3|         RIO DE JANEIRO|   01/07/1958|                 64|                   2323710302|        2|MASCULINO|                8|   SUPERIOR COMPLETO|              3|      CASADO(A)|          1|     BRANCA|        171|JORNALISTA E REDATOR|             3176572.53|               5|        SUPLENTE|           N|               S|                      -1|6027216720226190000|                           2|                    DEFERIDO|                         2|                  DEFERIDO|                       SIM|                  Válido|                        2|                 Deferido|              S|\n",
      "|21/01/2023|2023-02-01 18:38:33|       2022|              2|ELEIÇÃO ORDINÁRIA|       1|       546|Eleições Gerais E...|02/10/2022|      ESTADUAL|   ES|   ES|   ESPÍRITO SANTO|       7|DEPUTADO ESTADUAL| 80001724744|       90900|IDELFONSO SANTOS ...|IDELFONSO DA VITORIA|             #NULO#|       522875726|NÃO DIVULGÁVEL|                     12|                   APTO|                       2|                DEFERIDO|PARTIDO ISOLADO|        90|         PROS|PARTIDO REPUBLICA...|          -1|              #NULO#|        #NULO#|                 #NULO#| 80001685520|PARTIDO ISOLADO|                   PROS|               1| BRASILEIRA NATA|              ES|                     -3|                VITÓRIA|   29/10/1970|                 52|                  13538171490|        2|MASCULINO|                8|   SUPERIOR COMPLETO|              3|      CASADO(A)|          2|      PRETA|        232|      POLICIAL CIVIL|             1270629.01|               4|      NÃO ELEITO|           N|               S|                      -1|6012745020226080000|                           2|                    DEFERIDO|                         2|                  DEFERIDO|                       SIM|                  Válido|                        2|                 Deferido|              S|\n",
      "|21/01/2023|2023-02-01 18:38:33|       2022|              2|ELEIÇÃO ORDINÁRIA|       1|       546|Eleições Gerais E...|02/10/2022|      ESTADUAL|   AP|   AP|            AMAPÁ|       7|DEPUTADO ESTADUAL| 30001604784|       18444|PAULO JORGE CUNHA...|PAULO CUNHA COLET...|             #NULO#|     15959848287|NÃO DIVULGÁVEL|                     12|                   APTO|                       2|                DEFERIDO|      FEDERAÇÃO|        18|         REDE|REDE SUSTENTABILI...|           3| Federação PSOL REDE|     PSOL/REDE|              PSOL/REDE| 30001681259|      FEDERAÇÃO|              PSOL/REDE|               1| BRASILEIRA NATA|              PA|                     -3|               BRAGANÇA|   20/05/1963|                 59|                   2566882550|        2|MASCULINO|                8|   SUPERIOR COMPLETO|              3|      CASADO(A)|          3|      PARDA|        266|PROFESSOR DE ENSI...|             1270629.01|               5|        SUPLENTE|           N|               N|                      -1|6002961420226030000|                           2|                    DEFERIDO|                         2|                  DEFERIDO|                       SIM|                  Válido|                        2|                 Deferido|              S|\n",
      "|21/01/2023|2023-02-01 18:38:33|       2022|              2|ELEIÇÃO ORDINÁRIA|       1|       546|Eleições Gerais E...|02/10/2022|      ESTADUAL|   SE|   SE|          SERGIPE|       7|DEPUTADO ESTADUAL|260001711846|       14111|   GILENO DOS SANTOS|GILENO PAO FILHO ...|             #NULO#|     53210581568|NÃO DIVULGÁVEL|                     12|                   APTO|                       2|                DEFERIDO|PARTIDO ISOLADO|        14|          PTB|PARTIDO TRABALHIS...|          -1|              #NULO#|        #NULO#|                 #NULO#|260001685031|PARTIDO ISOLADO|                    PTB|               1| BRASILEIRA NATA|              SE|                     -3|               ESTÂNCIA|   17/02/1968|                 54|                   4910862194|        2|MASCULINO|                4|ENSINO FUNDAMENTA...|              1|    SOLTEIRO(A)|          2|      PRETA|        999|              OUTROS|             1270629.01|               4|      NÃO ELEITO|           N|               S|                      -1|6009257320226250000|                           2|                    DEFERIDO|                         2|                  DEFERIDO|                       SIM|                  Válido|                        2|                 Deferido|              S|\n",
      "|21/01/2023|2023-02-01 18:38:33|       2022|              2|ELEIÇÃO ORDINÁRIA|       1|       546|Eleições Gerais E...|02/10/2022|      ESTADUAL|   AM|   AM|         AMAZONAS|       7|DEPUTADO ESTADUAL| 40001618475|       44666|GEORGE AUGUSTO MO...|      DR GEORGE LINS|             #NULO#|     72510250272|NÃO DIVULGÁVEL|                     12|                   APTO|                       2|                DEFERIDO|PARTIDO ISOLADO|        44|        UNIÃO|        UNIÃO BRASIL|          -1|              #NULO#|        #NULO#|                 #NULO#| 40001682112|PARTIDO ISOLADO|                  UNIÃO|               1| BRASILEIRA NATA|              AM|                     -3|                 MANAUS|   23/12/1982|                 40|                  22169342224|        2|MASCULINO|                8|   SUPERIOR COMPLETO|              3|      CASADO(A)|          3|      PARDA|        111|              MÉDICO|             1270629.01|               2|   ELEITO POR QP|           N|               S|                      -1|6005011620226040000|                           2|                    DEFERIDO|                         2|                  DEFERIDO|                       SIM|                  Válido|                        2|                 Deferido|              S|\n",
      "|21/01/2023|2023-02-01 18:38:33|       2022|              2|ELEIÇÃO ORDINÁRIA|       1|       546|Eleições Gerais E...|02/10/2022|      ESTADUAL|   AP|   AP|            AMAPÁ|       7|DEPUTADO ESTADUAL| 30001604014|       12456|ALDILENE MATOS DE...|      ALDILENE SOUZA|             #NULO#|     43263240234|NÃO DIVULGÁVEL|                     12|                   APTO|                       2|                DEFERIDO|PARTIDO ISOLADO|        12|          PDT|PARTIDO DEMOCRÁTI...|          -1|              #NULO#|        #NULO#|                 #NULO#| 30001681219|PARTIDO ISOLADO|                    PDT|               1| BRASILEIRA NATA|              AP|                     -3|                 MACAPÁ|   08/07/1970|                 52|                   1402702569|        4| FEMININO|                8|   SUPERIOR COMPLETO|              3|      CASADO(A)|          1|     BRANCA|        277|            DEPUTADO|             1270629.01|               3|ELEITO POR MÉDIA|           S|               N|                      -1|6002606920226030000|                           2|                    DEFERIDO|                         2|                  DEFERIDO|                       SIM|                  Válido|                        2|                 Deferido|              S|\n",
      "|21/01/2023|2023-02-01 18:38:33|       2022|              2|ELEIÇÃO ORDINÁRIA|       1|       546|Eleições Gerais E...|02/10/2022|      ESTADUAL|   BA|   BA|            BAHIA|       7|DEPUTADO ESTADUAL| 50001610388|       51200|SIMONE SANTOS SIL...|MISSIONARIA SIMON...|             #NULO#|     78498600553|NÃO DIVULGÁVEL|                     12|                   APTO|                       2|                DEFERIDO|PARTIDO ISOLADO|        51|     PATRIOTA|            PATRIOTA|          -1|              #NULO#|        #NULO#|                 #NULO#| 50001681500|PARTIDO ISOLADO|               PATRIOTA|               1| BRASILEIRA NATA|              BA|                     -3|               SALVADOR|   05/12/1978|                 44|                  84274510540|        4| FEMININO|                6|ENSINO MÉDIO COMP...|              3|      CASADO(A)|          1|     BRANCA|        257|          EMPRESÁRIO|             1270629.01|               5|        SUPLENTE|           N|               N|                      -1|6012812620226050000|                           2|                    DEFERIDO|                         2|                  DEFERIDO|                       SIM|                  Válido|                        2|                 Deferido|              S|\n",
      "|21/01/2023|2023-02-01 18:38:33|       2022|              2|ELEIÇÃO ORDINÁRIA|       1|       546|Eleições Gerais E...|02/10/2022|      ESTADUAL|   RJ|   RJ|   RIO DE JANEIRO|       6| DEPUTADO FEDERAL|190001603398|        5551|ANA KARLA GUIMARÃ...|KARLA DE LUCAS DO...|             #NULO#|     82226997768|NÃO DIVULGÁVEL|                     12|                   APTO|                       2|                DEFERIDO|PARTIDO ISOLADO|        55|          PSD|PARTIDO SOCIAL DE...|          -1|              #NULO#|        #NULO#|                 #NULO#|190001681204|PARTIDO ISOLADO|                    PSD|               1| BRASILEIRA NATA|              MG|                     -3|           JUIZ DE FORA|   14/04/1965|                 57|                  24050940361|        4| FEMININO|                8|   SUPERIOR COMPLETO|              3|      CASADO(A)|          1|     BRANCA|        171|JORNALISTA E REDATOR|             3176572.53|               5|        SUPLENTE|           N|               S|                      -1|6010171920226190000|                           2|                    DEFERIDO|                         2|                  DEFERIDO|                       SIM|                  Válido|                        2|                 Deferido|              S|\n",
      "+----------+-------------------+-----------+---------------+-----------------+--------+----------+--------------------+----------+--------------+-----+-----+-----------------+--------+-----------------+------------+------------+--------------------+--------------------+-------------------+----------------+--------------+-----------------------+-----------------------+------------------------+------------------------+---------------+----------+-------------+--------------------+------------+--------------------+--------------+-----------------------+------------+---------------+-----------------------+----------------+----------------+----------------+-----------------------+-----------------------+-------------+-------------------+-----------------------------+---------+---------+-----------------+--------------------+---------------+---------------+-----------+-----------+-----------+--------------------+-----------------------+----------------+----------------+------------+----------------+------------------------+-------------------+----------------------------+----------------------------+--------------------------+--------------------------+--------------------------+------------------------+-------------------------+-------------------------+---------------+\n",
      "only showing top 20 rows\n",
      "\n"
     ]
    }
   ],
   "source": [
    "\n",
    "dfExemplo04 = spark.read.options(header='True'\n",
    "                                 , inferSchema='True'\n",
    "                                 , delimiter=';'\n",
    "                                 , encoding=\"windows-1252\") \\\n",
    "                                 .csv(arquivoDadosEleitorais)\n",
    "\n",
    "dfExemplo04.show()\n"
   ]
  },
  {
   "cell_type": "markdown",
   "id": "89b5fd7c",
   "metadata": {},
   "source": [
    "# 03.7 - Definindo a Estrutura de um DataFrame e Importar CSV"
   ]
  },
  {
   "cell_type": "markdown",
   "id": "c643da4b",
   "metadata": {},
   "source": [
    "** Documentação: https://sqlrelease.com/spark-read-file-with-special-characters-using-pyspark\n",
    "\n",
    "** Documentação: https://sparkbyexamples.com/pyspark/pyspark-sql-types-datatype-with-examples/\n",
    "\n",
    "** Documentação: https://spark.apache.org/docs/latest/sql-ref-datatypes.html\n",
    "\n",
    "** Documentação: https://sparkbyexamples.com/pyspark/pyspark-date_format-convert-date-to-string-format/"
   ]
  },
  {
   "cell_type": "markdown",
   "id": "b1fdd716",
   "metadata": {},
   "source": [
    "### O arquivo \"indicador_homocidio.csv\" foi criado com a coluna Data do tipo \"Data\"\n",
    "### O que permitiu a criação do DataFrame com a coluna Data do tipo DateType()"
   ]
  },
  {
   "cell_type": "code",
   "execution_count": 17,
   "id": "6a003dc4",
   "metadata": {},
   "outputs": [
    {
     "name": "stdout",
     "output_type": "stream",
     "text": [
      "root\n",
      " |-- CodUf: string (nullable = true)\n",
      " |-- TipoCrime: string (nullable = true)\n",
      " |-- Quantidade: integer (nullable = true)\n",
      " |-- Data: date (nullable = true)\n",
      "\n",
      "+-------------------+----------------+----------+----------+\n",
      "|              CodUf|       TipoCrime|Quantidade|      Data|\n",
      "+-------------------+----------------+----------+----------+\n",
      "|            Roraima|Homicídio doloso|      1389|2023-01-28|\n",
      "|              Amapá|Homicídio doloso|      1948|2023-01-29|\n",
      "|               Acre|Homicídio doloso|      2007|2023-01-30|\n",
      "|          Tocantins|Homicídio doloso|      2787|2023-01-31|\n",
      "|           Rondônia|Homicídio doloso|      3482|2023-02-01|\n",
      "|   Distrito Federal|Homicídio doloso|      3518|2023-02-02|\n",
      "| Mato Grosso do Sul|Homicídio doloso|      3905|2023-02-03|\n",
      "|              Piauí|Homicídio doloso|      4714|2023-02-04|\n",
      "|     Santa Catarina|Homicídio doloso|      5832|2023-02-05|\n",
      "|        Mato Grosso|Homicídio doloso|      6920|2023-02-06|\n",
      "|            Sergipe|Homicídio doloso|      6970|2023-02-07|\n",
      "|           Amazonas|Homicídio doloso|      8590|2023-02-08|\n",
      "|     Espírito Santo|Homicídio doloso|      8695|2023-02-09|\n",
      "|            Paraíba|Homicídio doloso|      8902|2023-02-10|\n",
      "|Rio Grande do Norte|Homicídio doloso|     10242|2023-02-11|\n",
      "|            Alagoas|Homicídio doloso|     10267|2023-02-12|\n",
      "|           Maranhão|Homicídio doloso|     13412|2023-02-13|\n",
      "|              Goiás|Homicídio doloso|     14512|2023-02-14|\n",
      "|             Paraná|Homicídio doloso|     15708|2023-02-15|\n",
      "|  Rio Grande do Sul|Homicídio doloso|     16995|2023-02-16|\n",
      "+-------------------+----------------+----------+----------+\n",
      "only showing top 20 rows\n",
      "\n"
     ]
    }
   ],
   "source": [
    "\n",
    "schema = StructType() \\\n",
    "      .add(\"CodUf\",StringType(),True) \\\n",
    "      .add(\"TipoCrime\",StringType(),True) \\\n",
    "      .add(\"Quantidade\",IntegerType(),True) \\\n",
    "      .add(\"Data\",DateType(),True)\n",
    "\n",
    "\n",
    "df_with_schema = spark.read.options(header='True'\n",
    "                                    , inferSchema='False'\n",
    "                                    , delimiter=';'\n",
    "                                    , encoding=\"windows-1252\") \\\n",
    "                                    .schema(schema) \\\n",
    "                                    .csv(arquivoIndicadorHomicidio)\n",
    "\n",
    "df_with_schema.printSchema()\n",
    "\n",
    "df_with_schema.show()"
   ]
  },
  {
   "cell_type": "markdown",
   "id": "65fa0283",
   "metadata": {},
   "source": [
    "# 04 - Trabalhando com Datas - Converte coluna String (DD/MM/AAA) para Date (AAAAMMDD)"
   ]
  },
  {
   "cell_type": "markdown",
   "id": "3a2643a2",
   "metadata": {},
   "source": [
    "### O arquivo \"indicador_homocidio_2.csv\" foi criado com a coluna Data do tipo \"Geral\"\n",
    "### Nesse caso, vamos precisar criar o DataFrame com a coluna Data do tipo StringType() e em seguida realizar a conversão da coluna para o tipo Date"
   ]
  },
  {
   "cell_type": "markdown",
   "id": "6218479e",
   "metadata": {},
   "source": [
    "* Trabalhando com Datas\n",
    "\n",
    "** Documentação: https://spark.apache.org/docs/latest/sql-ref-datetime-pattern.html"
   ]
  },
  {
   "cell_type": "code",
   "execution_count": 18,
   "id": "f6a5f83d",
   "metadata": {},
   "outputs": [
    {
     "name": "stdout",
     "output_type": "stream",
     "text": [
      "+-------------------+----------------+----------+----------+\n",
      "|              CodUf|       TipoCrime|Quantidade|      Data|\n",
      "+-------------------+----------------+----------+----------+\n",
      "|            Roraima|Homicídio doloso|      1389|28/01/2023|\n",
      "|              Amapá|Homicídio doloso|      1948|29/01/2023|\n",
      "|               Acre|Homicídio doloso|      2007|30/01/2023|\n",
      "|          Tocantins|Homicídio doloso|      2787|31/01/2023|\n",
      "|           Rondônia|Homicídio doloso|      3482|01/02/2023|\n",
      "|   Distrito Federal|Homicídio doloso|      3518|02/02/2023|\n",
      "| Mato Grosso do Sul|Homicídio doloso|      3905|03/02/2023|\n",
      "|              Piauí|Homicídio doloso|      4714|04/02/2023|\n",
      "|     Santa Catarina|Homicídio doloso|      5832|05/02/2023|\n",
      "|        Mato Grosso|Homicídio doloso|      6920|06/02/2023|\n",
      "|            Sergipe|Homicídio doloso|      6970|07/02/2023|\n",
      "|           Amazonas|Homicídio doloso|      8590|08/02/2023|\n",
      "|     Espírito Santo|Homicídio doloso|      8695|09/02/2023|\n",
      "|            Paraíba|Homicídio doloso|      8902|10/02/2023|\n",
      "|Rio Grande do Norte|Homicídio doloso|     10242|11/02/2023|\n",
      "|            Alagoas|Homicídio doloso|     10267|12/02/2023|\n",
      "|           Maranhão|Homicídio doloso|     13412|13/02/2023|\n",
      "|              Goiás|Homicídio doloso|     14512|14/02/2023|\n",
      "|             Paraná|Homicídio doloso|     15708|15/02/2023|\n",
      "|  Rio Grande do Sul|Homicídio doloso|     16995|16/02/2023|\n",
      "+-------------------+----------------+----------+----------+\n",
      "only showing top 20 rows\n",
      "\n",
      "------------------------------ ESTRUTURA ANTES DA CONVERSÃO ------------------------------\n",
      "root\n",
      " |-- CodUf: string (nullable = true)\n",
      " |-- TipoCrime: string (nullable = true)\n",
      " |-- Quantidade: integer (nullable = true)\n",
      " |-- Data: string (nullable = true)\n",
      "\n",
      "------------------------------------------------------------------------------------------\n",
      "------------------------------ ESTRUTURA DEPOIS DA CONVERSÃO ------------------------------\n",
      "root\n",
      " |-- CodUf: string (nullable = true)\n",
      " |-- TipoCrime: string (nullable = true)\n",
      " |-- Quantidade: integer (nullable = true)\n",
      " |-- Data: date (nullable = true)\n",
      "\n",
      "+-------------------+----------------+----------+----------+\n",
      "|              CodUf|       TipoCrime|Quantidade|      Data|\n",
      "+-------------------+----------------+----------+----------+\n",
      "|            Roraima|Homicídio doloso|      1389|2023-01-28|\n",
      "|              Amapá|Homicídio doloso|      1948|2023-01-29|\n",
      "|               Acre|Homicídio doloso|      2007|2023-01-30|\n",
      "|          Tocantins|Homicídio doloso|      2787|2023-01-31|\n",
      "|           Rondônia|Homicídio doloso|      3482|2023-02-01|\n",
      "|   Distrito Federal|Homicídio doloso|      3518|2023-02-02|\n",
      "| Mato Grosso do Sul|Homicídio doloso|      3905|2023-02-03|\n",
      "|              Piauí|Homicídio doloso|      4714|2023-02-04|\n",
      "|     Santa Catarina|Homicídio doloso|      5832|2023-02-05|\n",
      "|        Mato Grosso|Homicídio doloso|      6920|2023-02-06|\n",
      "|            Sergipe|Homicídio doloso|      6970|2023-02-07|\n",
      "|           Amazonas|Homicídio doloso|      8590|2023-02-08|\n",
      "|     Espírito Santo|Homicídio doloso|      8695|2023-02-09|\n",
      "|            Paraíba|Homicídio doloso|      8902|2023-02-10|\n",
      "|Rio Grande do Norte|Homicídio doloso|     10242|2023-02-11|\n",
      "|            Alagoas|Homicídio doloso|     10267|2023-02-12|\n",
      "|           Maranhão|Homicídio doloso|     13412|2023-02-13|\n",
      "|              Goiás|Homicídio doloso|     14512|2023-02-14|\n",
      "|             Paraná|Homicídio doloso|     15708|2023-02-15|\n",
      "|  Rio Grande do Sul|Homicídio doloso|     16995|2023-02-16|\n",
      "+-------------------+----------------+----------+----------+\n",
      "only showing top 20 rows\n",
      "\n"
     ]
    }
   ],
   "source": [
    "from pyspark.sql.functions import *\n",
    "from pyspark.sql.types import StringType\n",
    "\n",
    "schema = StructType() \\\n",
    "      .add(\"CodUf\",StringType(),True) \\\n",
    "      .add(\"TipoCrime\",StringType(),True) \\\n",
    "      .add(\"Quantidade\",IntegerType(),True) \\\n",
    "      .add(\"Data\",StringType(),True)\n",
    "\n",
    "df_with_schema2 = spark.read.options(header='True', inferSchema='False', delimiter=';', encoding=\"windows-1252\") \\\n",
    "      .schema(schema) \\\n",
    "      .csv(arquivoIndicadorHomicidio2)\n",
    "\n",
    "df_with_schema2.show()\n",
    "\n",
    "print('------------------------------ ESTRUTURA ANTES DA CONVERSÃO ------------------------------')\n",
    "\n",
    "df_with_schema2.printSchema()\n",
    "\n",
    "print('------------------------------------------------------------------------------------------')\n",
    "\n",
    "df_with_schema2 = df_with_schema2.withColumn('Data', to_date(date_format(unix_timestamp(df_with_schema2.Data , \"dd/mm/yyyy\").cast(\"timestamp\"),\"yyyy-mm-dd\")))\n",
    "\n",
    "print('------------------------------ ESTRUTURA DEPOIS DA CONVERSÃO ------------------------------')\n",
    "\n",
    "df_with_schema2.printSchema()\n",
    "\n",
    "df_with_schema2.show()"
   ]
  },
  {
   "cell_type": "markdown",
   "id": "d2843443",
   "metadata": {},
   "source": [
    "# 04.1 - Trabalhando com Datas - A partir de uma coluna de Data, criar outra de Ano"
   ]
  },
  {
   "cell_type": "code",
   "execution_count": 19,
   "id": "bd920230",
   "metadata": {},
   "outputs": [
    {
     "name": "stdout",
     "output_type": "stream",
     "text": [
      "root\n",
      " |-- CodUf: string (nullable = true)\n",
      " |-- TipoCrime: string (nullable = true)\n",
      " |-- Quantidade: integer (nullable = true)\n",
      " |-- Data: date (nullable = true)\n",
      " |-- Ano: string (nullable = true)\n",
      "\n"
     ]
    }
   ],
   "source": [
    "\n",
    "df_with_schema2 = df_with_schema2.withColumn(\"Ano\", date_format(col(\"Data\"), \"y\"))\n",
    "\n",
    "\n",
    "df_with_schema2.printSchema()"
   ]
  },
  {
   "cell_type": "markdown",
   "id": "c57e7b1d",
   "metadata": {},
   "source": [
    "# 04.2 - Trabalhando com Datas - A partir de uma coluna de Data, criar outra de Mês"
   ]
  },
  {
   "cell_type": "code",
   "execution_count": 20,
   "id": "8d43cc5f",
   "metadata": {},
   "outputs": [
    {
     "name": "stdout",
     "output_type": "stream",
     "text": [
      "root\n",
      " |-- CodUf: string (nullable = true)\n",
      " |-- TipoCrime: string (nullable = true)\n",
      " |-- Quantidade: integer (nullable = true)\n",
      " |-- Data: date (nullable = true)\n",
      " |-- Ano: string (nullable = true)\n",
      " |-- NumMes: string (nullable = true)\n",
      " |-- NomMes: string (nullable = true)\n",
      "\n",
      "+-------------------+----------------+----------+----------+----+------+------+\n",
      "|              CodUf|       TipoCrime|Quantidade|      Data| Ano|NumMes|NomMes|\n",
      "+-------------------+----------------+----------+----------+----+------+------+\n",
      "|            Roraima|Homicídio doloso|      1389|2023-01-28|2023|     1|     1|\n",
      "|              Amapá|Homicídio doloso|      1948|2023-01-29|2023|     1|     1|\n",
      "|               Acre|Homicídio doloso|      2007|2023-01-30|2023|     1|     1|\n",
      "|          Tocantins|Homicídio doloso|      2787|2023-01-31|2023|     1|     1|\n",
      "|           Rondônia|Homicídio doloso|      3482|2023-02-01|2023|     2|     2|\n",
      "|   Distrito Federal|Homicídio doloso|      3518|2023-02-02|2023|     2|     2|\n",
      "| Mato Grosso do Sul|Homicídio doloso|      3905|2023-02-03|2023|     2|     2|\n",
      "|              Piauí|Homicídio doloso|      4714|2023-02-04|2023|     2|     2|\n",
      "|     Santa Catarina|Homicídio doloso|      5832|2023-02-05|2023|     2|     2|\n",
      "|        Mato Grosso|Homicídio doloso|      6920|2023-02-06|2023|     2|     2|\n",
      "|            Sergipe|Homicídio doloso|      6970|2023-02-07|2023|     2|     2|\n",
      "|           Amazonas|Homicídio doloso|      8590|2023-02-08|2023|     2|     2|\n",
      "|     Espírito Santo|Homicídio doloso|      8695|2023-02-09|2023|     2|     2|\n",
      "|            Paraíba|Homicídio doloso|      8902|2023-02-10|2023|     2|     2|\n",
      "|Rio Grande do Norte|Homicídio doloso|     10242|2023-02-11|2023|     2|     2|\n",
      "|            Alagoas|Homicídio doloso|     10267|2023-02-12|2023|     2|     2|\n",
      "|           Maranhão|Homicídio doloso|     13412|2023-02-13|2023|     2|     2|\n",
      "|              Goiás|Homicídio doloso|     14512|2023-02-14|2023|     2|     2|\n",
      "|             Paraná|Homicídio doloso|     15708|2023-02-15|2023|     2|     2|\n",
      "|  Rio Grande do Sul|Homicídio doloso|     16995|2023-02-16|2023|     2|     2|\n",
      "+-------------------+----------------+----------+----------+----+------+------+\n",
      "only showing top 20 rows\n",
      "\n"
     ]
    }
   ],
   "source": [
    "\n",
    "df_with_schema2 = df_with_schema2.withColumn(\"NumMes\", date_format(col(\"Data\"), \"M\"))\n",
    "\n",
    "df_with_schema2 = df_with_schema2.withColumn(\"NomMes\", date_format(col(\"Data\"), \"L\"))\n",
    "\n",
    "\n",
    "df_with_schema2.printSchema()\n",
    "\n",
    "df_with_schema2.show()"
   ]
  },
  {
   "cell_type": "markdown",
   "id": "7051821d",
   "metadata": {},
   "source": [
    "# 04.3 - Trabalhando com Datas - A partir de uma coluna de Data, criar outra de Dia"
   ]
  },
  {
   "cell_type": "code",
   "execution_count": 21,
   "id": "669934e6",
   "metadata": {
    "scrolled": true
   },
   "outputs": [
    {
     "name": "stdout",
     "output_type": "stream",
     "text": [
      "root\n",
      " |-- CodUf: string (nullable = true)\n",
      " |-- TipoCrime: string (nullable = true)\n",
      " |-- Quantidade: integer (nullable = true)\n",
      " |-- Data: date (nullable = true)\n",
      " |-- Ano: string (nullable = true)\n",
      " |-- NumMes: string (nullable = true)\n",
      " |-- NomMes: string (nullable = true)\n",
      " |-- NumDiaAno: string (nullable = true)\n",
      " |-- NumDiaMes: string (nullable = true)\n",
      "\n",
      "+-------------------+----------------+----------+----------+----+------+------+---------+---------+\n",
      "|              CodUf|       TipoCrime|Quantidade|      Data| Ano|NumMes|NomMes|NumDiaAno|NumDiaMes|\n",
      "+-------------------+----------------+----------+----------+----+------+------+---------+---------+\n",
      "|            Roraima|Homicídio doloso|      1389|2023-01-28|2023|     1|     1|       28|       28|\n",
      "|              Amapá|Homicídio doloso|      1948|2023-01-29|2023|     1|     1|       29|       29|\n",
      "|               Acre|Homicídio doloso|      2007|2023-01-30|2023|     1|     1|       30|       30|\n",
      "|          Tocantins|Homicídio doloso|      2787|2023-01-31|2023|     1|     1|       31|       31|\n",
      "|           Rondônia|Homicídio doloso|      3482|2023-02-01|2023|     2|     2|       32|        1|\n",
      "|   Distrito Federal|Homicídio doloso|      3518|2023-02-02|2023|     2|     2|       33|        2|\n",
      "| Mato Grosso do Sul|Homicídio doloso|      3905|2023-02-03|2023|     2|     2|       34|        3|\n",
      "|              Piauí|Homicídio doloso|      4714|2023-02-04|2023|     2|     2|       35|        4|\n",
      "|     Santa Catarina|Homicídio doloso|      5832|2023-02-05|2023|     2|     2|       36|        5|\n",
      "|        Mato Grosso|Homicídio doloso|      6920|2023-02-06|2023|     2|     2|       37|        6|\n",
      "|            Sergipe|Homicídio doloso|      6970|2023-02-07|2023|     2|     2|       38|        7|\n",
      "|           Amazonas|Homicídio doloso|      8590|2023-02-08|2023|     2|     2|       39|        8|\n",
      "|     Espírito Santo|Homicídio doloso|      8695|2023-02-09|2023|     2|     2|       40|        9|\n",
      "|            Paraíba|Homicídio doloso|      8902|2023-02-10|2023|     2|     2|       41|       10|\n",
      "|Rio Grande do Norte|Homicídio doloso|     10242|2023-02-11|2023|     2|     2|       42|       11|\n",
      "|            Alagoas|Homicídio doloso|     10267|2023-02-12|2023|     2|     2|       43|       12|\n",
      "|           Maranhão|Homicídio doloso|     13412|2023-02-13|2023|     2|     2|       44|       13|\n",
      "|              Goiás|Homicídio doloso|     14512|2023-02-14|2023|     2|     2|       45|       14|\n",
      "|             Paraná|Homicídio doloso|     15708|2023-02-15|2023|     2|     2|       46|       15|\n",
      "|  Rio Grande do Sul|Homicídio doloso|     16995|2023-02-16|2023|     2|     2|       47|       16|\n",
      "+-------------------+----------------+----------+----------+----+------+------+---------+---------+\n",
      "only showing top 20 rows\n",
      "\n"
     ]
    }
   ],
   "source": [
    "\n",
    "df_with_schema2 = df_with_schema2.withColumn(\"NumDiaAno\", date_format(col(\"Data\"), \"D\"))\n",
    "\n",
    "df_with_schema2 = df_with_schema2.withColumn(\"NumDiaMes\", date_format(col(\"Data\"), \"d\"))\n",
    "\n",
    "df_with_schema2.printSchema()\n",
    "\n",
    "df_with_schema2.show()"
   ]
  },
  {
   "cell_type": "markdown",
   "id": "2a06a440",
   "metadata": {},
   "source": [
    "# 05 - Manipulando informações de um DataFrame"
   ]
  },
  {
   "cell_type": "markdown",
   "id": "137da49d",
   "metadata": {},
   "source": [
    "## 05.1 - Tratando Valores Nulos"
   ]
  },
  {
   "cell_type": "code",
   "execution_count": 22,
   "id": "8b05a607",
   "metadata": {},
   "outputs": [
    {
     "name": "stdout",
     "output_type": "stream",
     "text": [
      "root\n",
      " |-- CodUf: string (nullable = true)\n",
      " |-- TipoCrime: string (nullable = true)\n",
      " |-- Quantidade: integer (nullable = true)\n",
      " |-- Data: string (nullable = true)\n",
      "\n",
      "+-------------------+----------------+----------+----------+\n",
      "|              CodUf|       TipoCrime|Quantidade|      Data|\n",
      "+-------------------+----------------+----------+----------+\n",
      "|            Roraima|Homicídio doloso|      1389|28/01/2023|\n",
      "|              Amapá|Homicídio doloso|      1948|29/01/2023|\n",
      "|               Acre|Homicídio doloso|      2007|30/01/2023|\n",
      "|          Tocantins|Homicídio doloso|      null|31/01/2023|\n",
      "|           Rondônia|Homicídio doloso|      3482|01/02/2023|\n",
      "|   Distrito Federal|Homicídio doloso|      3518|02/02/2023|\n",
      "| Mato Grosso do Sul|Homicídio doloso|      3905|03/02/2023|\n",
      "|              Piauí|Homicídio doloso|      4714|04/02/2023|\n",
      "|     Santa Catarina|Homicídio doloso|      5832|05/02/2023|\n",
      "|        Mato Grosso|Homicídio doloso|      6920|06/02/2023|\n",
      "|            Sergipe|Homicídio doloso|      6970|07/02/2023|\n",
      "|           Amazonas|Homicídio doloso|      8590|08/02/2023|\n",
      "|     Espírito Santo|Homicídio doloso|      8695|09/02/2023|\n",
      "|            Paraíba|Homicídio doloso|      8902|10/02/2023|\n",
      "|Rio Grande do Norte|Homicídio doloso|     10242|11/02/2023|\n",
      "|            Alagoas|Homicídio doloso|     10267|12/02/2023|\n",
      "|           Maranhão|Homicídio doloso|     13412|13/02/2023|\n",
      "|              Goiás|Homicídio doloso|     14512|      null|\n",
      "|             Paraná|Homicídio doloso|     15708|15/02/2023|\n",
      "|  Rio Grande do Sul|Homicídio doloso|     16995|16/02/2023|\n",
      "+-------------------+----------------+----------+----------+\n",
      "only showing top 20 rows\n",
      "\n"
     ]
    }
   ],
   "source": [
    "\n",
    "schema = StructType() \\\n",
    "      .add(\"CodUf\",StringType(),True) \\\n",
    "      .add(\"TipoCrime\",StringType(),True) \\\n",
    "      .add(\"Quantidade\",IntegerType(),True) \\\n",
    "      .add(\"Data\",StringType(),True) \\\n",
    "\n",
    "\n",
    "df_with_schema = spark.read.options(header='True'\n",
    "                                    , inferSchema='False'\n",
    "                                    , delimiter=';'\n",
    "                                    , encoding=\"windows-1252\") \\\n",
    "                                    .schema(schema) \\\n",
    "                                    .csv(arquivoIndicadorHomicidioRes)\n",
    "\n",
    "#df_with_schema = df_with_schema.fillna(0) # ==> NÃO FUNCIONA PARA A COLUNA DATA \n",
    "\n",
    "#df_with_schema = df_with_schema.fillna('0') # ==> NÃO FUNCIONA PARA A COLUNA QUANTIDADE \n",
    "\n",
    "#df_with_schema = df_with_schema.na.fill(0) # ==> NÃO FUNCIONA PARA A COLUNA DATA\n",
    "\n",
    "#df_with_schema = df_with_schema.na.fill('0') # ==> NÃO FUNCIONA PARA A COLUNA QUANTIDADE \n",
    "\n",
    "#df_with_schema = df_with_schema.na.fill('0', [\"Data\"]) # ==> FUNCIONA\n",
    "\n",
    "# df_with_schema = df_with_schema.na.fill(0, [\"Data\"]) # ==> NÃO FUNCIONA DEVIDO AO TIPO DE DADO\n",
    "\n",
    "df_with_schema.printSchema()\n",
    "\n",
    "df_with_schema.show()"
   ]
  },
  {
   "cell_type": "markdown",
   "id": "629ffeba",
   "metadata": {},
   "source": [
    "## 05.2 - Filtrando Valores "
   ]
  },
  {
   "cell_type": "markdown",
   "id": "e40a60b9",
   "metadata": {},
   "source": [
    "### 05.2.1 - Semelhante a cláusula LIKE - \"CONTÉM\" de Bancos de Dados"
   ]
  },
  {
   "cell_type": "code",
   "execution_count": 23,
   "id": "03817c09",
   "metadata": {},
   "outputs": [
    {
     "name": "stdout",
     "output_type": "stream",
     "text": [
      "+-------------------+----------------+----------+----------+\n",
      "|              CodUf|       TipoCrime|Quantidade|      Data|\n",
      "+-------------------+----------------+----------+----------+\n",
      "|Rio Grande do Norte|Homicídio doloso|     10242|11/02/2023|\n",
      "|  Rio Grande do Sul|Homicídio doloso|     16995|16/02/2023|\n",
      "|     Rio de Janeiro|Homicídio doloso|     31763|22/02/2023|\n",
      "+-------------------+----------------+----------+----------+\n",
      "\n",
      "+-------------------+----------------+----------+----------+\n",
      "|              CodUf|       TipoCrime|Quantidade|      Data|\n",
      "+-------------------+----------------+----------+----------+\n",
      "|Rio Grande do Norte|Homicídio doloso|     10242|11/02/2023|\n",
      "|  Rio Grande do Sul|Homicídio doloso|     16995|16/02/2023|\n",
      "|     Rio de Janeiro|Homicídio doloso|     31763|22/02/2023|\n",
      "+-------------------+----------------+----------+----------+\n",
      "\n",
      "+---------+----------------+----------+----------+\n",
      "|    CodUf|       TipoCrime|Quantidade|      Data|\n",
      "+---------+----------------+----------+----------+\n",
      "|São Paulo|Homicídio doloso|     17211|17/02/2023|\n",
      "+---------+----------------+----------+----------+\n",
      "\n",
      "root\n",
      " |-- CodUf: string (nullable = true)\n",
      " |-- TipoCrime: string (nullable = true)\n",
      " |-- Quantidade: integer (nullable = true)\n",
      " |-- Data: string (nullable = true)\n",
      "\n",
      "+-------------------+----------------+----------+----------+\n",
      "|              CodUf|       TipoCrime|Quantidade|      Data|\n",
      "+-------------------+----------------+----------+----------+\n",
      "|            Roraima|Homicídio doloso|      1389|28/01/2023|\n",
      "|              Amapá|Homicídio doloso|      1948|29/01/2023|\n",
      "|               Acre|Homicídio doloso|      2007|30/01/2023|\n",
      "|          Tocantins|Homicídio doloso|      null|31/01/2023|\n",
      "|           Rondônia|Homicídio doloso|      3482|01/02/2023|\n",
      "|   Distrito Federal|Homicídio doloso|      3518|02/02/2023|\n",
      "| Mato Grosso do Sul|Homicídio doloso|      3905|03/02/2023|\n",
      "|              Piauí|Homicídio doloso|      4714|04/02/2023|\n",
      "|     Santa Catarina|Homicídio doloso|      5832|05/02/2023|\n",
      "|        Mato Grosso|Homicídio doloso|      6920|06/02/2023|\n",
      "|            Sergipe|Homicídio doloso|      6970|07/02/2023|\n",
      "|           Amazonas|Homicídio doloso|      8590|08/02/2023|\n",
      "|     Espírito Santo|Homicídio doloso|      8695|09/02/2023|\n",
      "|            Paraíba|Homicídio doloso|      8902|10/02/2023|\n",
      "|Rio Grande do Norte|Homicídio doloso|     10242|11/02/2023|\n",
      "|            Alagoas|Homicídio doloso|     10267|12/02/2023|\n",
      "|           Maranhão|Homicídio doloso|     13412|13/02/2023|\n",
      "|              Goiás|Homicídio doloso|     14512|      null|\n",
      "|             Paraná|Homicídio doloso|     15708|15/02/2023|\n",
      "|  Rio Grande do Sul|Homicídio doloso|     16995|16/02/2023|\n",
      "+-------------------+----------------+----------+----------+\n",
      "only showing top 20 rows\n",
      "\n"
     ]
    }
   ],
   "source": [
    "\n",
    "schema = StructType() \\\n",
    "      .add(\"CodUf\",StringType(),True) \\\n",
    "      .add(\"TipoCrime\",StringType(),True) \\\n",
    "      .add(\"Quantidade\",IntegerType(),True) \\\n",
    "      .add(\"Data\",StringType(),True)\n",
    "\n",
    "\n",
    "df_with_schema = spark.read.options(header='True'\n",
    "                                    , inferSchema='False'\n",
    "                                    , delimiter=';'\n",
    "                                    , encoding=\"windows-1252\") \\\n",
    "                                    .schema(schema) \\\n",
    "                                    .csv(arquivoIndicadorHomicidioRes)\n",
    "\n",
    "#df_with_schema = df_with_schema.filter(df_with_schema['CodUf'].contains('P'))\n",
    "\n",
    "\n",
    "## CONTÉM\n",
    "df_with_schema.filter(df_with_schema.CodUf.like(\"%Ri%\")).show()\n",
    "\n",
    "## INICIA COM \n",
    "df_with_schema.filter(df_with_schema.CodUf.like(\"Ri%\")).show()\n",
    "\n",
    "## TERMINA COM\n",
    "df_with_schema.filter(df_with_schema.CodUf.like(\"%lo\")).show()\n",
    "\n",
    "df_with_schema.printSchema()\n",
    "\n",
    "df_with_schema.show()\n",
    "\n",
    "\n",
    "\n"
   ]
  },
  {
   "cell_type": "code",
   "execution_count": 24,
   "id": "c7796403",
   "metadata": {},
   "outputs": [
    {
     "name": "stdout",
     "output_type": "stream",
     "text": [
      "root\n",
      " |-- CodUf: string (nullable = true)\n",
      " |-- TipoCrime: string (nullable = true)\n",
      " |-- Quantidade: integer (nullable = true)\n",
      " |-- Data: string (nullable = true)\n",
      "\n",
      "+----------+----------------+----------+----------+\n",
      "|     CodUf|       TipoCrime|Quantidade|      Data|\n",
      "+----------+----------------+----------+----------+\n",
      "|     Piauí|Homicídio doloso|      4714|04/02/2023|\n",
      "|   Paraíba|Homicídio doloso|      8902|10/02/2023|\n",
      "|    Paraná|Homicídio doloso|     15708|15/02/2023|\n",
      "| São Paulo|Homicídio doloso|     17211|17/02/2023|\n",
      "|      Pará|Homicídio doloso|     22822|18/02/2023|\n",
      "|Pernambuco|Homicídio doloso|     28965|21/02/2023|\n",
      "+----------+----------------+----------+----------+\n",
      "\n"
     ]
    }
   ],
   "source": [
    "\n",
    "schema = StructType() \\\n",
    "      .add(\"CodUf\",StringType(),True) \\\n",
    "      .add(\"TipoCrime\",StringType(),True) \\\n",
    "      .add(\"Quantidade\",IntegerType(),True) \\\n",
    "      .add(\"Data\",StringType(),True)\n",
    "\n",
    "\n",
    "df_with_schema = spark.read.options(header='True'\n",
    "                                    , inferSchema='False'\n",
    "                                    , delimiter=';'\n",
    "                                    , encoding=\"windows-1252\") \\\n",
    "                                    .schema(schema) \\\n",
    "                                    .csv(arquivoIndicadorHomicidioRes)\n",
    "\n",
    "df_with_schema = df_with_schema.filter(df_with_schema['CodUf'].contains('P'))\n",
    "\n",
    "df_with_schema.printSchema()\n",
    "\n",
    "df_with_schema.show()"
   ]
  },
  {
   "cell_type": "markdown",
   "id": "7f8d1f86",
   "metadata": {},
   "source": [
    "### 05.2.2 - Semelhante a cláusula LIKE - \"INICIA COM\" de Bancos de Dados"
   ]
  },
  {
   "cell_type": "code",
   "execution_count": 25,
   "id": "66b8db6c",
   "metadata": {},
   "outputs": [
    {
     "name": "stdout",
     "output_type": "stream",
     "text": [
      "root\n",
      " |-- CodUf: string (nullable = true)\n",
      " |-- TipoCrime: string (nullable = true)\n",
      " |-- Quantidade: integer (nullable = true)\n",
      " |-- Data: string (nullable = true)\n",
      "\n",
      "+-------------------+----------------+----------+----------+\n",
      "|              CodUf|       TipoCrime|Quantidade|      Data|\n",
      "+-------------------+----------------+----------+----------+\n",
      "|            Roraima|Homicídio doloso|      1389|28/01/2023|\n",
      "|           Rondônia|Homicídio doloso|      3482|01/02/2023|\n",
      "|Rio Grande do Norte|Homicídio doloso|     10242|11/02/2023|\n",
      "|  Rio Grande do Sul|Homicídio doloso|     16995|16/02/2023|\n",
      "|     Rio de Janeiro|Homicídio doloso|     31763|22/02/2023|\n",
      "+-------------------+----------------+----------+----------+\n",
      "\n"
     ]
    }
   ],
   "source": [
    "\n",
    "schema = StructType() \\\n",
    "      .add(\"CodUf\",StringType(),True) \\\n",
    "      .add(\"TipoCrime\",StringType(),True) \\\n",
    "      .add(\"Quantidade\",IntegerType(),True) \\\n",
    "      .add(\"Data\",StringType(),True)\n",
    "\n",
    "\n",
    "df_with_schema = spark.read.options(header='True'\n",
    "                                    , inferSchema='False'\n",
    "                                    , delimiter=';'\n",
    "                                    , encoding=\"windows-1252\") \\\n",
    "                                    .schema(schema) \\\n",
    "                                    .csv(arquivoIndicadorHomicidioRes)\n",
    "\n",
    "df_with_schema = df_with_schema.filter(df_with_schema['CodUf'].startswith('R'))\n",
    "\n",
    "df_with_schema.printSchema()\n",
    "\n",
    "df_with_schema.show()"
   ]
  },
  {
   "cell_type": "markdown",
   "id": "c7fde6d9",
   "metadata": {},
   "source": [
    "### 05.2.3 - Semelhante a cláusula LIKE - \"TERMINA COM\" de Bancos de Dados"
   ]
  },
  {
   "cell_type": "code",
   "execution_count": 26,
   "id": "948c8123",
   "metadata": {},
   "outputs": [
    {
     "name": "stdout",
     "output_type": "stream",
     "text": [
      "root\n",
      " |-- CodUf: string (nullable = true)\n",
      " |-- TipoCrime: string (nullable = true)\n",
      " |-- Quantidade: integer (nullable = true)\n",
      " |-- Data: string (nullable = true)\n",
      "\n",
      "+--------------+----------------+----------+----------+\n",
      "|         CodUf|       TipoCrime|Quantidade|      Data|\n",
      "+--------------+----------------+----------+----------+\n",
      "|   Mato Grosso|Homicídio doloso|      6920|06/02/2023|\n",
      "|Espírito Santo|Homicídio doloso|      8695|09/02/2023|\n",
      "|      Maranhão|Homicídio doloso|     13412|13/02/2023|\n",
      "|     São Paulo|Homicídio doloso|     17211|17/02/2023|\n",
      "|    Pernambuco|Homicídio doloso|     28965|21/02/2023|\n",
      "|Rio de Janeiro|Homicídio doloso|     31763|22/02/2023|\n",
      "+--------------+----------------+----------+----------+\n",
      "\n"
     ]
    }
   ],
   "source": [
    "\n",
    "schema = StructType() \\\n",
    "      .add(\"CodUf\",StringType(),True) \\\n",
    "      .add(\"TipoCrime\",StringType(),True) \\\n",
    "      .add(\"Quantidade\",IntegerType(),True) \\\n",
    "      .add(\"Data\",StringType(),True)\n",
    "\n",
    "\n",
    "df_with_schema = spark.read.options(header='True'\n",
    "                                    , inferSchema='False'\n",
    "                                    , delimiter=';'\n",
    "                                    , encoding=\"windows-1252\") \\\n",
    "                                    .schema(schema) \\\n",
    "                                    .csv(arquivoIndicadorHomicidioRes)\n",
    "\n",
    "df_with_schema = df_with_schema.filter(df_with_schema['CodUf'].endswith('o'))\n",
    "\n",
    "df_with_schema.printSchema()\n",
    "\n",
    "df_with_schema.show()"
   ]
  },
  {
   "cell_type": "markdown",
   "id": "8d17611a",
   "metadata": {},
   "source": [
    "### 05.2.4 - Semelhante a cláusula WHERE de Bancos de Dados"
   ]
  },
  {
   "cell_type": "markdown",
   "id": "c000dddf",
   "metadata": {},
   "source": [
    "#### WHERE com uma Condição"
   ]
  },
  {
   "cell_type": "code",
   "execution_count": 27,
   "id": "6ca5fe87",
   "metadata": {},
   "outputs": [
    {
     "name": "stdout",
     "output_type": "stream",
     "text": [
      "root\n",
      " |-- CodUf: string (nullable = true)\n",
      " |-- TipoCrime: string (nullable = true)\n",
      " |-- Quantidade: integer (nullable = true)\n",
      " |-- Data: string (nullable = true)\n",
      "\n",
      "+--------------+----------------+----------+----------+\n",
      "|         CodUf|       TipoCrime|Quantidade|      Data|\n",
      "+--------------+----------------+----------+----------+\n",
      "|Rio de Janeiro|Homicídio doloso|     31763|22/02/2023|\n",
      "+--------------+----------------+----------+----------+\n",
      "\n"
     ]
    }
   ],
   "source": [
    "\n",
    "schema = StructType() \\\n",
    "      .add(\"CodUf\",StringType(),True) \\\n",
    "      .add(\"TipoCrime\",StringType(),True) \\\n",
    "      .add(\"Quantidade\",IntegerType(),True) \\\n",
    "      .add(\"Data\",StringType(),True)\n",
    "\n",
    "\n",
    "df_with_schema = spark.read.options(header='True'\n",
    "                                    , inferSchema='False'\n",
    "                                    , delimiter=';'\n",
    "                                    , encoding=\"windows-1252\") \\\n",
    "                                    .schema(schema) \\\n",
    "                                    .csv(arquivoIndicadorHomicidioRes)\n",
    "\n",
    "df_with_schema = df_with_schema.where(df_with_schema['CodUf']=='Rio de Janeiro')\n",
    "\n",
    "df_with_schema.printSchema()\n",
    "\n",
    "df_with_schema.show()"
   ]
  },
  {
   "cell_type": "code",
   "execution_count": 28,
   "id": "ff8b1348",
   "metadata": {},
   "outputs": [
    {
     "name": "stdout",
     "output_type": "stream",
     "text": [
      "--------------------------- MAIOR QUE 10000 ---------------------------\n",
      "+-------------------+----------------+----------+----------+\n",
      "|              CodUf|       TipoCrime|Quantidade|      Data|\n",
      "+-------------------+----------------+----------+----------+\n",
      "|Rio Grande do Norte|Homicídio doloso|     10242|11/02/2023|\n",
      "|            Alagoas|Homicídio doloso|     10267|12/02/2023|\n",
      "|           Maranhão|Homicídio doloso|     13412|13/02/2023|\n",
      "|              Goiás|Homicídio doloso|     14512|      null|\n",
      "|             Paraná|Homicídio doloso|     15708|15/02/2023|\n",
      "|  Rio Grande do Sul|Homicídio doloso|     16995|16/02/2023|\n",
      "|          São Paulo|Homicídio doloso|     17211|17/02/2023|\n",
      "|               Pará|Homicídio doloso|     22822|18/02/2023|\n",
      "|       Minas Gerais|Homicídio doloso|     24207|19/02/2023|\n",
      "|              Ceará|Homicídio doloso|     27435|20/02/2023|\n",
      "|         Pernambuco|Homicídio doloso|     28965|21/02/2023|\n",
      "|     Rio de Janeiro|Homicídio doloso|     31763|22/02/2023|\n",
      "|              Bahia|Homicídio doloso|     42418|23/02/2023|\n",
      "+-------------------+----------------+----------+----------+\n",
      "\n",
      "--------------------------- MAIOR IGUAL QUE 10000 ---------------------------\n",
      "+-------------------+----------------+----------+----------+\n",
      "|              CodUf|       TipoCrime|Quantidade|      Data|\n",
      "+-------------------+----------------+----------+----------+\n",
      "|Rio Grande do Norte|Homicídio doloso|     10242|11/02/2023|\n",
      "|            Alagoas|Homicídio doloso|     10267|12/02/2023|\n",
      "|           Maranhão|Homicídio doloso|     13412|13/02/2023|\n",
      "|              Goiás|Homicídio doloso|     14512|      null|\n",
      "|             Paraná|Homicídio doloso|     15708|15/02/2023|\n",
      "|  Rio Grande do Sul|Homicídio doloso|     16995|16/02/2023|\n",
      "|          São Paulo|Homicídio doloso|     17211|17/02/2023|\n",
      "|               Pará|Homicídio doloso|     22822|18/02/2023|\n",
      "|       Minas Gerais|Homicídio doloso|     24207|19/02/2023|\n",
      "|              Ceará|Homicídio doloso|     27435|20/02/2023|\n",
      "|         Pernambuco|Homicídio doloso|     28965|21/02/2023|\n",
      "|     Rio de Janeiro|Homicídio doloso|     31763|22/02/2023|\n",
      "|              Bahia|Homicídio doloso|     42418|23/02/2023|\n",
      "+-------------------+----------------+----------+----------+\n",
      "\n",
      "--------------------------- DIFERENTE DE 10000 ---------------------------\n",
      "+-------------------+----------------+----------+----------+\n",
      "|              CodUf|       TipoCrime|Quantidade|      Data|\n",
      "+-------------------+----------------+----------+----------+\n",
      "|            Roraima|Homicídio doloso|      1389|28/01/2023|\n",
      "|              Amapá|Homicídio doloso|      1948|29/01/2023|\n",
      "|               Acre|Homicídio doloso|      2007|30/01/2023|\n",
      "|           Rondônia|Homicídio doloso|      3482|01/02/2023|\n",
      "|   Distrito Federal|Homicídio doloso|      3518|02/02/2023|\n",
      "| Mato Grosso do Sul|Homicídio doloso|      3905|03/02/2023|\n",
      "|              Piauí|Homicídio doloso|      4714|04/02/2023|\n",
      "|     Santa Catarina|Homicídio doloso|      5832|05/02/2023|\n",
      "|        Mato Grosso|Homicídio doloso|      6920|06/02/2023|\n",
      "|            Sergipe|Homicídio doloso|      6970|07/02/2023|\n",
      "|           Amazonas|Homicídio doloso|      8590|08/02/2023|\n",
      "|     Espírito Santo|Homicídio doloso|      8695|09/02/2023|\n",
      "|            Paraíba|Homicídio doloso|      8902|10/02/2023|\n",
      "|Rio Grande do Norte|Homicídio doloso|     10242|11/02/2023|\n",
      "|            Alagoas|Homicídio doloso|     10267|12/02/2023|\n",
      "|           Maranhão|Homicídio doloso|     13412|13/02/2023|\n",
      "|              Goiás|Homicídio doloso|     14512|      null|\n",
      "|             Paraná|Homicídio doloso|     15708|15/02/2023|\n",
      "|  Rio Grande do Sul|Homicídio doloso|     16995|16/02/2023|\n",
      "|          São Paulo|Homicídio doloso|     17211|17/02/2023|\n",
      "+-------------------+----------------+----------+----------+\n",
      "only showing top 20 rows\n",
      "\n",
      "--------------------------- MENOR QUE 10000 ---------------------------\n",
      "+------------------+----------------+----------+----------+\n",
      "|             CodUf|       TipoCrime|Quantidade|      Data|\n",
      "+------------------+----------------+----------+----------+\n",
      "|           Roraima|Homicídio doloso|      1389|28/01/2023|\n",
      "|             Amapá|Homicídio doloso|      1948|29/01/2023|\n",
      "|              Acre|Homicídio doloso|      2007|30/01/2023|\n",
      "|          Rondônia|Homicídio doloso|      3482|01/02/2023|\n",
      "|  Distrito Federal|Homicídio doloso|      3518|02/02/2023|\n",
      "|Mato Grosso do Sul|Homicídio doloso|      3905|03/02/2023|\n",
      "|             Piauí|Homicídio doloso|      4714|04/02/2023|\n",
      "|    Santa Catarina|Homicídio doloso|      5832|05/02/2023|\n",
      "|       Mato Grosso|Homicídio doloso|      6920|06/02/2023|\n",
      "|           Sergipe|Homicídio doloso|      6970|07/02/2023|\n",
      "|          Amazonas|Homicídio doloso|      8590|08/02/2023|\n",
      "|    Espírito Santo|Homicídio doloso|      8695|09/02/2023|\n",
      "|           Paraíba|Homicídio doloso|      8902|10/02/2023|\n",
      "+------------------+----------------+----------+----------+\n",
      "\n",
      "--------------------------- MENOR IGUAL QUE 10000 ---------------------------\n",
      "+------------------+----------------+----------+----------+\n",
      "|             CodUf|       TipoCrime|Quantidade|      Data|\n",
      "+------------------+----------------+----------+----------+\n",
      "|           Roraima|Homicídio doloso|      1389|28/01/2023|\n",
      "|             Amapá|Homicídio doloso|      1948|29/01/2023|\n",
      "|              Acre|Homicídio doloso|      2007|30/01/2023|\n",
      "|          Rondônia|Homicídio doloso|      3482|01/02/2023|\n",
      "|  Distrito Federal|Homicídio doloso|      3518|02/02/2023|\n",
      "|Mato Grosso do Sul|Homicídio doloso|      3905|03/02/2023|\n",
      "|             Piauí|Homicídio doloso|      4714|04/02/2023|\n",
      "|    Santa Catarina|Homicídio doloso|      5832|05/02/2023|\n",
      "|       Mato Grosso|Homicídio doloso|      6920|06/02/2023|\n",
      "|           Sergipe|Homicídio doloso|      6970|07/02/2023|\n",
      "|          Amazonas|Homicídio doloso|      8590|08/02/2023|\n",
      "|    Espírito Santo|Homicídio doloso|      8695|09/02/2023|\n",
      "|           Paraíba|Homicídio doloso|      8902|10/02/2023|\n",
      "+------------------+----------------+----------+----------+\n",
      "\n"
     ]
    }
   ],
   "source": [
    "\n",
    "schema = StructType() \\\n",
    "      .add(\"CodUf\",StringType(),True) \\\n",
    "      .add(\"TipoCrime\",StringType(),True) \\\n",
    "      .add(\"Quantidade\",IntegerType(),True) \\\n",
    "      .add(\"Data\",StringType(),True)\n",
    "\n",
    "df_with_schema = spark.read.options(header='True'\n",
    "                                    , inferSchema='False'\n",
    "                                    , delimiter=';'\n",
    "                                    , encoding=\"windows-1252\") \\\n",
    "                                    .schema(schema) \\\n",
    "                                    .csv(arquivoIndicadorHomicidioRes)\n",
    "\n",
    "df_with_schema1 = df_with_schema.where(df_with_schema['Quantidade'] > 10000)\n",
    "\n",
    "df_with_schema2 = df_with_schema.where(df_with_schema['Quantidade'] >= 10000)\n",
    "\n",
    "df_with_schema3 = df_with_schema.where(df_with_schema['Quantidade'] != 10000)\n",
    "\n",
    "df_with_schema4 = df_with_schema.where(df_with_schema['Quantidade'] < 10000)\n",
    "\n",
    "df_with_schema5 = df_with_schema.where(df_with_schema['Quantidade'] <= 10000)\n",
    "\n",
    "#df_with_schema.printSchema()\n",
    "\n",
    "print('--------------------------- MAIOR QUE 10000 ---------------------------')\n",
    "\n",
    "df_with_schema1.show()\n",
    "\n",
    "print('--------------------------- MAIOR IGUAL QUE 10000 ---------------------------')\n",
    "\n",
    "df_with_schema2.show()\n",
    "\n",
    "print('--------------------------- DIFERENTE DE 10000 ---------------------------')\n",
    "\n",
    "df_with_schema3.show()\n",
    "\n",
    "print('--------------------------- MENOR QUE 10000 ---------------------------')\n",
    "\n",
    "df_with_schema4.show()\n",
    "\n",
    "print('--------------------------- MENOR IGUAL QUE 10000 ---------------------------')\n",
    "\n",
    "df_with_schema5.show()"
   ]
  },
  {
   "cell_type": "markdown",
   "id": "f2a8a6f4",
   "metadata": {},
   "source": [
    "#### WHERE com MULTIPLAS Condições"
   ]
  },
  {
   "cell_type": "code",
   "execution_count": 29,
   "id": "559a9008",
   "metadata": {},
   "outputs": [
    {
     "name": "stdout",
     "output_type": "stream",
     "text": [
      "root\n",
      " |-- CodUf: string (nullable = true)\n",
      " |-- TipoCrime: string (nullable = true)\n",
      " |-- Quantidade: integer (nullable = true)\n",
      " |-- Data: string (nullable = true)\n",
      "\n",
      "+--------------+----------------+----------+----------+\n",
      "|         CodUf|       TipoCrime|Quantidade|      Data|\n",
      "+--------------+----------------+----------+----------+\n",
      "|     São Paulo|Homicídio doloso|     17211|17/02/2023|\n",
      "|Rio de Janeiro|Homicídio doloso|     31763|22/02/2023|\n",
      "+--------------+----------------+----------+----------+\n",
      "\n"
     ]
    }
   ],
   "source": [
    "\n",
    "schema = StructType() \\\n",
    "      .add(\"CodUf\",StringType(),True) \\\n",
    "      .add(\"TipoCrime\",StringType(),True) \\\n",
    "      .add(\"Quantidade\",IntegerType(),True) \\\n",
    "      .add(\"Data\",StringType(),True) \\\n",
    "\n",
    "\n",
    "df_with_schema = spark.read.options(header='True'\n",
    "                                    , inferSchema='False'\n",
    "                                    , delimiter=';'\n",
    "                                    , encoding=\"windows-1252\") \\\n",
    "                                    .schema(schema) \\\n",
    "                                    .csv(arquivoIndicadorHomicidioRes)\n",
    "\n",
    "df_with_schema = df_with_schema.filter(df_with_schema['CodUf'].isin('Rio de Janeiro','São Paulo')) \n",
    "\n",
    "df_with_schema.printSchema()\n",
    "\n",
    "df_with_schema.show()"
   ]
  },
  {
   "cell_type": "markdown",
   "id": "c90a15f6",
   "metadata": {},
   "source": [
    "#### Quando ocorrer a necessidade de filtrar vários valores na mesma coluna, devemos usaro a cláusula ISIN quando for em campos diferentes devemos usar a cláusula WHERE com MULTIPLAS Condições"
   ]
  },
  {
   "cell_type": "markdown",
   "id": "e844b322",
   "metadata": {},
   "source": [
    "#### ISNOTIN"
   ]
  },
  {
   "cell_type": "code",
   "execution_count": 30,
   "id": "17b99bbf",
   "metadata": {},
   "outputs": [
    {
     "name": "stdout",
     "output_type": "stream",
     "text": [
      "root\n",
      " |-- CodUf: string (nullable = true)\n",
      " |-- TipoCrime: string (nullable = true)\n",
      " |-- Quantidade: integer (nullable = true)\n",
      " |-- Data: string (nullable = true)\n",
      "\n",
      "+-------------------+----------------+----------+----------+\n",
      "|              CodUf|       TipoCrime|Quantidade|      Data|\n",
      "+-------------------+----------------+----------+----------+\n",
      "|            Roraima|Homicídio doloso|      1389|28/01/2023|\n",
      "|              Amapá|Homicídio doloso|      1948|29/01/2023|\n",
      "|               Acre|Homicídio doloso|      2007|30/01/2023|\n",
      "|          Tocantins|Homicídio doloso|      null|31/01/2023|\n",
      "|           Rondônia|Homicídio doloso|      3482|01/02/2023|\n",
      "|   Distrito Federal|Homicídio doloso|      3518|02/02/2023|\n",
      "| Mato Grosso do Sul|Homicídio doloso|      3905|03/02/2023|\n",
      "|              Piauí|Homicídio doloso|      4714|04/02/2023|\n",
      "|     Santa Catarina|Homicídio doloso|      5832|05/02/2023|\n",
      "|        Mato Grosso|Homicídio doloso|      6920|06/02/2023|\n",
      "|            Sergipe|Homicídio doloso|      6970|07/02/2023|\n",
      "|           Amazonas|Homicídio doloso|      8590|08/02/2023|\n",
      "|     Espírito Santo|Homicídio doloso|      8695|09/02/2023|\n",
      "|            Paraíba|Homicídio doloso|      8902|10/02/2023|\n",
      "|Rio Grande do Norte|Homicídio doloso|     10242|11/02/2023|\n",
      "|            Alagoas|Homicídio doloso|     10267|12/02/2023|\n",
      "|           Maranhão|Homicídio doloso|     13412|13/02/2023|\n",
      "|              Goiás|Homicídio doloso|     14512|      null|\n",
      "|             Paraná|Homicídio doloso|     15708|15/02/2023|\n",
      "|  Rio Grande do Sul|Homicídio doloso|     16995|16/02/2023|\n",
      "+-------------------+----------------+----------+----------+\n",
      "only showing top 20 rows\n",
      "\n"
     ]
    }
   ],
   "source": [
    "\n",
    "schema = StructType() \\\n",
    "      .add(\"CodUf\",StringType(),True) \\\n",
    "      .add(\"TipoCrime\",StringType(),True) \\\n",
    "      .add(\"Quantidade\",IntegerType(),True) \\\n",
    "      .add(\"Data\",StringType(),True) \\\n",
    "\n",
    "\n",
    "df_with_schema = spark.read.options(header='True'\n",
    "                                    , inferSchema='False'\n",
    "                                    , delimiter=';'\n",
    "                                    , encoding=\"windows-1252\") \\\n",
    "                                    .schema(schema) \\\n",
    "                                    .csv(arquivoIndicadorHomicidioRes)\n",
    "\n",
    "#df_with_schema = df_with_schema.where(~df_with_schema['CodUf'].isin('Rio de Janeiro','São Paulo'))\n",
    "\n",
    "df_with_schema = df_with_schema.where(df_with_schema['CodUf'].isin('Rio de Janeiro','São Paulo')==False)\n",
    "\n",
    "df_with_schema.printSchema()\n",
    "\n",
    "df_with_schema.show()\n",
    "\n"
   ]
  },
  {
   "cell_type": "markdown",
   "id": "e93ebfdf",
   "metadata": {},
   "source": [
    "### 05.2.5 - Semelhante a cláusula IN de Bancos de Dados"
   ]
  },
  {
   "cell_type": "code",
   "execution_count": 31,
   "id": "a0cb35d9",
   "metadata": {},
   "outputs": [
    {
     "name": "stdout",
     "output_type": "stream",
     "text": [
      "root\n",
      " |-- CodUf: string (nullable = true)\n",
      " |-- TipoCrime: string (nullable = true)\n",
      " |-- Quantidade: integer (nullable = true)\n",
      " |-- Data: string (nullable = true)\n",
      "\n",
      "+--------------+----------------+----------+----------+\n",
      "|         CodUf|       TipoCrime|Quantidade|      Data|\n",
      "+--------------+----------------+----------+----------+\n",
      "|Rio de Janeiro|Homicídio doloso|     31763|22/02/2023|\n",
      "+--------------+----------------+----------+----------+\n",
      "\n"
     ]
    }
   ],
   "source": [
    "\n",
    "schema = StructType() \\\n",
    "      .add(\"CodUf\",StringType(),True) \\\n",
    "      .add(\"TipoCrime\",StringType(),True) \\\n",
    "      .add(\"Quantidade\",IntegerType(),True) \\\n",
    "      .add(\"Data\",StringType(),True) \\\n",
    "\n",
    "\n",
    "df_with_schema = spark.read.options(header='True'\n",
    "                                    , inferSchema='False'\n",
    "                                    , delimiter=';'\n",
    "                                    , encoding=\"windows-1252\") \\\n",
    "                                    .schema(schema) \\\n",
    "                                    .csv(arquivoIndicadorHomicidioRes)\n",
    "\n",
    "df_with_schema = df_with_schema.where(df_with_schema['CodUf'].isin('Rio de Janeiro'))\n",
    "\n",
    "df_with_schema.printSchema()\n",
    "\n",
    "df_with_schema.show()"
   ]
  },
  {
   "cell_type": "code",
   "execution_count": 32,
   "id": "af89ea01",
   "metadata": {},
   "outputs": [
    {
     "name": "stdout",
     "output_type": "stream",
     "text": [
      "root\n",
      " |-- CodUf: string (nullable = true)\n",
      " |-- TipoCrime: string (nullable = true)\n",
      " |-- Quantidade: integer (nullable = true)\n",
      " |-- Data: string (nullable = true)\n",
      "\n",
      "+--------------+----------------+----------+----------+\n",
      "|         CodUf|       TipoCrime|Quantidade|      Data|\n",
      "+--------------+----------------+----------+----------+\n",
      "|     São Paulo|Homicídio doloso|     17211|17/02/2023|\n",
      "|Rio de Janeiro|Homicídio doloso|     31763|22/02/2023|\n",
      "+--------------+----------------+----------+----------+\n",
      "\n"
     ]
    }
   ],
   "source": [
    "\n",
    "schema = StructType() \\\n",
    "      .add(\"CodUf\",StringType(),True) \\\n",
    "      .add(\"TipoCrime\",StringType(),True) \\\n",
    "      .add(\"Quantidade\",IntegerType(),True) \\\n",
    "      .add(\"Data\",StringType(),True) \\\n",
    "\n",
    "\n",
    "df_with_schema = spark.read.options(header='True'\n",
    "                                    , inferSchema='False'\n",
    "                                    , delimiter=';'\n",
    "                                    , encoding=\"windows-1252\") \\\n",
    "                                    .schema(schema) \\\n",
    "                                    .csv(arquivoIndicadorHomicidioRes)\n",
    "\n",
    "df_with_schema = df_with_schema.where(df_with_schema['CodUf'].isin('Rio de Janeiro','São Paulo'))\n",
    "\n",
    "df_with_schema = df_with_schema.where(df_with_schema['CodUf'].isin(['Rio de Janeiro','São Paulo']))\n",
    "\n",
    "df_with_schema.printSchema()\n",
    "\n",
    "df_with_schema.show()"
   ]
  },
  {
   "cell_type": "markdown",
   "id": "497beb03",
   "metadata": {},
   "source": [
    "## 05.3 - Tratando Valores com UPPER, LOWER e INITCAPT"
   ]
  },
  {
   "cell_type": "code",
   "execution_count": 33,
   "id": "eae701ed",
   "metadata": {},
   "outputs": [
    {
     "name": "stdout",
     "output_type": "stream",
     "text": [
      "root\n",
      " |-- CodUf: string (nullable = true)\n",
      " |-- TipoCrime: string (nullable = true)\n",
      " |-- Quantidade: integer (nullable = true)\n",
      " |-- Data: string (nullable = true)\n",
      " |-- CodUf_upper: string (nullable = true)\n",
      " |-- CodUf_lower: string (nullable = true)\n",
      " |-- CodUf_incap: string (nullable = true)\n",
      "\n",
      "+-------------------+----------------+----------+----------+-------------------+-------------------+-------------------+\n",
      "|              CodUf|       TipoCrime|Quantidade|      Data|        CodUf_upper|        CodUf_lower|        CodUf_incap|\n",
      "+-------------------+----------------+----------+----------+-------------------+-------------------+-------------------+\n",
      "|            Roraima|Homicídio doloso|      1389|28/01/2023|            RORAIMA|            roraima|            Roraima|\n",
      "|              Amapá|Homicídio doloso|      1948|29/01/2023|              AMAPÁ|              amapá|              Amapá|\n",
      "|               Acre|Homicídio doloso|      2007|30/01/2023|               ACRE|               acre|               Acre|\n",
      "|          Tocantins|Homicídio doloso|      null|31/01/2023|          TOCANTINS|          tocantins|          Tocantins|\n",
      "|           Rondônia|Homicídio doloso|      3482|01/02/2023|           RONDÔNIA|           rondônia|           Rondônia|\n",
      "|   Distrito Federal|Homicídio doloso|      3518|02/02/2023|   DISTRITO FEDERAL|   distrito federal|   Distrito Federal|\n",
      "| Mato Grosso do Sul|Homicídio doloso|      3905|03/02/2023| MATO GROSSO DO SUL| mato grosso do sul| Mato Grosso Do Sul|\n",
      "|              Piauí|Homicídio doloso|      4714|04/02/2023|              PIAUÍ|              piauí|              Piauí|\n",
      "|     Santa Catarina|Homicídio doloso|      5832|05/02/2023|     SANTA CATARINA|     santa catarina|     Santa Catarina|\n",
      "|        Mato Grosso|Homicídio doloso|      6920|06/02/2023|        MATO GROSSO|        mato grosso|        Mato Grosso|\n",
      "|            Sergipe|Homicídio doloso|      6970|07/02/2023|            SERGIPE|            sergipe|            Sergipe|\n",
      "|           Amazonas|Homicídio doloso|      8590|08/02/2023|           AMAZONAS|           amazonas|           Amazonas|\n",
      "|     Espírito Santo|Homicídio doloso|      8695|09/02/2023|     ESPÍRITO SANTO|     espírito santo|     Espírito Santo|\n",
      "|            Paraíba|Homicídio doloso|      8902|10/02/2023|            PARAÍBA|            paraíba|            Paraíba|\n",
      "|Rio Grande do Norte|Homicídio doloso|     10242|11/02/2023|RIO GRANDE DO NORTE|rio grande do norte|Rio Grande Do Norte|\n",
      "|            Alagoas|Homicídio doloso|     10267|12/02/2023|            ALAGOAS|            alagoas|            Alagoas|\n",
      "|           Maranhão|Homicídio doloso|     13412|13/02/2023|           MARANHÃO|           maranhão|           Maranhão|\n",
      "|              Goiás|Homicídio doloso|     14512|      null|              GOIÁS|              goiás|              Goiás|\n",
      "|             Paraná|Homicídio doloso|     15708|15/02/2023|             PARANÁ|             paraná|             Paraná|\n",
      "|  Rio Grande do Sul|Homicídio doloso|     16995|16/02/2023|  RIO GRANDE DO SUL|  rio grande do sul|  Rio Grande Do Sul|\n",
      "+-------------------+----------------+----------+----------+-------------------+-------------------+-------------------+\n",
      "only showing top 20 rows\n",
      "\n"
     ]
    }
   ],
   "source": [
    "\n",
    "schema = StructType() \\\n",
    "      .add(\"CodUf\",StringType(),True) \\\n",
    "      .add(\"TipoCrime\",StringType(),True) \\\n",
    "      .add(\"Quantidade\",IntegerType(),True) \\\n",
    "      .add(\"Data\",StringType(),True) \\\n",
    "\n",
    "\n",
    "df_with_schema = spark.read.options(header='True'\n",
    "                                    , inferSchema='False'\n",
    "                                    , delimiter=';'\n",
    "                                    , encoding=\"windows-1252\") \\\n",
    "                                    .schema(schema) \\\n",
    "                                    .csv(arquivoIndicadorHomicidioRes)\n",
    "\n",
    "df_with_schema = df_with_schema.withColumn(\"CodUf_upper\", upper(col(\"CodUf\")))\n",
    "\n",
    "df_with_schema = df_with_schema.withColumn(\"CodUf_lower\", lower(col(\"CodUf\")))\n",
    "\n",
    "df_with_schema = df_with_schema.withColumn(\"CodUf_incap\", initcap(col(\"CodUf\")))\n",
    "\n",
    "df_with_schema.printSchema()\n",
    "\n",
    "df_with_schema.show()\n"
   ]
  },
  {
   "cell_type": "markdown",
   "id": "a19d56a0",
   "metadata": {},
   "source": [
    "# 05 - Trabalhando com Arquivos Parquet"
   ]
  },
  {
   "cell_type": "code",
   "execution_count": 34,
   "id": "419f7f9f",
   "metadata": {},
   "outputs": [],
   "source": [
    "#arquivoDestino = '../ProjetoSparkKB/Dados/Parquet/indicador_homocidio.parquet'\n",
    "\n",
    "#df_with_schema3.write.mode(\"overwrite\").parquet(arquivoDestino)"
   ]
  },
  {
   "cell_type": "markdown",
   "id": "58b440ad",
   "metadata": {},
   "source": [
    "# 06 - Transformando o DataFrame Spark em Tabela Temporária"
   ]
  },
  {
   "cell_type": "code",
   "execution_count": 35,
   "id": "157f47a1",
   "metadata": {},
   "outputs": [],
   "source": [
    "df.createOrReplaceTempView('teste')"
   ]
  },
  {
   "cell_type": "markdown",
   "id": "53c403b4",
   "metadata": {},
   "source": [
    "## 06.1 - Lendo a Tabela e Transformando em outro DataFrame Spark"
   ]
  },
  {
   "cell_type": "code",
   "execution_count": 36,
   "id": "321f7f9b",
   "metadata": {},
   "outputs": [],
   "source": [
    "df2 = spark.sql(\"\"\"\n",
    "SELECT DT_GERACAO \n",
    "FROM TESTE\n",
    "\"\"\")"
   ]
  },
  {
   "cell_type": "markdown",
   "id": "a3dcbab4",
   "metadata": {},
   "source": [
    "# 07 - Convertendo DataType de um DataFrame Spark"
   ]
  },
  {
   "cell_type": "markdown",
   "id": "1acecf8c",
   "metadata": {},
   "source": [
    "## 07.1 -  De uma Coluna "
   ]
  },
  {
   "cell_type": "code",
   "execution_count": 37,
   "id": "5adee011",
   "metadata": {},
   "outputs": [
    {
     "name": "stdout",
     "output_type": "stream",
     "text": [
      "root\n",
      " |-- DT_GERACAO: timestamp (nullable = true)\n",
      "\n"
     ]
    }
   ],
   "source": [
    "df2.withColumn(\"DT_GERACAO\", df2[\"DT_GERACAO\"].cast(\"timestamp\")).printSchema()"
   ]
  },
  {
   "cell_type": "markdown",
   "id": "c81ec42d",
   "metadata": {},
   "source": [
    "## 07.2 - Criando uma nova Coluna"
   ]
  },
  {
   "cell_type": "code",
   "execution_count": 38,
   "id": "c7358983",
   "metadata": {},
   "outputs": [
    {
     "name": "stdout",
     "output_type": "stream",
     "text": [
      "root\n",
      " |-- DT_GERACAO: string (nullable = true)\n",
      " |-- DTGERACAO: timestamp (nullable = true)\n",
      "\n"
     ]
    }
   ],
   "source": [
    "df2.withColumn(\"DTGERACAO\", df2[\"DT_GERACAO\"].cast(\"timestamp\")).printSchema()"
   ]
  },
  {
   "cell_type": "markdown",
   "id": "43d56251",
   "metadata": {},
   "source": [
    "# 08 - Renomeando Coluna(s) em DataFrame Spark"
   ]
  },
  {
   "cell_type": "markdown",
   "id": "81ecec7a",
   "metadata": {},
   "source": [
    "## 08.1 - Uma Única Coluna"
   ]
  },
  {
   "cell_type": "code",
   "execution_count": 39,
   "id": "a6004d2a",
   "metadata": {},
   "outputs": [
    {
     "name": "stdout",
     "output_type": "stream",
     "text": [
      "root\n",
      " |-- DT_GERACAO2: string (nullable = true)\n",
      "\n"
     ]
    }
   ],
   "source": [
    "df2.withColumnRenamed(\"DT_GERACAO\",\"DT_GERACAO2\").printSchema()"
   ]
  },
  {
   "cell_type": "markdown",
   "id": "a81929c4",
   "metadata": {},
   "source": [
    "## 08.2 - Várias Colunas"
   ]
  },
  {
   "cell_type": "code",
   "execution_count": 40,
   "id": "fce058d6",
   "metadata": {},
   "outputs": [
    {
     "name": "stdout",
     "output_type": "stream",
     "text": [
      "root\n",
      " |-- DtGeracao: string (nullable = true)\n",
      " |-- HrGeracao: string (nullable = true)\n",
      "\n"
     ]
    }
   ],
   "source": [
    "df3 = spark.sql(\"\"\"\n",
    "SELECT DT_GERACAO , HH_GERACAO\n",
    "FROM TESTE\n",
    "\"\"\")\n",
    "\n",
    "df3 = df3.withColumnRenamed(\"DT_GERACAO\",\"DtGeracao\") \\\n",
    "            .withColumnRenamed(\"HH_GERACAO\",\"HrGeracao\")\n",
    "df3.printSchema()\n"
   ]
  },
  {
   "cell_type": "markdown",
   "id": "c2902ee0",
   "metadata": {},
   "source": [
    "# 09 - Ordenando um DataFrame Spark"
   ]
  },
  {
   "cell_type": "markdown",
   "id": "6b06793d",
   "metadata": {},
   "source": [
    "## 09.1 - Ordenando um DataFrame Spark por uma Coluna"
   ]
  },
  {
   "cell_type": "code",
   "execution_count": 41,
   "id": "a580782b",
   "metadata": {},
   "outputs": [
    {
     "name": "stdout",
     "output_type": "stream",
     "text": [
      "+-----+--------------------+\n",
      "|SG_UF|   NM_URNA_CANDIDATO|\n",
      "+-----+--------------------+\n",
      "|   CE|    TONY IN�CIO SHOW|\n",
      "|   RJ|ENFERMEIRA SONIA ...|\n",
      "|   RS|       TANGER JARDIM|\n",
      "|   SP|  VAVA DO TRANSPORTE|\n",
      "|   AM|           LEDA MAIA|\n",
      "|   AL|        �TALO BASTOS|\n",
      "|   MG|     CARCILEI SOARES|\n",
      "|   RJ|PAI MARCELO DE OX...|\n",
      "|   PR|            DR MAGNO|\n",
      "|   ES|       VANETE CARIRI|\n",
      "|   PR|       RONNIE CASTRO|\n",
      "|   PA|      ELIEL FAUSTINO|\n",
      "|   RJ|        MARCOS UCH�A|\n",
      "|   ES|IDELFONSO DA VITORIA|\n",
      "|   AP|PAULO CUNHA COLET...|\n",
      "|   SE|GILENO PAO FILHO ...|\n",
      "|   AM|      DR GEORGE LINS|\n",
      "|   AP|      ALDILENE SOUZA|\n",
      "|   BA|MISSIONARIA SIMON...|\n",
      "|   RJ|KARLA DE LUCAS DO...|\n",
      "+-----+--------------------+\n",
      "only showing top 20 rows\n",
      "\n",
      "+-----+---------------------+\n",
      "|SG_UF|NM_URNA_CANDIDATO    |\n",
      "+-----+---------------------+\n",
      "|AC   |PENINHA MAGALHAES    |\n",
      "|AC   |ANGELINO DO PANDEIRO |\n",
      "|AC   |TEREZINHA ARAUJO     |\n",
      "|AC   |HENRY NOGUEIRA       |\n",
      "|AC   |JOYCE DOS BURACOS    |\n",
      "|AC   |ADAL�CIO J�NIOR      |\n",
      "|AC   |TAMPINHA BITTAR      |\n",
      "|AC   |GIS ARAUJO           |\n",
      "|AC   |BEBE BOLSONARO       |\n",
      "|AC   |PROFESSOR CLEMILTON  |\n",
      "|AC   |LEONCIO CASTRO       |\n",
      "|AC   |LUANA ARA�JO         |\n",
      "|AC   |JAQUELINE MEDEIROS   |\n",
      "|AC   |SGT CARLOS TANACA    |\n",
      "|AC   |PEDRO LONGO          |\n",
      "|AC   |CARLINHOS UYENO      |\n",
      "|AC   |ROGGER WINS          |\n",
      "|AC   |MARCUS CAVALCANTE    |\n",
      "|AC   |PROFESSOR ROG�RIO    |\n",
      "|AC   |PASTORA CLEI�A FRAN�A|\n",
      "+-----+---------------------+\n",
      "only showing top 20 rows\n",
      "\n"
     ]
    }
   ],
   "source": [
    "df4 = spark.sql(\"\"\"\n",
    "SELECT SG_UF , NM_URNA_CANDIDATO\n",
    "FROM TESTE\n",
    "\"\"\")\n",
    "\n",
    "df4.show()\n",
    "\n",
    "df4.sort(\"SG_UF\").show(truncate=False)\n"
   ]
  },
  {
   "cell_type": "markdown",
   "id": "8b1346d0",
   "metadata": {},
   "source": [
    "## 09.2 - Ordenando um DataFrame Spark por Várias Colunas"
   ]
  },
  {
   "cell_type": "code",
   "execution_count": 42,
   "id": "0c228be3",
   "metadata": {},
   "outputs": [
    {
     "name": "stdout",
     "output_type": "stream",
     "text": [
      "+-----+---------------------+\n",
      "|SG_UF|NM_URNA_CANDIDATO    |\n",
      "+-----+---------------------+\n",
      "|AC   |ADAILTON CRUZ        |\n",
      "|AC   |ADALBERTO ALMEIDA    |\n",
      "|AC   |ADAL�CIO J�NIOR      |\n",
      "|AC   |ADEKSON LIMA         |\n",
      "|AC   |ADENILSON DUAM       |\n",
      "|AC   |ADERL�NDIO FRAN�A    |\n",
      "|AC   |ADEVILSON QUEIROZ    |\n",
      "|AC   |ADONAY               |\n",
      "|AC   |ADRIANA ANDRADE      |\n",
      "|AC   |ADRIANA MAIA         |\n",
      "|AC   |ADRIANA MELO         |\n",
      "|AC   |AFONSO CONTADOR      |\n",
      "|AC   |AFONSO FERNANDES     |\n",
      "|AC   |ALAN RICK            |\n",
      "|AC   |ALDA RADINE          |\n",
      "|AC   |ALDENORA SALES       |\n",
      "|AC   |ALEXANDRE FERNANDES  |\n",
      "|AC   |ALEXANDRINA VASQUES  |\n",
      "|AC   |ALMINERES DO ELDORADO|\n",
      "|AC   |AMANDA SOUZA         |\n",
      "+-----+---------------------+\n",
      "only showing top 20 rows\n",
      "\n"
     ]
    }
   ],
   "source": [
    "df4.sort(\"SG_UF\",\"NM_URNA_CANDIDATO\").show(truncate=False)\n"
   ]
  },
  {
   "cell_type": "code",
   "execution_count": 43,
   "id": "0a99ca4c",
   "metadata": {},
   "outputs": [
    {
     "name": "stdout",
     "output_type": "stream",
     "text": [
      "+-----+---------------------+\n",
      "|SG_UF|NM_URNA_CANDIDATO    |\n",
      "+-----+---------------------+\n",
      "|AC   |ADAILTON CRUZ        |\n",
      "|AC   |ADALBERTO ALMEIDA    |\n",
      "|AC   |ADAL�CIO J�NIOR      |\n",
      "|AC   |ADEKSON LIMA         |\n",
      "|AC   |ADENILSON DUAM       |\n",
      "|AC   |ADERL�NDIO FRAN�A    |\n",
      "|AC   |ADEVILSON QUEIROZ    |\n",
      "|AC   |ADONAY               |\n",
      "|AC   |ADRIANA ANDRADE      |\n",
      "|AC   |ADRIANA MAIA         |\n",
      "|AC   |ADRIANA MELO         |\n",
      "|AC   |AFONSO CONTADOR      |\n",
      "|AC   |AFONSO FERNANDES     |\n",
      "|AC   |ALAN RICK            |\n",
      "|AC   |ALDA RADINE          |\n",
      "|AC   |ALDENORA SALES       |\n",
      "|AC   |ALEXANDRE FERNANDES  |\n",
      "|AC   |ALEXANDRINA VASQUES  |\n",
      "|AC   |ALMINERES DO ELDORADO|\n",
      "|AC   |AMANDA SOUZA         |\n",
      "+-----+---------------------+\n",
      "only showing top 20 rows\n",
      "\n"
     ]
    }
   ],
   "source": [
    "\n",
    "df4.sort(col(\"SG_UF\"),col(\"NM_URNA_CANDIDATO\")).show(truncate=False)"
   ]
  },
  {
   "cell_type": "markdown",
   "id": "0616911e",
   "metadata": {},
   "source": [
    "# 10 - Agrupando um DataFrame Spark"
   ]
  },
  {
   "cell_type": "code",
   "execution_count": 44,
   "id": "adea42a5",
   "metadata": {},
   "outputs": [
    {
     "name": "stdout",
     "output_type": "stream",
     "text": [
      "+-----+-----+\n",
      "|SG_UF|count|\n",
      "+-----+-----+\n",
      "|SC   |996  |\n",
      "|RO   |633  |\n",
      "|PI   |433  |\n",
      "|AM   |664  |\n",
      "|RR   |612  |\n",
      "|GO   |1243 |\n",
      "|TO   |531  |\n",
      "|MT   |525  |\n",
      "|BR   |30   |\n",
      "|SP   |3659 |\n",
      "|ES   |782  |\n",
      "|PB   |756  |\n",
      "|RS   |1437 |\n",
      "|MS   |598  |\n",
      "|AL   |503  |\n",
      "|MG   |2562 |\n",
      "|PA   |1043 |\n",
      "|BA   |1723 |\n",
      "|SE   |545  |\n",
      "|PE   |1142 |\n",
      "+-----+-----+\n",
      "only showing top 20 rows\n",
      "\n"
     ]
    }
   ],
   "source": [
    "df4.groupBy(\"SG_UF\").count().show(truncate=False)"
   ]
  },
  {
   "cell_type": "markdown",
   "id": "5593e7a3",
   "metadata": {},
   "source": [
    "# 11 - Funções de Agrupamento (Count(), Sum(), Min(), Max() e Mean())"
   ]
  },
  {
   "cell_type": "code",
   "execution_count": 45,
   "id": "b464158c",
   "metadata": {},
   "outputs": [
    {
     "name": "stdout",
     "output_type": "stream",
     "text": [
      "+-----+------------------+-------------------+---------------------+----------------+----------------+\n",
      "|SG_UF|count_SQ_CANDIDATO|sum_SQ_CANDIDATO   |avg_SQ_CANDIDATO     |min_SQ_CANDIDATO|max_SQ_CANDIDATO|\n",
      "+-----+------------------+-------------------+---------------------+----------------+----------------+\n",
      "|AC   |542               |5.420889490165E12  |1.0001641125765682E10|10001595335     |10001739225     |\n",
      "|AL   |503               |1.0060834407453E13 |2.0001658861735588E10|20001605776     |20001739199     |\n",
      "|AM   |664               |2.6561091537892E13 |4.000164388236747E10 |40001596222     |40001739338     |\n",
      "|AP   |557               |1.6710907935804E13 |3.000163004632675E10 |30001595385     |30001739811     |\n",
      "|BA   |1723              |8.6152807743451E13 |5.0001629566715614E10|50001596234     |50001739212     |\n",
      "|BR   |30                |8.400048796108E12  |2.8000162653693335E11|280001600166    |280001735149    |\n",
      "|CE   |1018              |6.1081667260283E13 |6.00016377802387E10  |60001595308     |60001739276     |\n",
      "|DF   |896               |6.2721473697244E13 |7.00016447513884E10  |70001595676     |70001747344     |\n",
      "|ES   |782               |6.2561291411381E13 |8.000165142120332E10 |80001598671     |80001739257     |\n",
      "|GO   |1243              |1.1187205931498E14 |9.000165672967015E10 |90001601541     |90001739408     |\n",
      "|MA   |959               |9.5901568044258E13 |1.000016350826465E11 |100001599072    |100001737555    |\n",
      "|MG   |2562              |3.33064158561785E14|1.3000162317009563E11|130001595976    |130001738661    |\n",
      "|MS   |598               |7.1760976423186E13 |1.200016328146923E11 |120001596061    |120001738688    |\n",
      "|MT   |525               |5.7750860671328E13 |1.100016393739581E11 |110001593943    |110001737777    |\n",
      "|PA   |1043              |1.46021719607545E14|1.400016487128907E11 |140001596649    |140001741258    |\n",
      "|PB   |756               |1.13401252293876E14|1.5000165647338095E11|150001597600    |150001738849    |\n",
      "|PE   |1142              |1.94141871664591E14|1.700016389357189E11 |170001595421    |170001739180    |\n",
      "|PI   |433               |7.7940707562847E13 |1.8000163409433487E11|180001597434    |180001739382    |\n",
      "|PR   |1583              |2.53282618143096E14|1.600016539122527E11 |160001597805    |160001739397    |\n",
      "|RJ   |2785              |5.29154557872976E14|1.9000163657916553E11|190001596712    |190001739244    |\n",
      "+-----+------------------+-------------------+---------------------+----------------+----------------+\n",
      "only showing top 20 rows\n",
      "\n"
     ]
    }
   ],
   "source": [
    "df5 = spark.sql(\"\"\"\n",
    "SELECT SG_UF , NM_URNA_CANDIDATO, SQ_CANDIDATO\n",
    "FROM TESTE\n",
    "\"\"\")\n",
    "\n",
    "df5.groupBy(\"SG_UF\") \\\n",
    "    .agg(count(\"SQ_CANDIDATO\").alias(\"count_SQ_CANDIDATO\"), \\\n",
    "         sum(\"SQ_CANDIDATO\").alias(\"sum_SQ_CANDIDATO\"), \\\n",
    "         avg(\"SQ_CANDIDATO\").alias(\"avg_SQ_CANDIDATO\"), \\\n",
    "         min(\"SQ_CANDIDATO\").alias(\"min_SQ_CANDIDATO\"), \\\n",
    "         max(\"SQ_CANDIDATO\").alias(\"max_SQ_CANDIDATO\") \\\n",
    "     ) \\\n",
    "    .show(truncate=False)"
   ]
  }
 ],
 "metadata": {
  "kernelspec": {
   "display_name": "Python 3 (ipykernel)",
   "language": "python",
   "name": "python3"
  },
  "language_info": {
   "codemirror_mode": {
    "name": "ipython",
    "version": 3
   },
   "file_extension": ".py",
   "mimetype": "text/x-python",
   "name": "python",
   "nbconvert_exporter": "python",
   "pygments_lexer": "ipython3",
   "version": "3.9.12"
  }
 },
 "nbformat": 4,
 "nbformat_minor": 5
}
