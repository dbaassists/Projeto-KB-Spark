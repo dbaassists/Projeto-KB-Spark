{
 "cells": [
  {
   "cell_type": "markdown",
   "id": "80fe31b4",
   "metadata": {},
   "source": [
    "### O que iremos aprender\n",
    "\n",
    "* 01 - Importando Bibliotecas\n",
    "* 02 - Criando uma SparkSession\n",
    "* 03 - Configurando o Modo de Exibição de um DataFrame\n",
    "* 04 - Arquivo Para Ser Importado (Arquivo de Seleções)\n",
    "* 05 - Leitura do Arquivo, Criação de um DataFrame e Ordenando\n",
    "* 06 - Definindo a Estrutura do DataFrame, Leitura do Arquivo e Ordenando\n",
    "* 07 - Criando um TempView (Modelo de Tabela Temporária para ser Manipulada com Linguagem SQL)\n",
    "* 08 - Leitura do DataFrame com Linguagem SQL e Ordenando o Resultado\n",
    "* 09 - Leitura do DataFrame com Linguagem SQL e Ordenando o Resultado\n",
    "* 10 - Leitura do DataFrame com Linguagem SQL e Ordenando (sem informa o nome da coluna) o Resultado\n",
    "* 11 - Arquivo Para Ser Importado (Arquivo de Jogadores)"
   ]
  },
  {
   "cell_type": "markdown",
   "id": "40e3e36d",
   "metadata": {},
   "source": [
    "### Os arquivos usados estão disponíveis no GitHub\n",
    "\n",
    "https://github.com/dbaassists/ModelagemDados/tree/main/BaseDados_Copa_Catar_2022"
   ]
  },
  {
   "cell_type": "markdown",
   "id": "a59634ab",
   "metadata": {},
   "source": [
    "# 01 - Importando Bibliotecas"
   ]
  },
  {
   "cell_type": "code",
   "execution_count": 1,
   "id": "2436eae1",
   "metadata": {},
   "outputs": [],
   "source": [
    "from pyspark.sql import SparkSession\n",
    "from pyspark.sql.functions import *\n",
    "import pyspark.sql.functions as F\n",
    "from pyspark.sql.types import *\n",
    "from pyspark import SparkFiles"
   ]
  },
  {
   "cell_type": "markdown",
   "id": "49a7737d",
   "metadata": {},
   "source": [
    "# 02 - Criando uma SparkSession"
   ]
  },
  {
   "cell_type": "code",
   "execution_count": 2,
   "id": "3e40b23f",
   "metadata": {},
   "outputs": [],
   "source": [
    "spark = SparkSession.builder.getOrCreate()"
   ]
  },
  {
   "cell_type": "markdown",
   "id": "77b41c2a",
   "metadata": {},
   "source": [
    "# 03 - Configurando o Modo de Exibição de um DataFrame"
   ]
  },
  {
   "cell_type": "code",
   "execution_count": 3,
   "id": "9160e078",
   "metadata": {},
   "outputs": [],
   "source": [
    "spark.conf.set(\"spark.sql.repl.eagerEval.enabled\", \"true\")"
   ]
  },
  {
   "cell_type": "markdown",
   "id": "c36189d9",
   "metadata": {},
   "source": [
    "# 04 - Arquivo Para Ser Importado (Arquivo de Seleções)"
   ]
  },
  {
   "cell_type": "code",
   "execution_count": 4,
   "id": "fe1a0e50",
   "metadata": {},
   "outputs": [],
   "source": [
    "arquivoSelecao = '../BaseDados_Copa_Catar_2022/catar2022_base_selecoes.csv'"
   ]
  },
  {
   "cell_type": "markdown",
   "id": "ea158f16",
   "metadata": {},
   "source": [
    "# 05 - Leitura do Arquivo, Criação de um DataFrame e Ordenando"
   ]
  },
  {
   "cell_type": "code",
   "execution_count": 5,
   "id": "b3a1cf27",
   "metadata": {},
   "outputs": [
    {
     "name": "stdout",
     "output_type": "stream",
     "text": [
      "+----------+----------------+------------+\n",
      "|NOMSELECAO|DSCORIGEMSELECAO|NOMTREINADOR|\n",
      "+----------+----------------+------------+\n",
      "|URUGUAI   |SA              |DIEGO ALONSO|\n",
      "|TUNÍSIA   |AF              |JALEL KADRI |\n",
      "+----------+----------------+------------+\n",
      "only showing top 2 rows\n",
      "\n"
     ]
    }
   ],
   "source": [
    "dfSelecao = spark.read.csv(arquivoSelecao\n",
    "                            ,header=True\n",
    "                            ,sep=';'\n",
    "                            ,encoding='latin1')\n",
    "\n",
    "dfSelecao.orderBy(F.col('NOMSELECAO').desc()).show(2,truncate=False)\n"
   ]
  },
  {
   "cell_type": "markdown",
   "id": "f71886a6",
   "metadata": {},
   "source": [
    "# 06 - Definindo a Estrutura do DataFrame, Leitura do Arquivo e Ordenando"
   ]
  },
  {
   "cell_type": "code",
   "execution_count": 6,
   "id": "3cab7dcc",
   "metadata": {},
   "outputs": [
    {
     "name": "stdout",
     "output_type": "stream",
     "text": [
      "+----------+----------------+------------+\n",
      "|NomSelecao|DscOrigemSelecao|NomTreinador|\n",
      "+----------+----------------+------------+\n",
      "|URUGUAI   |SA              |DIEGO ALONSO|\n",
      "|TUNÍSIA   |AF              |JALEL KADRI |\n",
      "+----------+----------------+------------+\n",
      "only showing top 2 rows\n",
      "\n"
     ]
    }
   ],
   "source": [
    "\n",
    "schema = StructType() \\\n",
    "      .add(\"NomSelecao\",StringType(),True) \\\n",
    "      .add(\"DscOrigemSelecao\",StringType(),True) \\\n",
    "      .add(\"NomTreinador\",StringType(),True)\n",
    "\n",
    "\n",
    "dfSelecao = spark.read.options(header='True'\n",
    "                                    , inferSchema='False'\n",
    "                                    , delimiter=';'\n",
    "                                    , encoding=\"windows-1252\") \\\n",
    "                                    .schema(schema) \\\n",
    "                                    .csv(arquivoSelecao)\n",
    "\n",
    "\n",
    "dfSelecao.orderBy(F.col('NOMSELECAO').desc()).show(2,truncate=False)"
   ]
  },
  {
   "cell_type": "markdown",
   "id": "db655e0e",
   "metadata": {},
   "source": [
    "# 07 - Criando um TempView (Modelo de Tabela Temporária para ser Manipulada com Linguagem SQL)"
   ]
  },
  {
   "cell_type": "code",
   "execution_count": 7,
   "id": "bc75cbf4",
   "metadata": {},
   "outputs": [],
   "source": [
    "dfSelecao.createOrReplaceTempView('selecao')"
   ]
  },
  {
   "cell_type": "markdown",
   "id": "13c30b06",
   "metadata": {},
   "source": [
    "# 08 - Leitura do DataFrame com Linguagem SQL e Ordenando o Resultado\n",
    "\n",
    "Usando \"as\" para renomear colunas"
   ]
  },
  {
   "cell_type": "code",
   "execution_count": 8,
   "id": "53c97d4e",
   "metadata": {},
   "outputs": [
    {
     "name": "stdout",
     "output_type": "stream",
     "text": [
      "+-----------+----------+------------+\n",
      "|NomeSelecao|Continente|Treinador   |\n",
      "+-----------+----------+------------+\n",
      "|URUGUAI    |SA        |DIEGO ALONSO|\n",
      "|TUNÍSIA    |AF        |JALEL KADRI |\n",
      "+-----------+----------+------------+\n",
      "only showing top 2 rows\n",
      "\n"
     ]
    }
   ],
   "source": [
    "spark.sql(\"\"\"SELECT NomSelecao as NomeSelecao\n",
    "             ,DscOrigemSelecao as Continente\n",
    "             ,NomTreinador as Treinador\n",
    "             FROM selecao\n",
    "             ORDER BY NomSelecao DESC\"\"\").show(2, truncate=False)"
   ]
  },
  {
   "cell_type": "markdown",
   "id": "dceff2c6",
   "metadata": {},
   "source": [
    "# 09 - Leitura do DataFrame com Linguagem SQL e Ordenando o Resultado\n",
    "\n",
    "Não usando \"as\" para renomear colunas"
   ]
  },
  {
   "cell_type": "code",
   "execution_count": 9,
   "id": "132b330d",
   "metadata": {},
   "outputs": [
    {
     "name": "stdout",
     "output_type": "stream",
     "text": [
      "+-----------+----------+------------+\n",
      "|NomeSelecao|Continente|Treinador   |\n",
      "+-----------+----------+------------+\n",
      "|URUGUAI    |SA        |DIEGO ALONSO|\n",
      "|TUNÍSIA    |AF        |JALEL KADRI |\n",
      "+-----------+----------+------------+\n",
      "only showing top 2 rows\n",
      "\n"
     ]
    }
   ],
   "source": [
    "spark.sql(\"\"\"SELECT NomSelecao NomeSelecao\n",
    "             ,DscOrigemSelecao Continente\n",
    "             ,NomTreinador Treinador\n",
    "             FROM selecao\n",
    "             ORDER BY NomSelecao DESC\"\"\").show(2, truncate=False)"
   ]
  },
  {
   "cell_type": "markdown",
   "id": "86a654ea",
   "metadata": {},
   "source": [
    "# 10 - Leitura do DataFrame com Linguagem SQL e Ordenando (sem informa o nome da coluna) o Resultado"
   ]
  },
  {
   "cell_type": "code",
   "execution_count": 10,
   "id": "8c680a2e",
   "metadata": {},
   "outputs": [
    {
     "name": "stdout",
     "output_type": "stream",
     "text": [
      "+-----------+----------+------------+\n",
      "|NomeSelecao|Continente|Treinador   |\n",
      "+-----------+----------+------------+\n",
      "|URUGUAI    |SA        |DIEGO ALONSO|\n",
      "|TUNÍSIA    |AF        |JALEL KADRI |\n",
      "+-----------+----------+------------+\n",
      "only showing top 2 rows\n",
      "\n"
     ]
    }
   ],
   "source": [
    "spark.sql(\"\"\"SELECT NomSelecao as NomeSelecao\n",
    "             ,DscOrigemSelecao as Continente\n",
    "             ,NomTreinador as Treinador\n",
    "             FROM selecao\n",
    "             ORDER BY 1 DESC\"\"\").show(2, truncate=False)"
   ]
  },
  {
   "cell_type": "markdown",
   "id": "6c71fa08",
   "metadata": {},
   "source": [
    "# 11 - Arquivo Para Ser Importado (Arquivo de Jogadores)"
   ]
  },
  {
   "cell_type": "code",
   "execution_count": 11,
   "id": "4bd80b0d",
   "metadata": {},
   "outputs": [],
   "source": [
    "arquivoJogadores = '../BaseDados_Copa_Catar_2022/catar2022_base_jogadores.csv'"
   ]
  },
  {
   "cell_type": "code",
   "execution_count": 12,
   "id": "9feeb372",
   "metadata": {},
   "outputs": [
    {
     "name": "stdout",
     "output_type": "stream",
     "text": [
      "+------------+---------+----------+----------+\n",
      "|  NOMJOGADOR|NUMCAMISA|NOMPOSICAO|NOMSELECAO|\n",
      "+------------+---------+----------+----------+\n",
      "|    AL-SHEEB|        1|       GOL|     CATAR|\n",
      "|PEDRO MIGUEL|        2|       LAD|     CATAR|\n",
      "+------------+---------+----------+----------+\n",
      "only showing top 2 rows\n",
      "\n"
     ]
    }
   ],
   "source": [
    "dfJogadores = spark.read.csv(arquivoJogadores\n",
    "                            ,sep=';'\n",
    "                            ,header=True\n",
    "                            ,encoding='latin1')\n",
    "\n",
    "dfJogadores.show(2)"
   ]
  },
  {
   "cell_type": "markdown",
   "id": "768ca05c",
   "metadata": {},
   "source": [
    "# 12 - Relacionamento entre DataFrames"
   ]
  },
  {
   "cell_type": "code",
   "execution_count": 13,
   "id": "041a8281",
   "metadata": {},
   "outputs": [
    {
     "name": "stdout",
     "output_type": "stream",
     "text": [
      "+----------+----------------+------------+---------+----------+-------------+\n",
      "|NomSelecao|DscOrigemSelecao|  NOMJOGADOR|NUMCAMISA|NOMPOSICAO| NomTreinador|\n",
      "+----------+----------------+------------+---------+----------+-------------+\n",
      "|     CATAR|              AS|    AL-SHEEB|        1|       GOL|FÉLIX SÁNCHEZ|\n",
      "|     CATAR|              AS|PEDRO MIGUEL|        2|       LAD|FÉLIX SÁNCHEZ|\n",
      "+----------+----------------+------------+---------+----------+-------------+\n",
      "only showing top 2 rows\n",
      "\n"
     ]
    }
   ],
   "source": [
    "dfSelecao.join(dfJogadores\n",
    "               ,on=['NOMSELECAO','NOMSELECAO']\n",
    "               ,how='inner')\\\n",
    "                .select(dfSelecao['NomSelecao']\n",
    "                       ,dfSelecao['DscOrigemSelecao']\n",
    "                       ,dfJogadores['NOMJOGADOR']\n",
    "                       ,dfJogadores['NUMCAMISA']\n",
    "                       ,dfJogadores['NOMPOSICAO']\n",
    "                       ,dfSelecao['NomTreinador']).show(2)"
   ]
  },
  {
   "cell_type": "code",
   "execution_count": 14,
   "id": "f72e86a6",
   "metadata": {},
   "outputs": [
    {
     "name": "stdout",
     "output_type": "stream",
     "text": [
      "+----------------+\n",
      "|DscOrigemSelecao|\n",
      "+----------------+\n",
      "|              AS|\n",
      "|              AS|\n",
      "+----------------+\n",
      "only showing top 2 rows\n",
      "\n"
     ]
    }
   ],
   "source": [
    "dfSelecao.join(dfJogadores\n",
    "               ,on=['NOMSELECAO','NOMSELECAO']\n",
    "               ,how='inner')\\\n",
    "                .select('DscOrigemSelecao').show(2)"
   ]
  },
  {
   "cell_type": "code",
   "execution_count": 15,
   "id": "5732321b",
   "metadata": {},
   "outputs": [
    {
     "name": "stdout",
     "output_type": "stream",
     "text": [
      "+----------------+\n",
      "|DscOrigemSelecao|\n",
      "+----------------+\n",
      "|              AS|\n",
      "|              AS|\n",
      "+----------------+\n",
      "only showing top 2 rows\n",
      "\n"
     ]
    }
   ],
   "source": [
    "dfSelecao.join(dfJogadores\n",
    "               ,on=['NOMSELECAO','NOMSELECAO']\n",
    "               ,how='inner')\\\n",
    "                .select(F.col('DscOrigemSelecao')).show(2)"
   ]
  },
  {
   "cell_type": "code",
   "execution_count": 16,
   "id": "645c80ac",
   "metadata": {},
   "outputs": [
    {
     "name": "stdout",
     "output_type": "stream",
     "text": [
      "+----------------+\n",
      "|DscOrigemSelecao|\n",
      "+----------------+\n",
      "|              AS|\n",
      "|              AS|\n",
      "+----------------+\n",
      "only showing top 2 rows\n",
      "\n"
     ]
    }
   ],
   "source": [
    "dfSelecao.join(dfJogadores\n",
    "               ,on=['NOMSELECAO','NOMSELECAO']\n",
    "               ,how='inner')\\\n",
    "                .select(dfSelecao['DscOrigemSelecao']).show(2)"
   ]
  },
  {
   "cell_type": "code",
   "execution_count": 17,
   "id": "799212df",
   "metadata": {},
   "outputs": [],
   "source": [
    "dfJogadores.createOrReplaceTempView('jogador')"
   ]
  },
  {
   "cell_type": "code",
   "execution_count": 18,
   "id": "95678708",
   "metadata": {},
   "outputs": [],
   "source": [
    "import pandas as pd\n",
    "\n",
    "dfSelecaoJogador = spark.sql(\"\"\"\n",
    "SELECT S.NomSelecao\n",
    ",S.DscOrigemSelecao\n",
    ",J.NOMJOGADOR\n",
    ",J.NUMCAMISA\n",
    ",J.NOMPOSICAO\n",
    ",S.NomTreinador \n",
    "FROM selecao S\n",
    "\n",
    "INNER JOIN jogador J\n",
    "\n",
    "ON S.NOMSELECAO = J.NOMSELECAO\n",
    "\n",
    "\"\"\")\n",
    "\n",
    "dfPandasSelecaoJogador = dfSelecaoJogador.toPandas()\n",
    "\n",
    "dfPandasSelecaoJogador.to_csv('../ProjetoSparkKB/Dados/SelecaoJogador.csv', sep=';', index=False, encoding='latin1')"
   ]
  },
  {
   "cell_type": "code",
   "execution_count": 19,
   "id": "13f01236",
   "metadata": {},
   "outputs": [
    {
     "name": "stdout",
     "output_type": "stream",
     "text": [
      "+---------+\n",
      "|namespace|\n",
      "+---------+\n",
      "|  default|\n",
      "+---------+\n",
      "\n"
     ]
    }
   ],
   "source": [
    "spark.sql(\"show databases\").show()"
   ]
  },
  {
   "cell_type": "code",
   "execution_count": 20,
   "id": "395abba9",
   "metadata": {},
   "outputs": [
    {
     "data": {
      "text/html": [
       "<table border='1'>\n",
       "<tr><th></th></tr>\n",
       "</table>\n"
      ],
      "text/plain": [
       "++\n",
       "||\n",
       "++\n",
       "++"
      ]
     },
     "execution_count": 20,
     "metadata": {},
     "output_type": "execute_result"
    }
   ],
   "source": [
    "spark.sql(\"create database dbaassists\")"
   ]
  },
  {
   "cell_type": "code",
   "execution_count": 21,
   "id": "b98b00db",
   "metadata": {},
   "outputs": [
    {
     "name": "stdout",
     "output_type": "stream",
     "text": [
      "+----------+\n",
      "| namespace|\n",
      "+----------+\n",
      "|dbaassists|\n",
      "|   default|\n",
      "+----------+\n",
      "\n"
     ]
    }
   ],
   "source": [
    "spark.sql(\"show databases\").show()"
   ]
  },
  {
   "cell_type": "code",
   "execution_count": 22,
   "id": "e9f6b3fb",
   "metadata": {},
   "outputs": [
    {
     "data": {
      "text/html": [
       "<table border='1'>\n",
       "<tr><th></th></tr>\n",
       "</table>\n"
      ],
      "text/plain": [
       "++\n",
       "||\n",
       "++\n",
       "++"
      ]
     },
     "execution_count": 22,
     "metadata": {},
     "output_type": "execute_result"
    }
   ],
   "source": [
    "spark.sql(\"use dbaassists\")"
   ]
  },
  {
   "cell_type": "code",
   "execution_count": 23,
   "id": "0ced8ba4",
   "metadata": {},
   "outputs": [],
   "source": [
    "dfSelecaoJogador.write.saveAsTable('SelcaoJogador')"
   ]
  },
  {
   "cell_type": "code",
   "execution_count": 25,
   "id": "7332139a",
   "metadata": {},
   "outputs": [
    {
     "data": {
      "text/html": [
       "<table border='1'>\n",
       "<tr><th>namespace</th><th>tableName</th><th>isTemporary</th></tr>\n",
       "<tr><td>dbaassists</td><td>selcaojogador</td><td>false</td></tr>\n",
       "<tr><td></td><td>jogador</td><td>true</td></tr>\n",
       "<tr><td></td><td>selecao</td><td>true</td></tr>\n",
       "</table>\n"
      ],
      "text/plain": [
       "+----------+-------------+-----------+\n",
       "| namespace|    tableName|isTemporary|\n",
       "+----------+-------------+-----------+\n",
       "|dbaassists|selcaojogador|      false|\n",
       "|          |      jogador|       true|\n",
       "|          |      selecao|       true|\n",
       "+----------+-------------+-----------+"
      ]
     },
     "execution_count": 25,
     "metadata": {},
     "output_type": "execute_result"
    }
   ],
   "source": [
    "spark.sql(\"show tables\")"
   ]
  }
 ],
 "metadata": {
  "kernelspec": {
   "display_name": "Python 3 (ipykernel)",
   "language": "python",
   "name": "python3"
  },
  "language_info": {
   "codemirror_mode": {
    "name": "ipython",
    "version": 3
   },
   "file_extension": ".py",
   "mimetype": "text/x-python",
   "name": "python",
   "nbconvert_exporter": "python",
   "pygments_lexer": "ipython3",
   "version": "3.9.12"
  }
 },
 "nbformat": 4,
 "nbformat_minor": 5
}
