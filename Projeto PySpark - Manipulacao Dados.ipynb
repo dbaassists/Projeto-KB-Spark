{
 "cells": [
  {
   "cell_type": "markdown",
   "id": "80fe31b4",
   "metadata": {},
   "source": [
    "### O que iremos aprender\n",
    "\n",
    "* 01 - Importando Bibliotecas\n",
    "* 02 - Criando uma SparkSession\n",
    "* 03 - Configurando o Modo de Exibição de um DataFrame\n",
    "* 04 - Arquivo Para Ser Importado (Arquivo de Seleções)\n",
    "* 05 - Leitura do Arquivo, Criação de um DataFrame e Ordenando\n",
    "* 06 - Definindo a Estrutura do DataFrame, Leitura do Arquivo e Ordenando\n",
    "* 07 - Criando um TempView (Modelo de Tabela Temporária para ser Manipulada com Linguagem SQL)\n",
    "* 08 - Leitura do DataFrame com Linguagem SQL e Ordenando o Resultado\n",
    "* 09 - Leitura do DataFrame com Linguagem SQL e Ordenando o Resultado\n",
    "* 10 - Leitura do DataFrame com Linguagem SQL e Ordenando (sem informa o nome da coluna) o Resultado\n",
    "* 11 - Arquivo Para Ser Importado (Arquivo de Jogadores)"
   ]
  },
  {
   "cell_type": "markdown",
   "id": "40e3e36d",
   "metadata": {},
   "source": [
    "### Os arquivos usados estão disponíveis no GitHub\n",
    "\n",
    "https://github.com/dbaassists/ModelagemDados/tree/main/BaseDados_Copa_Catar_2022"
   ]
  },
  {
   "cell_type": "markdown",
   "id": "a59634ab",
   "metadata": {},
   "source": [
    "# 01 - Importando Bibliotecas"
   ]
  },
  {
   "cell_type": "code",
   "execution_count": 1,
   "id": "2436eae1",
   "metadata": {},
   "outputs": [],
   "source": [
    "from pyspark.sql import SparkSession\n",
    "from pyspark.sql.functions import *\n",
    "import pyspark.sql.functions as F\n",
    "from pyspark.sql.types import *\n",
    "from pyspark import SparkFiles"
   ]
  },
  {
   "cell_type": "markdown",
   "id": "49a7737d",
   "metadata": {},
   "source": [
    "# 02 - Criando uma SparkSession"
   ]
  },
  {
   "cell_type": "code",
   "execution_count": 2,
   "id": "3e40b23f",
   "metadata": {},
   "outputs": [],
   "source": [
    "spark = SparkSession.builder.getOrCreate()"
   ]
  },
  {
   "cell_type": "markdown",
   "id": "77b41c2a",
   "metadata": {},
   "source": [
    "# 03 - Configurando o Modo de Exibição de um DataFrame"
   ]
  },
  {
   "cell_type": "code",
   "execution_count": 3,
   "id": "9160e078",
   "metadata": {},
   "outputs": [],
   "source": [
    "spark.conf.set(\"spark.sql.repl.eagerEval.enabled\", \"true\")"
   ]
  },
  {
   "cell_type": "markdown",
   "id": "c36189d9",
   "metadata": {},
   "source": [
    "# 04 - Arquivo Para Ser Importado (Arquivo de Seleções)"
   ]
  },
  {
   "cell_type": "code",
   "execution_count": 4,
   "id": "fe1a0e50",
   "metadata": {},
   "outputs": [],
   "source": [
    "arquivoSelecao = '../BaseDados_Copa_Catar_2022/catar2022_base_selecoes.csv'"
   ]
  },
  {
   "cell_type": "markdown",
   "id": "ea158f16",
   "metadata": {},
   "source": [
    "# 05 - Leitura do Arquivo, Criação de um DataFrame e Ordenando"
   ]
  },
  {
   "cell_type": "code",
   "execution_count": 5,
   "id": "b3a1cf27",
   "metadata": {},
   "outputs": [
    {
     "name": "stdout",
     "output_type": "stream",
     "text": [
      "+----------+----------------+------------+\n",
      "|NOMSELECAO|DSCORIGEMSELECAO|NOMTREINADOR|\n",
      "+----------+----------------+------------+\n",
      "|URUGUAI   |SA              |DIEGO ALONSO|\n",
      "|TUNÍSIA   |AF              |JALEL KADRI |\n",
      "+----------+----------------+------------+\n",
      "only showing top 2 rows\n",
      "\n"
     ]
    }
   ],
   "source": [
    "dfSelecao = spark.read.csv(arquivoSelecao\n",
    "                            ,header=True\n",
    "                            ,sep=';'\n",
    "                            ,encoding='latin1')\n",
    "\n",
    "dfSelecao.orderBy(F.col('NOMSELECAO').desc()).show(2,truncate=False)\n"
   ]
  },
  {
   "cell_type": "markdown",
   "id": "f71886a6",
   "metadata": {},
   "source": [
    "# 06 - Definindo a Estrutura do DataFrame, Leitura do Arquivo e Ordenando"
   ]
  },
  {
   "cell_type": "code",
   "execution_count": 6,
   "id": "3cab7dcc",
   "metadata": {},
   "outputs": [
    {
     "name": "stdout",
     "output_type": "stream",
     "text": [
      "+----------+----------------+------------+\n",
      "|NomSelecao|DscOrigemSelecao|NomTreinador|\n",
      "+----------+----------------+------------+\n",
      "|URUGUAI   |SA              |DIEGO ALONSO|\n",
      "|TUNÍSIA   |AF              |JALEL KADRI |\n",
      "+----------+----------------+------------+\n",
      "only showing top 2 rows\n",
      "\n"
     ]
    }
   ],
   "source": [
    "\n",
    "schema = StructType() \\\n",
    "      .add(\"NomSelecao\",StringType(),True) \\\n",
    "      .add(\"DscOrigemSelecao\",StringType(),True) \\\n",
    "      .add(\"NomTreinador\",StringType(),True)\n",
    "\n",
    "\n",
    "dfSelecao = spark.read.options(header='True'\n",
    "                                    , inferSchema='False'\n",
    "                                    , delimiter=';'\n",
    "                                    , encoding=\"windows-1252\") \\\n",
    "                                    .schema(schema) \\\n",
    "                                    .csv(arquivoSelecao)\n",
    "\n",
    "\n",
    "dfSelecao.orderBy(F.col('NOMSELECAO').desc()).show(2,truncate=False)"
   ]
  },
  {
   "cell_type": "markdown",
   "id": "db655e0e",
   "metadata": {},
   "source": [
    "# 07 - Criando um TempView (Modelo de Tabela Temporária para ser Manipulada com Linguagem SQL)"
   ]
  },
  {
   "cell_type": "code",
   "execution_count": 7,
   "id": "bc75cbf4",
   "metadata": {},
   "outputs": [],
   "source": [
    "dfSelecao.createOrReplaceTempView('selecao')"
   ]
  },
  {
   "cell_type": "markdown",
   "id": "13c30b06",
   "metadata": {},
   "source": [
    "# 08 - Leitura do DataFrame com Linguagem SQL e Ordenando o Resultado\n",
    "\n",
    "Usando \"as\" para renomear colunas"
   ]
  },
  {
   "cell_type": "code",
   "execution_count": 8,
   "id": "53c97d4e",
   "metadata": {},
   "outputs": [
    {
     "name": "stdout",
     "output_type": "stream",
     "text": [
      "+-----------+----------+------------+\n",
      "|NomeSelecao|Continente|Treinador   |\n",
      "+-----------+----------+------------+\n",
      "|URUGUAI    |SA        |DIEGO ALONSO|\n",
      "|TUNÍSIA    |AF        |JALEL KADRI |\n",
      "+-----------+----------+------------+\n",
      "only showing top 2 rows\n",
      "\n"
     ]
    }
   ],
   "source": [
    "spark.sql(\"\"\"SELECT NomSelecao as NomeSelecao\n",
    "             ,DscOrigemSelecao as Continente\n",
    "             ,NomTreinador as Treinador\n",
    "             FROM selecao\n",
    "             ORDER BY NomSelecao DESC\"\"\").show(2, truncate=False)"
   ]
  },
  {
   "cell_type": "markdown",
   "id": "dceff2c6",
   "metadata": {},
   "source": [
    "# 09 - Leitura do DataFrame com Linguagem SQL e Ordenando o Resultado\n",
    "\n",
    "Não usando \"as\" para renomear colunas"
   ]
  },
  {
   "cell_type": "code",
   "execution_count": 9,
   "id": "132b330d",
   "metadata": {},
   "outputs": [
    {
     "name": "stdout",
     "output_type": "stream",
     "text": [
      "+-----------+----------+------------+\n",
      "|NomeSelecao|Continente|Treinador   |\n",
      "+-----------+----------+------------+\n",
      "|URUGUAI    |SA        |DIEGO ALONSO|\n",
      "|TUNÍSIA    |AF        |JALEL KADRI |\n",
      "+-----------+----------+------------+\n",
      "only showing top 2 rows\n",
      "\n"
     ]
    }
   ],
   "source": [
    "spark.sql(\"\"\"SELECT NomSelecao NomeSelecao\n",
    "             ,DscOrigemSelecao Continente\n",
    "             ,NomTreinador Treinador\n",
    "             FROM selecao\n",
    "             ORDER BY NomSelecao DESC\"\"\").show(2, truncate=False)"
   ]
  },
  {
   "cell_type": "markdown",
   "id": "86a654ea",
   "metadata": {},
   "source": [
    "# 10 - Leitura do DataFrame com Linguagem SQL e Ordenando (sem informa o nome da coluna) o Resultado"
   ]
  },
  {
   "cell_type": "code",
   "execution_count": 10,
   "id": "8c680a2e",
   "metadata": {},
   "outputs": [
    {
     "name": "stdout",
     "output_type": "stream",
     "text": [
      "+-----------+----------+------------+\n",
      "|NomeSelecao|Continente|Treinador   |\n",
      "+-----------+----------+------------+\n",
      "|URUGUAI    |SA        |DIEGO ALONSO|\n",
      "|TUNÍSIA    |AF        |JALEL KADRI |\n",
      "+-----------+----------+------------+\n",
      "only showing top 2 rows\n",
      "\n"
     ]
    }
   ],
   "source": [
    "spark.sql(\"\"\"SELECT NomSelecao as NomeSelecao\n",
    "             ,DscOrigemSelecao as Continente\n",
    "             ,NomTreinador as Treinador\n",
    "             FROM selecao\n",
    "             ORDER BY 1 DESC\"\"\").show(2, truncate=False)"
   ]
  },
  {
   "cell_type": "markdown",
   "id": "6c71fa08",
   "metadata": {},
   "source": [
    "# 11 - Arquivo Para Ser Importado (Arquivo de Jogadores)"
   ]
  },
  {
   "cell_type": "code",
   "execution_count": 11,
   "id": "4bd80b0d",
   "metadata": {},
   "outputs": [],
   "source": [
    "arquivoJogadores = '../BaseDados_Copa_Catar_2022/catar2022_base_jogadores.csv'"
   ]
  },
  {
   "cell_type": "code",
   "execution_count": 12,
   "id": "9feeb372",
   "metadata": {},
   "outputs": [
    {
     "name": "stdout",
     "output_type": "stream",
     "text": [
      "+------------+---------+----------+----------+\n",
      "|  NOMJOGADOR|NUMCAMISA|NOMPOSICAO|NOMSELECAO|\n",
      "+------------+---------+----------+----------+\n",
      "|    AL-SHEEB|        1|       GOL|     CATAR|\n",
      "|PEDRO MIGUEL|        2|       LAD|     CATAR|\n",
      "+------------+---------+----------+----------+\n",
      "only showing top 2 rows\n",
      "\n"
     ]
    }
   ],
   "source": [
    "dfJogadores = spark.read.csv(arquivoJogadores\n",
    "                            ,sep=';'\n",
    "                            ,header=True\n",
    "                            ,encoding='latin1')\n",
    "\n",
    "dfJogadores.show(2)"
   ]
  },
  {
   "cell_type": "markdown",
   "id": "768ca05c",
   "metadata": {},
   "source": [
    "# 12 - Relacionamento entre DataFrames"
   ]
  },
  {
   "cell_type": "code",
   "execution_count": 13,
   "id": "041a8281",
   "metadata": {},
   "outputs": [
    {
     "name": "stdout",
     "output_type": "stream",
     "text": [
      "+----------+----------------+------------+---------+----------+-------------+\n",
      "|NomSelecao|DscOrigemSelecao|  NOMJOGADOR|NUMCAMISA|NOMPOSICAO| NomTreinador|\n",
      "+----------+----------------+------------+---------+----------+-------------+\n",
      "|     CATAR|              AS|    AL-SHEEB|        1|       GOL|FÉLIX SÁNCHEZ|\n",
      "|     CATAR|              AS|PEDRO MIGUEL|        2|       LAD|FÉLIX SÁNCHEZ|\n",
      "+----------+----------------+------------+---------+----------+-------------+\n",
      "only showing top 2 rows\n",
      "\n"
     ]
    }
   ],
   "source": [
    "dfSelecao.join(dfJogadores\n",
    "               ,on=['NOMSELECAO','NOMSELECAO']\n",
    "               ,how='inner')\\\n",
    "                .select(dfSelecao['NomSelecao']\n",
    "                       ,dfSelecao['DscOrigemSelecao']\n",
    "                       ,dfJogadores['NOMJOGADOR']\n",
    "                       ,dfJogadores['NUMCAMISA']\n",
    "                       ,dfJogadores['NOMPOSICAO']\n",
    "                       ,dfSelecao['NomTreinador']).show(2)"
   ]
  },
  {
   "cell_type": "code",
   "execution_count": 14,
   "id": "f72e86a6",
   "metadata": {},
   "outputs": [
    {
     "name": "stdout",
     "output_type": "stream",
     "text": [
      "+----------------+\n",
      "|DscOrigemSelecao|\n",
      "+----------------+\n",
      "|              AS|\n",
      "|              AS|\n",
      "+----------------+\n",
      "only showing top 2 rows\n",
      "\n"
     ]
    }
   ],
   "source": [
    "dfSelecao.join(dfJogadores\n",
    "               ,on=['NOMSELECAO','NOMSELECAO']\n",
    "               ,how='inner')\\\n",
    "                .select('DscOrigemSelecao').show(2)"
   ]
  },
  {
   "cell_type": "code",
   "execution_count": 15,
   "id": "5732321b",
   "metadata": {},
   "outputs": [
    {
     "name": "stdout",
     "output_type": "stream",
     "text": [
      "+----------------+\n",
      "|DscOrigemSelecao|\n",
      "+----------------+\n",
      "|              AS|\n",
      "|              AS|\n",
      "+----------------+\n",
      "only showing top 2 rows\n",
      "\n"
     ]
    }
   ],
   "source": [
    "dfSelecao.join(dfJogadores\n",
    "               ,on=['NOMSELECAO','NOMSELECAO']\n",
    "               ,how='inner')\\\n",
    "                .select(F.col('DscOrigemSelecao')).show(2)"
   ]
  },
  {
   "cell_type": "code",
   "execution_count": 16,
   "id": "645c80ac",
   "metadata": {},
   "outputs": [
    {
     "name": "stdout",
     "output_type": "stream",
     "text": [
      "+----------------+\n",
      "|DscOrigemSelecao|\n",
      "+----------------+\n",
      "|              AS|\n",
      "|              AS|\n",
      "+----------------+\n",
      "only showing top 2 rows\n",
      "\n"
     ]
    }
   ],
   "source": [
    "dfSelecao.join(dfJogadores\n",
    "               ,on=['NOMSELECAO','NOMSELECAO']\n",
    "               ,how='inner')\\\n",
    "                .select(dfSelecao['DscOrigemSelecao']).show(2)"
   ]
  },
  {
   "cell_type": "code",
   "execution_count": 17,
   "id": "799212df",
   "metadata": {},
   "outputs": [],
   "source": [
    "dfJogadores.createOrReplaceTempView('jogador')"
   ]
  },
  {
   "cell_type": "code",
   "execution_count": 18,
   "id": "95678708",
   "metadata": {},
   "outputs": [],
   "source": [
    "import pandas as pd\n",
    "\n",
    "dfSelecaoJogador = spark.sql(\"\"\"\n",
    "SELECT S.NomSelecao\n",
    ",S.DscOrigemSelecao\n",
    ",J.NOMJOGADOR\n",
    ",J.NUMCAMISA\n",
    ",J.NOMPOSICAO\n",
    ",S.NomTreinador \n",
    "FROM selecao S\n",
    "\n",
    "INNER JOIN jogador J\n",
    "\n",
    "ON S.NOMSELECAO = J.NOMSELECAO\n",
    "\n",
    "\"\"\")\n",
    "\n",
    "dfPandasSelecaoJogador = dfSelecaoJogador.toPandas()\n",
    "\n",
    "dfPandasSelecaoJogador.to_csv('../ProjetoSparkKB/Dados/SelecaoJogador.csv', sep=';', index=False, encoding='latin1')"
   ]
  },
  {
   "cell_type": "code",
   "execution_count": 19,
   "id": "13f01236",
   "metadata": {},
   "outputs": [
    {
     "name": "stdout",
     "output_type": "stream",
     "text": [
      "+---------+\n",
      "|namespace|\n",
      "+---------+\n",
      "|  default|\n",
      "+---------+\n",
      "\n"
     ]
    }
   ],
   "source": [
    "spark.sql(\"show databases\").show()"
   ]
  },
  {
   "cell_type": "code",
   "execution_count": 20,
   "id": "395abba9",
   "metadata": {},
   "outputs": [
    {
     "data": {
      "text/html": [
       "<table border='1'>\n",
       "<tr><th></th></tr>\n",
       "</table>\n"
      ],
      "text/plain": [
       "++\n",
       "||\n",
       "++\n",
       "++"
      ]
     },
     "execution_count": 20,
     "metadata": {},
     "output_type": "execute_result"
    }
   ],
   "source": [
    "spark.sql(\"create database dbaassists\")"
   ]
  },
  {
   "cell_type": "code",
   "execution_count": 21,
   "id": "b98b00db",
   "metadata": {},
   "outputs": [
    {
     "name": "stdout",
     "output_type": "stream",
     "text": [
      "+----------+\n",
      "| namespace|\n",
      "+----------+\n",
      "|dbaassists|\n",
      "|   default|\n",
      "+----------+\n",
      "\n"
     ]
    }
   ],
   "source": [
    "spark.sql(\"show databases\").show()"
   ]
  },
  {
   "cell_type": "code",
   "execution_count": 22,
   "id": "e9f6b3fb",
   "metadata": {},
   "outputs": [
    {
     "data": {
      "text/html": [
       "<table border='1'>\n",
       "<tr><th></th></tr>\n",
       "</table>\n"
      ],
      "text/plain": [
       "++\n",
       "||\n",
       "++\n",
       "++"
      ]
     },
     "execution_count": 22,
     "metadata": {},
     "output_type": "execute_result"
    }
   ],
   "source": [
    "spark.sql(\"use dbaassists\")"
   ]
  },
  {
   "cell_type": "code",
   "execution_count": 23,
   "id": "506b5525",
   "metadata": {},
   "outputs": [
    {
     "data": {
      "text/html": [
       "<table border='1'>\n",
       "<tr><th></th></tr>\n",
       "</table>\n"
      ],
      "text/plain": [
       "++\n",
       "||\n",
       "++\n",
       "++"
      ]
     },
     "execution_count": 23,
     "metadata": {},
     "output_type": "execute_result"
    }
   ],
   "source": [
    "spark.sql(\"use default\")"
   ]
  },
  {
   "cell_type": "code",
   "execution_count": 24,
   "id": "d921cce3",
   "metadata": {},
   "outputs": [
    {
     "data": {
      "text/html": [
       "<table border='1'>\n",
       "<tr><th></th></tr>\n",
       "</table>\n"
      ],
      "text/plain": [
       "++\n",
       "||\n",
       "++\n",
       "++"
      ]
     },
     "execution_count": 24,
     "metadata": {},
     "output_type": "execute_result"
    }
   ],
   "source": [
    "spark.sql(\"\"\"DROP TABLE IF EXISTS dbaassists.SelecaoJogador\"\"\")"
   ]
  },
  {
   "cell_type": "code",
   "execution_count": 25,
   "id": "0ced8ba4",
   "metadata": {},
   "outputs": [
    {
     "ename": "AnalysisException",
     "evalue": "Can not create the managed table('`dbaassists`.`SelecaoJogador`'). The associated location('file:/C:/Temp/ProjetoSparkKB/spark-warehouse/dbaassists.db/selecaojogador') already exists.",
     "output_type": "error",
     "traceback": [
      "\u001b[1;31m---------------------------------------------------------------------------\u001b[0m",
      "\u001b[1;31mAnalysisException\u001b[0m                         Traceback (most recent call last)",
      "Input \u001b[1;32mIn [25]\u001b[0m, in \u001b[0;36m<cell line: 1>\u001b[1;34m()\u001b[0m\n\u001b[1;32m----> 1\u001b[0m \u001b[43mdfSelecaoJogador\u001b[49m\u001b[38;5;241;43m.\u001b[39;49m\u001b[43mwrite\u001b[49m\u001b[38;5;241;43m.\u001b[39;49m\u001b[43mmode\u001b[49m\u001b[43m(\u001b[49m\u001b[38;5;124;43m'\u001b[39;49m\u001b[38;5;124;43moverwrite\u001b[39;49m\u001b[38;5;124;43m'\u001b[39;49m\u001b[43m)\u001b[49m\u001b[38;5;241;43m.\u001b[39;49m\u001b[43msaveAsTable\u001b[49m\u001b[43m(\u001b[49m\u001b[38;5;124;43m'\u001b[39;49m\u001b[38;5;124;43mdbaassists.SelecaoJogador\u001b[39;49m\u001b[38;5;124;43m'\u001b[39;49m\u001b[43m)\u001b[49m\n",
      "File \u001b[1;32m~\\AppData\\Roaming\\Python\\Python39\\site-packages\\pyspark\\sql\\readwriter.py:1041\u001b[0m, in \u001b[0;36mDataFrameWriter.saveAsTable\u001b[1;34m(self, name, format, mode, partitionBy, **options)\u001b[0m\n\u001b[0;32m   1039\u001b[0m \u001b[38;5;28;01mif\u001b[39;00m \u001b[38;5;28mformat\u001b[39m \u001b[38;5;129;01mis\u001b[39;00m \u001b[38;5;129;01mnot\u001b[39;00m \u001b[38;5;28;01mNone\u001b[39;00m:\n\u001b[0;32m   1040\u001b[0m     \u001b[38;5;28mself\u001b[39m\u001b[38;5;241m.\u001b[39mformat(\u001b[38;5;28mformat\u001b[39m)\n\u001b[1;32m-> 1041\u001b[0m \u001b[38;5;28;43mself\u001b[39;49m\u001b[38;5;241;43m.\u001b[39;49m\u001b[43m_jwrite\u001b[49m\u001b[38;5;241;43m.\u001b[39;49m\u001b[43msaveAsTable\u001b[49m\u001b[43m(\u001b[49m\u001b[43mname\u001b[49m\u001b[43m)\u001b[49m\n",
      "File \u001b[1;32m~\\AppData\\Roaming\\Python\\Python39\\site-packages\\py4j\\java_gateway.py:1321\u001b[0m, in \u001b[0;36mJavaMember.__call__\u001b[1;34m(self, *args)\u001b[0m\n\u001b[0;32m   1315\u001b[0m command \u001b[38;5;241m=\u001b[39m proto\u001b[38;5;241m.\u001b[39mCALL_COMMAND_NAME \u001b[38;5;241m+\u001b[39m\\\n\u001b[0;32m   1316\u001b[0m     \u001b[38;5;28mself\u001b[39m\u001b[38;5;241m.\u001b[39mcommand_header \u001b[38;5;241m+\u001b[39m\\\n\u001b[0;32m   1317\u001b[0m     args_command \u001b[38;5;241m+\u001b[39m\\\n\u001b[0;32m   1318\u001b[0m     proto\u001b[38;5;241m.\u001b[39mEND_COMMAND_PART\n\u001b[0;32m   1320\u001b[0m answer \u001b[38;5;241m=\u001b[39m \u001b[38;5;28mself\u001b[39m\u001b[38;5;241m.\u001b[39mgateway_client\u001b[38;5;241m.\u001b[39msend_command(command)\n\u001b[1;32m-> 1321\u001b[0m return_value \u001b[38;5;241m=\u001b[39m \u001b[43mget_return_value\u001b[49m\u001b[43m(\u001b[49m\n\u001b[0;32m   1322\u001b[0m \u001b[43m    \u001b[49m\u001b[43manswer\u001b[49m\u001b[43m,\u001b[49m\u001b[43m \u001b[49m\u001b[38;5;28;43mself\u001b[39;49m\u001b[38;5;241;43m.\u001b[39;49m\u001b[43mgateway_client\u001b[49m\u001b[43m,\u001b[49m\u001b[43m \u001b[49m\u001b[38;5;28;43mself\u001b[39;49m\u001b[38;5;241;43m.\u001b[39;49m\u001b[43mtarget_id\u001b[49m\u001b[43m,\u001b[49m\u001b[43m \u001b[49m\u001b[38;5;28;43mself\u001b[39;49m\u001b[38;5;241;43m.\u001b[39;49m\u001b[43mname\u001b[49m\u001b[43m)\u001b[49m\n\u001b[0;32m   1324\u001b[0m \u001b[38;5;28;01mfor\u001b[39;00m temp_arg \u001b[38;5;129;01min\u001b[39;00m temp_args:\n\u001b[0;32m   1325\u001b[0m     temp_arg\u001b[38;5;241m.\u001b[39m_detach()\n",
      "File \u001b[1;32m~\\AppData\\Roaming\\Python\\Python39\\site-packages\\pyspark\\sql\\utils.py:196\u001b[0m, in \u001b[0;36mcapture_sql_exception.<locals>.deco\u001b[1;34m(*a, **kw)\u001b[0m\n\u001b[0;32m    192\u001b[0m converted \u001b[38;5;241m=\u001b[39m convert_exception(e\u001b[38;5;241m.\u001b[39mjava_exception)\n\u001b[0;32m    193\u001b[0m \u001b[38;5;28;01mif\u001b[39;00m \u001b[38;5;129;01mnot\u001b[39;00m \u001b[38;5;28misinstance\u001b[39m(converted, UnknownException):\n\u001b[0;32m    194\u001b[0m     \u001b[38;5;66;03m# Hide where the exception came from that shows a non-Pythonic\u001b[39;00m\n\u001b[0;32m    195\u001b[0m     \u001b[38;5;66;03m# JVM exception message.\u001b[39;00m\n\u001b[1;32m--> 196\u001b[0m     \u001b[38;5;28;01mraise\u001b[39;00m converted \u001b[38;5;28;01mfrom\u001b[39;00m \u001b[38;5;28mNone\u001b[39m\n\u001b[0;32m    197\u001b[0m \u001b[38;5;28;01melse\u001b[39;00m:\n\u001b[0;32m    198\u001b[0m     \u001b[38;5;28;01mraise\u001b[39;00m\n",
      "\u001b[1;31mAnalysisException\u001b[0m: Can not create the managed table('`dbaassists`.`SelecaoJogador`'). The associated location('file:/C:/Temp/ProjetoSparkKB/spark-warehouse/dbaassists.db/selecaojogador') already exists."
     ]
    }
   ],
   "source": [
    "dfSelecaoJogador.write.mode('overwrite').saveAsTable('dbaassists.SelecaoJogador')"
   ]
  },
  {
   "cell_type": "code",
   "execution_count": null,
   "id": "7fd24674",
   "metadata": {},
   "outputs": [],
   "source": [
    "spark.sql(\"show tables\")"
   ]
  },
  {
   "cell_type": "code",
   "execution_count": null,
   "id": "3cc7fc25",
   "metadata": {},
   "outputs": [],
   "source": [
    "data2 = [(\"James\",\"\",\"Smith\",\"36636\",\"M\",3000),\n",
    "    (\"Michael\",\"Rose\",\"\",\"40288\",\"M\",4000),\n",
    "    (\"Robert\",\"\",\"Williams\",\"42114\",\"M\",4000),\n",
    "    (\"Maria\",\"Anne\",\"Jones\",\"39192\",\"F\",4000),\n",
    "    (\"Jen\",\"Mary\",\"Brown\",\"\",\"F\",-1)\n",
    "  ]\n",
    "\n",
    "schema = StructType([ \\\n",
    "    StructField(\"firstname\",StringType(),True), \\\n",
    "    StructField(\"middlename\",StringType(),True), \\\n",
    "    StructField(\"lastname\",StringType(),True), \\\n",
    "    StructField(\"id\", StringType(), True), \\\n",
    "    StructField(\"gender\", StringType(), True), \\\n",
    "    StructField(\"salary\", IntegerType(), True) \\\n",
    "  ])\n",
    " \n",
    "dfteste = spark.createDataFrame(data=data2,schema=schema)\n",
    "dfteste.printSchema()\n",
    "dfteste.show()"
   ]
  },
  {
   "cell_type": "code",
   "execution_count": null,
   "id": "b629649d",
   "metadata": {},
   "outputs": [],
   "source": [
    "spark.sql('SELECT * FROM dbaassists.SelecaoJogador')"
   ]
  },
  {
   "cell_type": "code",
   "execution_count": null,
   "id": "756ed08b",
   "metadata": {},
   "outputs": [],
   "source": [
    "spark.sql('desc dbaassists.SelecaoJogador')"
   ]
  },
  {
   "cell_type": "code",
   "execution_count": null,
   "id": "ac893ad9",
   "metadata": {},
   "outputs": [],
   "source": [
    "spark.sql('''\n",
    "SELECT NOMPOSICAO , COUNT(1) TOTAL\n",
    "FROM dbaassists.SelecaoJogador\n",
    "GROUP BY NOMPOSICAO \n",
    "ORDER BY 2 DESC\n",
    "''')"
   ]
  },
  {
   "cell_type": "code",
   "execution_count": null,
   "id": "3bb12740",
   "metadata": {},
   "outputs": [],
   "source": [
    "spark.sql('''\n",
    "DELETE\n",
    "FROM dbaassists.SelecaoJogador\n",
    "WHERE NOMPOSICAO = 'ATA'\n",
    "''')"
   ]
  }
 ],
 "metadata": {
  "kernelspec": {
   "display_name": "Python 3 (ipykernel)",
   "language": "python",
   "name": "python3"
  },
  "language_info": {
   "codemirror_mode": {
    "name": "ipython",
    "version": 3
   },
   "file_extension": ".py",
   "mimetype": "text/x-python",
   "name": "python",
   "nbconvert_exporter": "python",
   "pygments_lexer": "ipython3",
   "version": "3.9.12"
  }
 },
 "nbformat": 4,
 "nbformat_minor": 5
}
